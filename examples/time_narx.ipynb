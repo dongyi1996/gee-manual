{
 "metadata": {
  "language_info": {
   "codemirror_mode": {
    "name": "ipython",
    "version": 3
   },
   "file_extension": ".py",
   "mimetype": "text/x-python",
   "name": "python",
   "nbconvert_exporter": "python",
   "pygments_lexer": "ipython3",
   "version": "3.8.5"
  },
  "orig_nbformat": 4,
  "kernelspec": {
   "name": "python3",
   "display_name": "Python 3.8.5 64-bit ('gee-env': venv)"
  },
  "interpreter": {
   "hash": "771c8809e15e4191543b97e613b9aad8fd3df0f30d9e8f7f36206efe6445782d"
  }
 },
 "nbformat": 4,
 "nbformat_minor": 2,
 "cells": [
  {
   "cell_type": "code",
   "execution_count": 1,
   "metadata": {},
   "outputs": [],
   "source": [
    "from pyneurgen.neuralnet import NeuralNet\n",
    "from pyneurgen.recurrent import NARXRecurrent\n",
    "import numpy as np"
   ]
  },
  {
   "cell_type": "code",
   "execution_count": 2,
   "metadata": {},
   "outputs": [],
   "source": [
    "def Weierstrass_at_x(a, b, x, n):\n",
    "    suma = 0\n",
    "    a_i = 1\n",
    "    b_ix = np.pi*x\n",
    "    for i in range(n):\n",
    "        suma = suma + a_i*np.cos(b_ix)\n",
    "        a_i = a_i*a\n",
    "        b_ix = b_ix*b\n",
    "    return suma\n",
    "    \n",
    "def Weierstrass(a, b, arr, n = 100):\n",
    "    return np.array(list(map(lambda x: Weierstrass_at_x(a, b, x, n), arr)))\n",
    "    \n",
    "def simpleWeierstrassTimeSeries(arr):\n",
    "    a = np.random.uniform(0.1, 1)\n",
    "    b = np.random.randint(7, 1000)\n",
    "    while(True):\n",
    "        if (b%2 == 1 or a*b > 1 + 3/2*np.pi):\n",
    "            break\n",
    "    return Weierstrass(a, b, arr)"
   ]
  },
  {
   "cell_type": "code",
   "execution_count": 3,
   "metadata": {},
   "outputs": [],
   "source": [
    "#data\n",
    "X = np.linspace(0, 10.0, num=10001)\n",
    "Y = simpleWeierstrassTimeSeries(X)\n",
    "Y = Y.reshape(-1, 1)"
   ]
  },
  {
   "cell_type": "code",
   "execution_count": 4,
   "metadata": {},
   "outputs": [
    {
     "output_type": "execute_result",
     "data": {
      "text/plain": [
       "array([81.94260866])"
      ]
     },
     "metadata": {},
     "execution_count": 4
    }
   ],
   "source": [
    "Y[:-1][0]"
   ]
  },
  {
   "cell_type": "code",
   "execution_count": 5,
   "metadata": {},
   "outputs": [
    {
     "output_type": "execute_result",
     "data": {
      "text/plain": [
       "array([[-0.0621477 ],\n",
       "       [ 1.74122488],\n",
       "       [-6.20048411],\n",
       "       ...,\n",
       "       [12.47056083],\n",
       "       [-1.13861703],\n",
       "       [ 4.62431388]])"
      ]
     },
     "metadata": {},
     "execution_count": 5
    }
   ],
   "source": [
    "Y[1:]"
   ]
  },
  {
   "cell_type": "code",
   "execution_count": 6,
   "metadata": {},
   "outputs": [
    {
     "output_type": "stream",
     "name": "stdout",
     "text": [
      "0.49154401764639205\n",
      "epoch: 0 MSE: 0.15141154770512608\n",
      "epoch: 1 MSE: 0.11569454443455436\n",
      "epoch: 2 MSE: 0.11125887443349716\n",
      "epoch: 3 MSE: 0.10786247831146101\n",
      "epoch: 4 MSE: 0.10849583772839472\n",
      "2.1522487591174793\n"
     ]
    }
   ],
   "source": [
    "input_nodes = 1\n",
    "hidden_nodes = 5\n",
    "output_nodes = 1\n",
    "\n",
    "output_order = 20\n",
    "incoming_weight_from_output = .5\n",
    "input_order = 20\n",
    "incoming_weight_from_input = .5\n",
    "\n",
    "net = NeuralNet()\n",
    "net.init_layers(input_nodes, [hidden_nodes], output_nodes,\n",
    "        NARXRecurrent(\n",
    "            output_order,\n",
    "            incoming_weight_from_output,\n",
    "            input_order,\n",
    "            incoming_weight_from_input))\n",
    "\n",
    "net.randomize_network()\n",
    "\n",
    "X = np.linspace(0, 10.0, num=10001)\n",
    "Y = simpleWeierstrassTimeSeries(X)\n",
    "Y = Y.reshape(-1, 1)\n",
    "\n",
    "net.set_all_inputs(Y[:-1]) \n",
    "net.set_all_targets(Y[1:])\n",
    "\n",
    "net.set_learn_range(0, 8000)\n",
    "net.set_test_range(8000, 9999)"
   ]
  },
  {
   "cell_type": "code",
   "execution_count": 7,
   "metadata": {},
   "outputs": [
    {
     "output_type": "stream",
     "name": "stdout",
     "text": [
      "epoch: 0 MSE: 0.11343867627896115\n",
      "epoch: 1 MSE: 0.11582044530989892\n",
      "epoch: 2 MSE: 0.10972473905268351\n",
      "epoch: 3 MSE: 0.10503511561903245\n",
      "epoch: 4 MSE: 0.1016654652575852\n",
      "epoch: 5 MSE: 0.09880619279207098\n",
      "epoch: 6 MSE: 0.09615524230997402\n",
      "epoch: 7 MSE: 0.0931965724873647\n",
      "epoch: 8 MSE: 0.09034356222289246\n",
      "epoch: 9 MSE: 0.08754986854460853\n",
      "epoch: 10 MSE: 0.08571138169274498\n",
      "epoch: 11 MSE: 0.0844408227155293\n",
      "epoch: 12 MSE: 0.08312698432528738\n",
      "epoch: 13 MSE: 0.08190548340879363\n",
      "epoch: 14 MSE: 0.08081723112055694\n",
      "epoch: 15 MSE: 0.07980591307731114\n",
      "epoch: 16 MSE: 0.07885413771221646\n",
      "epoch: 17 MSE: 0.07796314835927443\n",
      "epoch: 18 MSE: 0.07712884442583895\n",
      "epoch: 19 MSE: 0.07634640734785218\n",
      "epoch: 20 MSE: 0.07561244020158378\n",
      "epoch: 21 MSE: 0.0749246187719356\n",
      "epoch: 22 MSE: 0.07428106717595974\n",
      "epoch: 23 MSE: 0.07367983243883197\n",
      "epoch: 24 MSE: 0.07311850338222378\n",
      "epoch: 25 MSE: 0.07259401332780238\n",
      "epoch: 26 MSE: 0.07210267079121958\n",
      "epoch: 27 MSE: 0.07164039699127102\n",
      "epoch: 28 MSE: 0.0712026866158429\n",
      "epoch: 29 MSE: 0.070783812933356\n",
      "epoch: 30 MSE: 0.07037475857614171\n",
      "epoch: 31 MSE: 0.0699035959544941\n",
      "epoch: 32 MSE: 0.0695633408962822\n",
      "epoch: 33 MSE: 0.06925695555582635\n",
      "epoch: 34 MSE: 0.06894340995035239\n",
      "epoch: 35 MSE: 0.06863275201566758\n",
      "epoch: 36 MSE: 0.06832894712203931\n",
      "epoch: 37 MSE: 0.06803384909902499\n",
      "epoch: 38 MSE: 0.06774892939681111\n",
      "epoch: 39 MSE: 0.06747345630839781\n",
      "epoch: 40 MSE: 0.067204573744431\n",
      "epoch: 41 MSE: 0.06693980838657201\n",
      "epoch: 42 MSE: 0.06665984189191326\n",
      "epoch: 43 MSE: 0.0663617179970987\n",
      "epoch: 44 MSE: 0.06616069590526276\n",
      "epoch: 45 MSE: 0.06596931388168033\n",
      "epoch: 46 MSE: 0.06578461165416531\n",
      "epoch: 47 MSE: 0.06560312663461952\n",
      "epoch: 48 MSE: 0.06542726310821756\n",
      "epoch: 49 MSE: 0.06525769972762857\n",
      "epoch: 50 MSE: 0.06509429907907001\n",
      "epoch: 51 MSE: 0.06493669123412074\n",
      "epoch: 52 MSE: 0.06478440485427776\n",
      "epoch: 53 MSE: 0.06463683654785063\n",
      "epoch: 54 MSE: 0.0644932202645546\n",
      "epoch: 55 MSE: 0.06435268765427274\n",
      "epoch: 56 MSE: 0.06421442885655304\n",
      "epoch: 57 MSE: 0.06407787314488982\n",
      "epoch: 58 MSE: 0.06394277976012504\n",
      "epoch: 59 MSE: 0.06380918968223702\n",
      "epoch: 60 MSE: 0.06367728340705811\n",
      "epoch: 61 MSE: 0.06354723527466871\n",
      "epoch: 62 MSE: 0.06341912671786949\n",
      "epoch: 63 MSE: 0.06329292581673095\n",
      "epoch: 64 MSE: 0.06316850848702828\n",
      "epoch: 65 MSE: 0.06304569431717048\n",
      "epoch: 66 MSE: 0.06292428047239909\n",
      "epoch: 67 MSE: 0.0628040671183832\n",
      "epoch: 68 MSE: 0.06268487368072603\n",
      "epoch: 69 MSE: 0.06256654762422512\n",
      "epoch: 70 MSE: 0.062448967876325534\n",
      "epoch: 71 MSE: 0.06233204471765597\n",
      "epoch: 72 MSE: 0.06221571751592836\n",
      "epoch: 73 MSE: 0.06209995129070523\n",
      "epoch: 74 MSE: 0.0619847327961862\n",
      "epoch: 75 MSE: 0.061870066580356056\n",
      "epoch: 76 MSE: 0.061755971302277085\n",
      "epoch: 77 MSE: 0.061642476453555625\n",
      "epoch: 78 MSE: 0.06152961953052903\n",
      "epoch: 79 MSE: 0.06141744363923653\n",
      "epoch: 80 MSE: 0.06130599548388048\n",
      "epoch: 81 MSE: 0.0611953236855239\n",
      "epoch: 82 MSE: 0.06108547739168762\n",
      "epoch: 83 MSE: 0.06097650515746706\n",
      "epoch: 84 MSE: 0.060868454094436975\n",
      "epoch: 85 MSE: 0.060761369288648504\n",
      "epoch: 86 MSE: 0.06065529348252351\n",
      "epoch: 87 MSE: 0.060550267000667596\n",
      "epoch: 88 MSE: 0.060446327882079\n",
      "epoch: 89 MSE: 0.06034351216601755\n",
      "epoch: 90 MSE: 0.060241854269278076\n",
      "epoch: 91 MSE: 0.060141387389718436\n",
      "epoch: 92 MSE: 0.06004214387365378\n",
      "epoch: 93 MSE: 0.05994415549127206\n",
      "epoch: 94 MSE: 0.05984745357289078\n",
      "epoch: 95 MSE: 0.05975206896894001\n",
      "epoch: 96 MSE: 0.05965803180867447\n",
      "epoch: 97 MSE: 0.059565371047975144\n",
      "epoch: 98 MSE: 0.05947411381620841\n",
      "epoch: 99 MSE: 0.05938428459523064\n",
      "epoch: 100 MSE: 0.059295904287113135\n",
      "epoch: 101 MSE: 0.059208989245860745\n",
      "epoch: 102 MSE: 0.05912355035661419\n",
      "epoch: 103 MSE: 0.05903959223994294\n",
      "epoch: 104 MSE: 0.05895711263941871\n",
      "epoch: 105 MSE: 0.05887610202287632\n",
      "epoch: 106 MSE: 0.05879654339998146\n",
      "epoch: 107 MSE: 0.05871841233915963\n",
      "epoch: 108 MSE: 0.058641677160410355\n",
      "epoch: 109 MSE: 0.05856629928636467\n",
      "epoch: 110 MSE: 0.058492233746374\n",
      "epoch: 111 MSE: 0.0584194298391093\n",
      "epoch: 112 MSE: 0.05834783196062966\n",
      "epoch: 113 MSE: 0.05827738059401807\n",
      "epoch: 114 MSE: 0.058208013435760465\n",
      "epoch: 115 MSE: 0.058139666610369935\n",
      "epoch: 116 MSE: 0.058072275907646416\n",
      "epoch: 117 MSE: 0.05800577797428553\n",
      "epoch: 118 MSE: 0.057940111406679054\n",
      "epoch: 119 MSE: 0.057875217722102384\n",
      "epoch: 120 MSE: 0.05781104222324153\n",
      "epoch: 121 MSE: 0.05774753480528765\n",
      "epoch: 122 MSE: 0.05768465077443343\n",
      "epoch: 123 MSE: 0.05762235174226127\n",
      "epoch: 124 MSE: 0.0575606066260081\n",
      "test mse =  35.28912241110445\n"
     ]
    },
    {
     "output_type": "error",
     "ename": "IndexError",
     "evalue": "index 1 is out of bounds for axis 0 with size 1",
     "traceback": [
      "\u001b[0;31m---------------------------------------------------------------------------\u001b[0m",
      "\u001b[0;31mIndexError\u001b[0m                                Traceback (most recent call last)",
      "\u001b[0;32m<ipython-input-7-47c96001472c>\u001b[0m in \u001b[0;36m<module>\u001b[0;34m\u001b[0m\n\u001b[1;32m      5\u001b[0m \u001b[0mprint\u001b[0m\u001b[0;34m(\u001b[0m\u001b[0;34m\"test mse = \"\u001b[0m\u001b[0;34m,\u001b[0m \u001b[0mmse\u001b[0m\u001b[0;34m)\u001b[0m\u001b[0;34m\u001b[0m\u001b[0;34m\u001b[0m\u001b[0m\n\u001b[1;32m      6\u001b[0m \u001b[0;34m\u001b[0m\u001b[0m\n\u001b[0;32m----> 7\u001b[0;31m \u001b[0mtest_positions\u001b[0m \u001b[0;34m=\u001b[0m \u001b[0;34m[\u001b[0m\u001b[0mitem\u001b[0m\u001b[0;34m[\u001b[0m\u001b[0;36m0\u001b[0m\u001b[0;34m]\u001b[0m\u001b[0;34m[\u001b[0m\u001b[0;36m1\u001b[0m\u001b[0;34m]\u001b[0m \u001b[0;34m*\u001b[0m \u001b[0;36m1000.0\u001b[0m \u001b[0;32mfor\u001b[0m \u001b[0mitem\u001b[0m \u001b[0;32min\u001b[0m \u001b[0mnet\u001b[0m\u001b[0;34m.\u001b[0m\u001b[0mget_test_data\u001b[0m\u001b[0;34m(\u001b[0m\u001b[0;34m)\u001b[0m\u001b[0;34m]\u001b[0m\u001b[0;34m\u001b[0m\u001b[0;34m\u001b[0m\u001b[0m\n\u001b[0m\u001b[1;32m      8\u001b[0m \u001b[0;34m\u001b[0m\u001b[0m\n\u001b[1;32m      9\u001b[0m \u001b[0mall_targets1\u001b[0m \u001b[0;34m=\u001b[0m \u001b[0;34m[\u001b[0m\u001b[0mitem\u001b[0m\u001b[0;34m[\u001b[0m\u001b[0;36m0\u001b[0m\u001b[0;34m]\u001b[0m\u001b[0;34m[\u001b[0m\u001b[0;36m0\u001b[0m\u001b[0;34m]\u001b[0m \u001b[0;32mfor\u001b[0m \u001b[0mitem\u001b[0m \u001b[0;32min\u001b[0m \u001b[0mnet\u001b[0m\u001b[0;34m.\u001b[0m\u001b[0mtest_targets_activations\u001b[0m\u001b[0;34m]\u001b[0m\u001b[0;34m\u001b[0m\u001b[0;34m\u001b[0m\u001b[0m\n",
      "\u001b[0;32m<ipython-input-7-47c96001472c>\u001b[0m in \u001b[0;36m<listcomp>\u001b[0;34m(.0)\u001b[0m\n\u001b[1;32m      5\u001b[0m \u001b[0mprint\u001b[0m\u001b[0;34m(\u001b[0m\u001b[0;34m\"test mse = \"\u001b[0m\u001b[0;34m,\u001b[0m \u001b[0mmse\u001b[0m\u001b[0;34m)\u001b[0m\u001b[0;34m\u001b[0m\u001b[0;34m\u001b[0m\u001b[0m\n\u001b[1;32m      6\u001b[0m \u001b[0;34m\u001b[0m\u001b[0m\n\u001b[0;32m----> 7\u001b[0;31m \u001b[0mtest_positions\u001b[0m \u001b[0;34m=\u001b[0m \u001b[0;34m[\u001b[0m\u001b[0mitem\u001b[0m\u001b[0;34m[\u001b[0m\u001b[0;36m0\u001b[0m\u001b[0;34m]\u001b[0m\u001b[0;34m[\u001b[0m\u001b[0;36m1\u001b[0m\u001b[0;34m]\u001b[0m \u001b[0;34m*\u001b[0m \u001b[0;36m1000.0\u001b[0m \u001b[0;32mfor\u001b[0m \u001b[0mitem\u001b[0m \u001b[0;32min\u001b[0m \u001b[0mnet\u001b[0m\u001b[0;34m.\u001b[0m\u001b[0mget_test_data\u001b[0m\u001b[0;34m(\u001b[0m\u001b[0;34m)\u001b[0m\u001b[0;34m]\u001b[0m\u001b[0;34m\u001b[0m\u001b[0;34m\u001b[0m\u001b[0m\n\u001b[0m\u001b[1;32m      8\u001b[0m \u001b[0;34m\u001b[0m\u001b[0m\n\u001b[1;32m      9\u001b[0m \u001b[0mall_targets1\u001b[0m \u001b[0;34m=\u001b[0m \u001b[0;34m[\u001b[0m\u001b[0mitem\u001b[0m\u001b[0;34m[\u001b[0m\u001b[0;36m0\u001b[0m\u001b[0;34m]\u001b[0m\u001b[0;34m[\u001b[0m\u001b[0;36m0\u001b[0m\u001b[0;34m]\u001b[0m \u001b[0;32mfor\u001b[0m \u001b[0mitem\u001b[0m \u001b[0;32min\u001b[0m \u001b[0mnet\u001b[0m\u001b[0;34m.\u001b[0m\u001b[0mtest_targets_activations\u001b[0m\u001b[0;34m]\u001b[0m\u001b[0;34m\u001b[0m\u001b[0;34m\u001b[0m\u001b[0m\n",
      "\u001b[0;31mIndexError\u001b[0m: index 1 is out of bounds for axis 0 with size 1"
     ]
    }
   ],
   "source": [
    "net.learn(epochs=125, show_epoch_results=True,\n",
    "          random_testing=False)\n",
    "\n",
    "mse = net.test()\n",
    "print(\"test mse = \", mse)\n",
    "\n",
    "test_positions = [item[0][1] * 1000.0 for item in net.get_test_data()]\n",
    "\n",
    "all_targets1 = [item[0][0] for item in net.test_targets_activations]\n",
    "allactuals = [item[1][0] for item in net.test_targets_activations]"
   ]
  }
 ]
}