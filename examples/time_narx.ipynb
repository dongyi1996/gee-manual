{
 "metadata": {
  "language_info": {
   "codemirror_mode": {
    "name": "ipython",
    "version": 3
   },
   "file_extension": ".py",
   "mimetype": "text/x-python",
   "name": "python",
   "nbconvert_exporter": "python",
   "pygments_lexer": "ipython3",
   "version": "3.8.5"
  },
  "orig_nbformat": 4,
  "kernelspec": {
   "name": "python3",
   "display_name": "Python 3.8.5 64-bit ('gee-env': venv)"
  },
  "interpreter": {
   "hash": "771c8809e15e4191543b97e613b9aad8fd3df0f30d9e8f7f36206efe6445782d"
  }
 },
 "nbformat": 4,
 "nbformat_minor": 2,
 "cells": [
  {
   "cell_type": "code",
   "execution_count": 1,
   "metadata": {},
   "outputs": [],
   "source": [
    "from pyneurgen.neuralnet import NeuralNet\n",
    "from pyneurgen.recurrent import NARXRecurrent\n",
    "import numpy as np"
   ]
  },
  {
   "cell_type": "code",
   "execution_count": 19,
   "metadata": {},
   "outputs": [],
   "source": [
    "def Weierstrass_at_x(a, b, x, n):\n",
    "    suma = 0\n",
    "    a_i = 1\n",
    "    b_ix = np.pi*x\n",
    "    for i in range(n):\n",
    "        suma = suma + a_i*np.cos(b_ix)\n",
    "        a_i = a_i*a\n",
    "        b_ix = b_ix*b\n",
    "    return suma\n",
    "    \n",
    "def Weierstrass(a, b, arr, n = 100):\n",
    "    return np.array(list(map(lambda x: Weierstrass_at_x(a, b, x, n), arr)))\n",
    "    \n",
    "def simpleWeierstrassTimeSeries(arr):\n",
    "    a = np.random.uniform(0.1, 1)\n",
    "    b = np.random.randint(7, 1000)\n",
    "    while(True):\n",
    "        if (b%2 == 1 or a*b > 1 + 3/2*np.pi):\n",
    "            break\n",
    "    return Weierstrass(a, b, arr)"
   ]
  },
  {
   "cell_type": "code",
   "execution_count": 20,
   "metadata": {},
   "outputs": [],
   "source": [
    "#data\n",
    "X = np.linspace(0, 10.0, num=10001)\n",
    "Y = simpleWeierstrassTimeSeries(X)\n",
    "Y = Y.reshape(-1, 1)"
   ]
  },
  {
   "cell_type": "code",
   "execution_count": 24,
   "metadata": {},
   "outputs": [
    {
     "output_type": "execute_result",
     "data": {
      "text/plain": [
       "array([3.66190583])"
      ]
     },
     "metadata": {},
     "execution_count": 24
    }
   ],
   "source": [
    "Y[:-1][0]"
   ]
  },
  {
   "cell_type": "code",
   "execution_count": 31,
   "metadata": {},
   "outputs": [
    {
     "output_type": "execute_result",
     "data": {
      "text/plain": [
       "array([[2.68478708]])"
      ]
     },
     "metadata": {},
     "execution_count": 31
    }
   ],
   "source": [
    "Y[1:]"
   ]
  },
  {
   "cell_type": "code",
   "execution_count": 33,
   "metadata": {},
   "outputs": [
    {
     "output_type": "stream",
     "name": "stdout",
     "text": [
      "0.24174003943948963\n",
      "epoch: 0 MSE: 0.004692846840351223\n",
      "epoch: 1 MSE: 0.0018283261355763502\n",
      "epoch: 2 MSE: 0.0005904891823621599\n",
      "epoch: 3 MSE: 0.00044776699823918456\n",
      "epoch: 4 MSE: 0.0004266462515523887\n",
      "1.4288063823075519\n"
     ]
    }
   ],
   "source": [
    "input_nodes = 1\n",
    "hidden_nodes = 5\n",
    "output_nodes = 1\n",
    "\n",
    "output_order = 20\n",
    "incoming_weight_from_output = .5\n",
    "input_order = 20\n",
    "incoming_weight_from_input = .5\n",
    "\n",
    "net = NeuralNet()\n",
    "net.init_layers(input_nodes, [hidden_nodes], output_nodes,\n",
    "        NARXRecurrent(\n",
    "            output_order,\n",
    "            incoming_weight_from_output,\n",
    "            input_order,\n",
    "            incoming_weight_from_input))\n",
    "\n",
    "net.randomize_network()\n",
    "\n",
    "X = np.linspace(0, 10.0, num=10001)\n",
    "Y = simpleWeierstrassTimeSeries(X)\n",
    "Y = Y.reshape(-1, 1)\n",
    "\n",
    "net.set_all_inputs(Y[:-1]) \n",
    "net.set_all_targets(Y[1:])\n",
    "\n",
    "net.set_learn_range(0, 8000)\n",
    "net.set_test_range(8000, 9999)\n",
    "\n",
    "print( net.test() )\n",
    "net.learn(epochs=5)\n",
    "print( net.test() )"
   ]
  }
 ]
}