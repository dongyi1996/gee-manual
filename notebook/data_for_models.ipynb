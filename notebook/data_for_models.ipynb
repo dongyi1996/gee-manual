{
 "metadata": {
  "language_info": {
   "codemirror_mode": {
    "name": "ipython",
    "version": 3
   },
   "file_extension": ".py",
   "mimetype": "text/x-python",
   "name": "python",
   "nbconvert_exporter": "python",
   "pygments_lexer": "ipython3",
   "version": "3.8.5"
  },
  "orig_nbformat": 2,
  "kernelspec": {
   "name": "python3",
   "display_name": "Python 3.8.5 64-bit ('gee-env': venv)"
  },
  "interpreter": {
   "hash": "771c8809e15e4191543b97e613b9aad8fd3df0f30d9e8f7f36206efe6445782d"
  }
 },
 "nbformat": 4,
 "nbformat_minor": 2,
 "cells": [
  {
   "source": [
    "#### Descargando la data \n",
    "\n",
    "Descargando los datos para el entrenamiento de los modelos."
   ],
   "cell_type": "markdown",
   "metadata": {}
  },
  {
   "source": [
    "#### Módulos"
   ],
   "cell_type": "markdown",
   "metadata": {}
  },
  {
   "cell_type": "code",
   "execution_count": 256,
   "metadata": {},
   "outputs": [],
   "source": [
    "# Módulos\n",
    "import ee\n",
    "import folium\n",
    "import geehydro"
   ]
  },
  {
   "cell_type": "code",
   "execution_count": 257,
   "metadata": {},
   "outputs": [],
   "source": [
    "# Inicio de API\n",
    "ee.Initialize()"
   ]
  },
  {
   "source": [
    "#### Función generateGreedForGeometry"
   ],
   "cell_type": "markdown",
   "metadata": {}
  },
  {
   "cell_type": "code",
   "execution_count": 258,
   "metadata": {},
   "outputs": [],
   "source": [
    "#funcion para la generacion de grillas\n",
    "def generateGreedForGeometry(geom,dx,dy):\n",
    "    \"\"\"\n",
    "    Función para generar grillas partiendo de una zona geográfica.\n",
    "    \"\"\"\n",
    "\n",
    "    bounds = ee.Geometry(geom).bounds()\n",
    "    coords = ee.List(bounds.coordinates().get(0))\n",
    "    ll = ee.List(coords.get(0))\n",
    "    ur = ee.List(coords.get(2))\n",
    "    xmin = ll.get(0)\n",
    "    xmax = ur.get(0)\n",
    "    ymin = ll.get(1)\n",
    "    ymax = ur.get(1)\n",
    "\n",
    "    xx = ee.List.sequence(xmin, xmax, dx)\n",
    "    yy = ee.List.sequence(ymin, ymax, dy)\n",
    "\n",
    "    #************************************\n",
    "    def contYYa(y,x,dx,dy):\n",
    "\n",
    "        x1 = ee.Number(x)\n",
    "        x2 = ee.Number(x).add(ee.Number(dx))\n",
    "        y1 = ee.Number(y)\n",
    "        y2 = ee.Number(y).add(ee.Number(dy))\n",
    "\n",
    "        coords = ee.List([x1, y1, x2, y2])\n",
    "        rect = ee.Algorithms.GeometryConstructors.Rectangle(coords)\n",
    "\n",
    "        return ee.Feature(rect)\n",
    "\n",
    "    def contYY(x):\n",
    "        return yy.map(lambda yi: contYYa(y=yi,x=x,dx=dx,dy=dy) )\n",
    "    #************************************\n",
    "\n",
    "    cells = xx.map(contYY).flatten() \n",
    "\n",
    "    return ee.FeatureCollection(cells).filterBounds(geom)#.map(lambda c: ee.Feature(c).intersection(geom) )"
   ]
  },
  {
   "source": [
    "#### Ejemplo"
   ],
   "cell_type": "markdown",
   "metadata": {}
  },
  {
   "cell_type": "code",
   "execution_count": 259,
   "metadata": {},
   "outputs": [
    {
     "output_type": "stream",
     "name": "stdout",
     "text": [
      "área del parque Km2:  3629.434345090513\n",
      "área de cuadricula Km2:  100.9365181750428\n",
      "número de centroides:  74\n"
     ]
    }
   ],
   "source": [
    "#----------------------------------------------\n",
    "# Seleccion del parque\n",
    "#----------------------------------------------\n",
    "\n",
    "# region\n",
    "polygonCollection = 'WCMC/WDPA/current/polygons'\n",
    "polygonName = 'Cerro Saroche'#'Canaima National Park'#'Guatopo'\n",
    "\n",
    "# poligono\n",
    "polygon = ee.FeatureCollection(polygonCollection) \\\n",
    "            .filter(ee.Filter.eq('NAME', polygonName))\n",
    "\n",
    "\n",
    "# geometria\n",
    "state = polygon.geometry()\n",
    "dx = 0.0288\n",
    "dy = 0.0288\n",
    "\n",
    "# creando grilla\n",
    "greed = generateGreedForGeometry(state,dx,dy)\n",
    "centroide = state.centroid().coordinates().getInfo()[::-1]\n",
    "\n",
    "def getCentroid(feature):\n",
    "    keepProperties = ['name', 'huc6', 'tnmid', 'areasqkm']\n",
    "    centroid = feature.geometry().centroid()\n",
    "    return ee.Feature(centroid).copyProperties(feature, keepProperties)\n",
    "\n",
    "#centroides\n",
    "centroids = greed.map(getCentroid)\n",
    "\n",
    "print('área del parque Km2: ', 0.1*polygon.first().geometry().area().divide(100*100).getInfo() ) \n",
    "print('área de cuadricula Km2: ', 0.1*greed.first().geometry().area().divide(100*100).getInfo() )\n",
    "print('número de centroides: ', centroids.size().getInfo())"
   ]
  },
  {
   "source": [
    "#### data ECMWF/ERA5/MONTHLY"
   ],
   "cell_type": "markdown",
   "metadata": {}
  },
  {
   "cell_type": "code",
   "execution_count": 260,
   "metadata": {},
   "outputs": [],
   "source": [
    "#https://confluence.ecmwf.int/display/CKB/ERA5%3A+What+is+the+spatial+reference#ERA5:Whatisthespatialreference-5Gridgeometry\n",
    "import numpy as np\n",
    "from shapely.geometry import MultiLineString, MultiPoint\n",
    "from shapely.ops import polygonize\n",
    "\n",
    "dx = 0.25\n",
    "dy = 0.25\n",
    "\n",
    "# generando grilla\n",
    "x = np.arange(-180.0 + dx, 180.0 + dx, dx)\n",
    "y = np.arange(-90.0 + dy, 90.0 + dy, dy)\n",
    "\n",
    "hlines = [((x1, yi), (x2, yi)) for x1, x2 in zip(x[:-1], x[1:]) for yi in y]\n",
    "vlines = [((xi, y1), (xi, y2)) for y1, y2 in zip(y[:-1], y[1:]) for xi in x]\n",
    "\n",
    "# grillas\n",
    "grids = list(polygonize(MultiLineString(hlines + vlines)))\n",
    "\n",
    "# creando poligonops\n",
    "google_poligon = ee.Geometry(polygon.geometry()).bounds().coordinates().get(0).getInfo()\n",
    "poligono = Polygon(list(map(lambda x: tuple(x), google_poligon)))\n",
    "\n",
    "# interseccion\n",
    "intersection = list(map(lambda y: y if poligono.intersection(y) else None,grids))\n",
    "\n",
    "# poligonos en area\n",
    "poligono_ECMWF = [x for x in list(filter(None,intersection))]\n",
    "\n",
    "# creando lista de centroides\n",
    "lista_ = ee.List([np.array(x.centroid.coords).tolist()[0] for x in poligono_ECMWF])\n",
    "centroides_ECMWF = ee.FeatureCollection(lista_.map( lambda x: ee.Feature(ee.Geometry.Point(x,proj='EPSG:4326'),{'id':lista_.indexOf(x)}) ))"
   ]
  },
  {
   "cell_type": "code",
   "execution_count": 261,
   "metadata": {},
   "outputs": [],
   "source": [
    "# Elevacion\n",
    "elevation = ee.Image('CGIAR/SRTM90_V4').select('elevation')\n",
    "slope = ee.Terrain.slope(elevation).clip(polygon)\n",
    "\n",
    "# Precipitacion total\n",
    "ECMWF = ee.ImageCollection(\"ECMWF/ERA5/MONTHLY\")\n",
    "\n",
    "# calculando el punto con la elevacion\n",
    "reducer = ee.Reducer.median()\n",
    "centroids_elevation = elevation.reduceRegions( ee.FeatureCollection(centroides_ECMWF), reducer.setOutputs(['elevation']), 90)"
   ]
  },
  {
   "cell_type": "code",
   "execution_count": 262,
   "metadata": {},
   "outputs": [],
   "source": [
    "def ECMWF_data(imagen_collection = ECMWF,\n",
    "                date = '2015-12-01',\n",
    "                imagen_elevation = centroids_elevation):\n",
    "\n",
    "    reducer = ee.Reducer.median()\n",
    "    centroids_ECMWF= imagen_collection\\\n",
    "                        .filterDate(date)\\\n",
    "                        .map(lambda x: x.reduceRegions(imagen_elevation,reducer.setOutputs(['total_precipitation']),2))\n",
    "\n",
    "    lista = centroids_ECMWF.first().getInfo()\n",
    "\n",
    "    if lista is None:\n",
    "        return None\n",
    "\n",
    "    return list(map(lambda x,y:\n",
    "                    {'date': y,\n",
    "                    'id':int(x.get('id')),\n",
    "                    'longitude':x.get('geometry').get('coordinates')[0],\n",
    "                    'latitude':x.get('geometry').get('coordinates')[1],\n",
    "                    'dewpoint_2m_temperature': x.get('properties').get('dewpoint_2m_temperature'),\n",
    "                    'elevation': x.get('properties').get('elevation'),\n",
    "                    'maximum_2m_air_temperature': x.get('properties').get('maximum_2m_air_temperature'),\n",
    "                    'mean_2m_air_temperature': x.get('properties').get('mean_2m_air_temperature'),\n",
    "                    'mean_sea_level_pressure': x.get('properties').get('mean_sea_level_pressure'),\n",
    "                    'minimum_2m_air_temperature': x.get('properties').get('minimum_2m_air_temperature'),\n",
    "                    'surface_pressure': x.get('properties').get('surface_pressure'),\n",
    "                    'total_precipitation': x.get('properties').get('total_precipitation'),\n",
    "                    'u_component_of_wind_10m': x.get('properties').get('u_component_of_wind_10m'),\n",
    "                    'v_component_of_wind_10m': x.get('properties').get('v_component_of_wind_10m')\n",
    "                    },\n",
    "                    lista.get('features'),\n",
    "                    [lista.get('properties').get('system:index') for x in range(len(lista.get('features'))) ]\n",
    "                    ))\n",
    "\n",
    "#ECMWF_data()"
   ]
  },
  {
   "cell_type": "code",
   "execution_count": 263,
   "metadata": {},
   "outputs": [
    {
     "output_type": "execute_result",
     "data": {
      "text/plain": [
       "      date  id  longitude  latitude  dewpoint_2m_temperature  elevation  \\\n",
       "0   197901   0    -69.875    10.125               288.950317        447   \n",
       "1   197901   1    -69.875    10.375               288.983124        372   \n",
       "2   197901   2    -69.625    10.125               289.047058        768   \n",
       "3   197901   3    -69.625    10.375               289.597443        674   \n",
       "4   197901   4    -69.375    10.125               289.260071        676   \n",
       "5   197901   5    -69.375    10.375               290.359100        675   \n",
       "6   197902   0    -69.875    10.125               288.752197        447   \n",
       "7   197902   1    -69.875    10.375               288.739624        372   \n",
       "8   197902   2    -69.625    10.125               288.867157        768   \n",
       "9   197902   3    -69.625    10.375               289.397308        674   \n",
       "10  197902   4    -69.375    10.125               289.083923        676   \n",
       "11  197902   5    -69.375    10.375               290.190033        675   \n",
       "12  197903   0    -69.875    10.125               290.870667        447   \n",
       "13  197903   1    -69.875    10.375               290.922211        372   \n",
       "14  197903   2    -69.625    10.125               291.010223        768   \n",
       "15  197903   3    -69.625    10.375               291.350342        674   \n",
       "16  197903   4    -69.375    10.125               291.001984        676   \n",
       "17  197903   5    -69.375    10.375               291.785522        675   \n",
       "18  197904   0    -69.875    10.125               292.446533        447   \n",
       "19  197904   1    -69.875    10.375               292.433319        372   \n",
       "20  197904   2    -69.625    10.125               292.410492        768   \n",
       "21  197904   3    -69.625    10.375               292.977386        674   \n",
       "22  197904   4    -69.375    10.125               292.607147        676   \n",
       "23  197904   5    -69.375    10.375               293.551300        675   \n",
       "24  197905   0    -69.875    10.125               292.746979        447   \n",
       "25  197905   1    -69.875    10.375               292.920959        372   \n",
       "26  197905   2    -69.625    10.125               292.664398        768   \n",
       "27  197905   3    -69.625    10.375               293.454315        674   \n",
       "28  197905   4    -69.375    10.125               292.889435        676   \n",
       "29  197905   5    -69.375    10.375               293.853058        675   \n",
       "\n",
       "    maximum_2m_air_temperature  mean_2m_air_temperature  \\\n",
       "0                   309.641174               298.714264   \n",
       "1                   307.772980               296.900574   \n",
       "2                   308.392487               297.397430   \n",
       "3                   308.374725               296.777893   \n",
       "4                   306.667877               295.543976   \n",
       "5                   307.829437               296.038666   \n",
       "6                   309.487701               299.586731   \n",
       "7                   307.622223               297.829926   \n",
       "8                   307.891846               298.240692   \n",
       "9                   307.873322               297.694489   \n",
       "10                  306.026398               296.436920   \n",
       "11                  307.357666               297.059204   \n",
       "12                  309.144897               299.338226   \n",
       "13                  307.220337               297.623138   \n",
       "14                  308.007294               297.899994   \n",
       "15                  307.068451               297.479584   \n",
       "16                  306.115051               296.205719   \n",
       "17                  305.904999               297.053528   \n",
       "18                  309.682190               300.174011   \n",
       "19                  308.000916               298.560394   \n",
       "20                  308.698090               298.992828   \n",
       "21                  307.968658               298.313721   \n",
       "22                  306.079041               297.124634   \n",
       "23                  306.841064               297.763458   \n",
       "24                  310.748291               300.580688   \n",
       "25                  309.550781               298.830566   \n",
       "26                  308.798248               299.469757   \n",
       "27                  308.140015               298.682343   \n",
       "28                  305.317108               297.446320   \n",
       "29                  306.388306               298.243042   \n",
       "\n",
       "    mean_sea_level_pressure  minimum_2m_air_temperature  surface_pressure  \\\n",
       "0             101234.710938                  291.081451      95410.210938   \n",
       "1             101297.007812                  288.397919      93878.710938   \n",
       "2             101286.492188                  290.337738      94179.265625   \n",
       "3             101312.156250                  289.688995      94380.812500   \n",
       "4             101357.289062                  288.829346      92788.359375   \n",
       "5             101336.640625                  289.640686      94878.414062   \n",
       "6             101221.453125                  290.833069      95404.312500   \n",
       "7             101293.164062                  289.211334      93883.343750   \n",
       "8             101284.320312                  289.791412      94185.765625   \n",
       "9             101315.250000                  289.514435      94392.234375   \n",
       "10            101368.117188                  288.615601      92808.515625   \n",
       "11            101348.585938                  289.310638      94898.226562   \n",
       "12            101182.218750                  292.979797      95365.648438   \n",
       "13            101248.664062                  291.617371      93840.562500   \n",
       "14            101238.000000                  292.097839      94140.664062   \n",
       "15            101260.062500                  291.906982      94340.578125   \n",
       "16            101310.859375                  290.801239      92754.695312   \n",
       "17            101280.304688                  291.882721      94834.906250   \n",
       "18            101089.625000                  294.510193      95283.312500   \n",
       "19            101163.898438                  293.055450      93768.507812   \n",
       "20            101155.125000                  293.664368      94071.125000   \n",
       "21            101183.046875                  292.872803      94274.632812   \n",
       "22            101246.218750                  292.167114      92703.007812   \n",
       "23            101213.492188                  292.764893      94776.734375   \n",
       "24            101072.992188                  294.536224      95275.117188   \n",
       "25            101146.179688                  292.945648      93761.312500   \n",
       "26            101133.351562                  293.809235      94060.882812   \n",
       "27            101158.218750                  292.961334      94260.968750   \n",
       "28            101225.523438                  292.234711      92695.796875   \n",
       "29            101182.515625                  292.421143      94757.570312   \n",
       "\n",
       "    total_precipitation  u_component_of_wind_10m  v_component_of_wind_10m  \\\n",
       "0              0.002376                -2.376098                -0.956133   \n",
       "1              0.004026                -2.214913                -0.627389   \n",
       "2              0.003298                -2.631367                -1.042131   \n",
       "3              0.006980                -2.438816                -0.692560   \n",
       "4              0.009322                -2.570262                -1.487913   \n",
       "5              0.010899                -2.394880                -0.900221   \n",
       "6              0.001073                -3.550768                -1.069947   \n",
       "7              0.001962                -3.230129                -0.453546   \n",
       "8              0.002507                -3.778696                -0.965066   \n",
       "9              0.003597                -3.334412                -0.597369   \n",
       "10             0.004852                -3.591254                -1.351313   \n",
       "11             0.006162                -3.232431                -0.888691   \n",
       "12             0.025094                -2.749701                -0.882832   \n",
       "13             0.047827                -2.468526                -0.481610   \n",
       "14             0.052190                -2.956206                -0.848178   \n",
       "15             0.050454                -2.637956                -0.582516   \n",
       "16             0.060847                -2.860466                -1.226828   \n",
       "17             0.048693                -2.647469                -0.812252   \n",
       "18             0.052084                -3.375259                -0.543059   \n",
       "19             0.046917                -3.024737                 0.019798   \n",
       "20             0.043639                -3.673724                -0.018353   \n",
       "21             0.048637                -3.094661                 0.032597   \n",
       "22             0.075614                -3.307645                 0.127880   \n",
       "23             0.070407                -2.783452                -0.168863   \n",
       "24             0.057094                -2.198174                -0.169953   \n",
       "25             0.114595                -2.106298                 0.166448   \n",
       "26             0.056443                -2.803826                 0.475338   \n",
       "27             0.127659                -2.400881                 0.316351   \n",
       "28             0.059472                -2.697157                 0.974660   \n",
       "29             0.074167                -2.216782                 0.412366   \n",
       "\n",
       "    year  month    polygonName  \n",
       "0   1979      1  Cerro Saroche  \n",
       "1   1979      1  Cerro Saroche  \n",
       "2   1979      1  Cerro Saroche  \n",
       "3   1979      1  Cerro Saroche  \n",
       "4   1979      1  Cerro Saroche  \n",
       "5   1979      1  Cerro Saroche  \n",
       "6   1979      2  Cerro Saroche  \n",
       "7   1979      2  Cerro Saroche  \n",
       "8   1979      2  Cerro Saroche  \n",
       "9   1979      2  Cerro Saroche  \n",
       "10  1979      2  Cerro Saroche  \n",
       "11  1979      2  Cerro Saroche  \n",
       "12  1979      3  Cerro Saroche  \n",
       "13  1979      3  Cerro Saroche  \n",
       "14  1979      3  Cerro Saroche  \n",
       "15  1979      3  Cerro Saroche  \n",
       "16  1979      3  Cerro Saroche  \n",
       "17  1979      3  Cerro Saroche  \n",
       "18  1979      4  Cerro Saroche  \n",
       "19  1979      4  Cerro Saroche  \n",
       "20  1979      4  Cerro Saroche  \n",
       "21  1979      4  Cerro Saroche  \n",
       "22  1979      4  Cerro Saroche  \n",
       "23  1979      4  Cerro Saroche  \n",
       "24  1979      5  Cerro Saroche  \n",
       "25  1979      5  Cerro Saroche  \n",
       "26  1979      5  Cerro Saroche  \n",
       "27  1979      5  Cerro Saroche  \n",
       "28  1979      5  Cerro Saroche  \n",
       "29  1979      5  Cerro Saroche  "
      ],
      "text/html": "<div>\n<style scoped>\n    .dataframe tbody tr th:only-of-type {\n        vertical-align: middle;\n    }\n\n    .dataframe tbody tr th {\n        vertical-align: top;\n    }\n\n    .dataframe thead th {\n        text-align: right;\n    }\n</style>\n<table border=\"1\" class=\"dataframe\">\n  <thead>\n    <tr style=\"text-align: right;\">\n      <th></th>\n      <th>date</th>\n      <th>id</th>\n      <th>longitude</th>\n      <th>latitude</th>\n      <th>dewpoint_2m_temperature</th>\n      <th>elevation</th>\n      <th>maximum_2m_air_temperature</th>\n      <th>mean_2m_air_temperature</th>\n      <th>mean_sea_level_pressure</th>\n      <th>minimum_2m_air_temperature</th>\n      <th>surface_pressure</th>\n      <th>total_precipitation</th>\n      <th>u_component_of_wind_10m</th>\n      <th>v_component_of_wind_10m</th>\n      <th>year</th>\n      <th>month</th>\n      <th>polygonName</th>\n    </tr>\n  </thead>\n  <tbody>\n    <tr>\n      <th>0</th>\n      <td>197901</td>\n      <td>0</td>\n      <td>-69.875</td>\n      <td>10.125</td>\n      <td>288.950317</td>\n      <td>447</td>\n      <td>309.641174</td>\n      <td>298.714264</td>\n      <td>101234.710938</td>\n      <td>291.081451</td>\n      <td>95410.210938</td>\n      <td>0.002376</td>\n      <td>-2.376098</td>\n      <td>-0.956133</td>\n      <td>1979</td>\n      <td>1</td>\n      <td>Cerro Saroche</td>\n    </tr>\n    <tr>\n      <th>1</th>\n      <td>197901</td>\n      <td>1</td>\n      <td>-69.875</td>\n      <td>10.375</td>\n      <td>288.983124</td>\n      <td>372</td>\n      <td>307.772980</td>\n      <td>296.900574</td>\n      <td>101297.007812</td>\n      <td>288.397919</td>\n      <td>93878.710938</td>\n      <td>0.004026</td>\n      <td>-2.214913</td>\n      <td>-0.627389</td>\n      <td>1979</td>\n      <td>1</td>\n      <td>Cerro Saroche</td>\n    </tr>\n    <tr>\n      <th>2</th>\n      <td>197901</td>\n      <td>2</td>\n      <td>-69.625</td>\n      <td>10.125</td>\n      <td>289.047058</td>\n      <td>768</td>\n      <td>308.392487</td>\n      <td>297.397430</td>\n      <td>101286.492188</td>\n      <td>290.337738</td>\n      <td>94179.265625</td>\n      <td>0.003298</td>\n      <td>-2.631367</td>\n      <td>-1.042131</td>\n      <td>1979</td>\n      <td>1</td>\n      <td>Cerro Saroche</td>\n    </tr>\n    <tr>\n      <th>3</th>\n      <td>197901</td>\n      <td>3</td>\n      <td>-69.625</td>\n      <td>10.375</td>\n      <td>289.597443</td>\n      <td>674</td>\n      <td>308.374725</td>\n      <td>296.777893</td>\n      <td>101312.156250</td>\n      <td>289.688995</td>\n      <td>94380.812500</td>\n      <td>0.006980</td>\n      <td>-2.438816</td>\n      <td>-0.692560</td>\n      <td>1979</td>\n      <td>1</td>\n      <td>Cerro Saroche</td>\n    </tr>\n    <tr>\n      <th>4</th>\n      <td>197901</td>\n      <td>4</td>\n      <td>-69.375</td>\n      <td>10.125</td>\n      <td>289.260071</td>\n      <td>676</td>\n      <td>306.667877</td>\n      <td>295.543976</td>\n      <td>101357.289062</td>\n      <td>288.829346</td>\n      <td>92788.359375</td>\n      <td>0.009322</td>\n      <td>-2.570262</td>\n      <td>-1.487913</td>\n      <td>1979</td>\n      <td>1</td>\n      <td>Cerro Saroche</td>\n    </tr>\n    <tr>\n      <th>5</th>\n      <td>197901</td>\n      <td>5</td>\n      <td>-69.375</td>\n      <td>10.375</td>\n      <td>290.359100</td>\n      <td>675</td>\n      <td>307.829437</td>\n      <td>296.038666</td>\n      <td>101336.640625</td>\n      <td>289.640686</td>\n      <td>94878.414062</td>\n      <td>0.010899</td>\n      <td>-2.394880</td>\n      <td>-0.900221</td>\n      <td>1979</td>\n      <td>1</td>\n      <td>Cerro Saroche</td>\n    </tr>\n    <tr>\n      <th>6</th>\n      <td>197902</td>\n      <td>0</td>\n      <td>-69.875</td>\n      <td>10.125</td>\n      <td>288.752197</td>\n      <td>447</td>\n      <td>309.487701</td>\n      <td>299.586731</td>\n      <td>101221.453125</td>\n      <td>290.833069</td>\n      <td>95404.312500</td>\n      <td>0.001073</td>\n      <td>-3.550768</td>\n      <td>-1.069947</td>\n      <td>1979</td>\n      <td>2</td>\n      <td>Cerro Saroche</td>\n    </tr>\n    <tr>\n      <th>7</th>\n      <td>197902</td>\n      <td>1</td>\n      <td>-69.875</td>\n      <td>10.375</td>\n      <td>288.739624</td>\n      <td>372</td>\n      <td>307.622223</td>\n      <td>297.829926</td>\n      <td>101293.164062</td>\n      <td>289.211334</td>\n      <td>93883.343750</td>\n      <td>0.001962</td>\n      <td>-3.230129</td>\n      <td>-0.453546</td>\n      <td>1979</td>\n      <td>2</td>\n      <td>Cerro Saroche</td>\n    </tr>\n    <tr>\n      <th>8</th>\n      <td>197902</td>\n      <td>2</td>\n      <td>-69.625</td>\n      <td>10.125</td>\n      <td>288.867157</td>\n      <td>768</td>\n      <td>307.891846</td>\n      <td>298.240692</td>\n      <td>101284.320312</td>\n      <td>289.791412</td>\n      <td>94185.765625</td>\n      <td>0.002507</td>\n      <td>-3.778696</td>\n      <td>-0.965066</td>\n      <td>1979</td>\n      <td>2</td>\n      <td>Cerro Saroche</td>\n    </tr>\n    <tr>\n      <th>9</th>\n      <td>197902</td>\n      <td>3</td>\n      <td>-69.625</td>\n      <td>10.375</td>\n      <td>289.397308</td>\n      <td>674</td>\n      <td>307.873322</td>\n      <td>297.694489</td>\n      <td>101315.250000</td>\n      <td>289.514435</td>\n      <td>94392.234375</td>\n      <td>0.003597</td>\n      <td>-3.334412</td>\n      <td>-0.597369</td>\n      <td>1979</td>\n      <td>2</td>\n      <td>Cerro Saroche</td>\n    </tr>\n    <tr>\n      <th>10</th>\n      <td>197902</td>\n      <td>4</td>\n      <td>-69.375</td>\n      <td>10.125</td>\n      <td>289.083923</td>\n      <td>676</td>\n      <td>306.026398</td>\n      <td>296.436920</td>\n      <td>101368.117188</td>\n      <td>288.615601</td>\n      <td>92808.515625</td>\n      <td>0.004852</td>\n      <td>-3.591254</td>\n      <td>-1.351313</td>\n      <td>1979</td>\n      <td>2</td>\n      <td>Cerro Saroche</td>\n    </tr>\n    <tr>\n      <th>11</th>\n      <td>197902</td>\n      <td>5</td>\n      <td>-69.375</td>\n      <td>10.375</td>\n      <td>290.190033</td>\n      <td>675</td>\n      <td>307.357666</td>\n      <td>297.059204</td>\n      <td>101348.585938</td>\n      <td>289.310638</td>\n      <td>94898.226562</td>\n      <td>0.006162</td>\n      <td>-3.232431</td>\n      <td>-0.888691</td>\n      <td>1979</td>\n      <td>2</td>\n      <td>Cerro Saroche</td>\n    </tr>\n    <tr>\n      <th>12</th>\n      <td>197903</td>\n      <td>0</td>\n      <td>-69.875</td>\n      <td>10.125</td>\n      <td>290.870667</td>\n      <td>447</td>\n      <td>309.144897</td>\n      <td>299.338226</td>\n      <td>101182.218750</td>\n      <td>292.979797</td>\n      <td>95365.648438</td>\n      <td>0.025094</td>\n      <td>-2.749701</td>\n      <td>-0.882832</td>\n      <td>1979</td>\n      <td>3</td>\n      <td>Cerro Saroche</td>\n    </tr>\n    <tr>\n      <th>13</th>\n      <td>197903</td>\n      <td>1</td>\n      <td>-69.875</td>\n      <td>10.375</td>\n      <td>290.922211</td>\n      <td>372</td>\n      <td>307.220337</td>\n      <td>297.623138</td>\n      <td>101248.664062</td>\n      <td>291.617371</td>\n      <td>93840.562500</td>\n      <td>0.047827</td>\n      <td>-2.468526</td>\n      <td>-0.481610</td>\n      <td>1979</td>\n      <td>3</td>\n      <td>Cerro Saroche</td>\n    </tr>\n    <tr>\n      <th>14</th>\n      <td>197903</td>\n      <td>2</td>\n      <td>-69.625</td>\n      <td>10.125</td>\n      <td>291.010223</td>\n      <td>768</td>\n      <td>308.007294</td>\n      <td>297.899994</td>\n      <td>101238.000000</td>\n      <td>292.097839</td>\n      <td>94140.664062</td>\n      <td>0.052190</td>\n      <td>-2.956206</td>\n      <td>-0.848178</td>\n      <td>1979</td>\n      <td>3</td>\n      <td>Cerro Saroche</td>\n    </tr>\n    <tr>\n      <th>15</th>\n      <td>197903</td>\n      <td>3</td>\n      <td>-69.625</td>\n      <td>10.375</td>\n      <td>291.350342</td>\n      <td>674</td>\n      <td>307.068451</td>\n      <td>297.479584</td>\n      <td>101260.062500</td>\n      <td>291.906982</td>\n      <td>94340.578125</td>\n      <td>0.050454</td>\n      <td>-2.637956</td>\n      <td>-0.582516</td>\n      <td>1979</td>\n      <td>3</td>\n      <td>Cerro Saroche</td>\n    </tr>\n    <tr>\n      <th>16</th>\n      <td>197903</td>\n      <td>4</td>\n      <td>-69.375</td>\n      <td>10.125</td>\n      <td>291.001984</td>\n      <td>676</td>\n      <td>306.115051</td>\n      <td>296.205719</td>\n      <td>101310.859375</td>\n      <td>290.801239</td>\n      <td>92754.695312</td>\n      <td>0.060847</td>\n      <td>-2.860466</td>\n      <td>-1.226828</td>\n      <td>1979</td>\n      <td>3</td>\n      <td>Cerro Saroche</td>\n    </tr>\n    <tr>\n      <th>17</th>\n      <td>197903</td>\n      <td>5</td>\n      <td>-69.375</td>\n      <td>10.375</td>\n      <td>291.785522</td>\n      <td>675</td>\n      <td>305.904999</td>\n      <td>297.053528</td>\n      <td>101280.304688</td>\n      <td>291.882721</td>\n      <td>94834.906250</td>\n      <td>0.048693</td>\n      <td>-2.647469</td>\n      <td>-0.812252</td>\n      <td>1979</td>\n      <td>3</td>\n      <td>Cerro Saroche</td>\n    </tr>\n    <tr>\n      <th>18</th>\n      <td>197904</td>\n      <td>0</td>\n      <td>-69.875</td>\n      <td>10.125</td>\n      <td>292.446533</td>\n      <td>447</td>\n      <td>309.682190</td>\n      <td>300.174011</td>\n      <td>101089.625000</td>\n      <td>294.510193</td>\n      <td>95283.312500</td>\n      <td>0.052084</td>\n      <td>-3.375259</td>\n      <td>-0.543059</td>\n      <td>1979</td>\n      <td>4</td>\n      <td>Cerro Saroche</td>\n    </tr>\n    <tr>\n      <th>19</th>\n      <td>197904</td>\n      <td>1</td>\n      <td>-69.875</td>\n      <td>10.375</td>\n      <td>292.433319</td>\n      <td>372</td>\n      <td>308.000916</td>\n      <td>298.560394</td>\n      <td>101163.898438</td>\n      <td>293.055450</td>\n      <td>93768.507812</td>\n      <td>0.046917</td>\n      <td>-3.024737</td>\n      <td>0.019798</td>\n      <td>1979</td>\n      <td>4</td>\n      <td>Cerro Saroche</td>\n    </tr>\n    <tr>\n      <th>20</th>\n      <td>197904</td>\n      <td>2</td>\n      <td>-69.625</td>\n      <td>10.125</td>\n      <td>292.410492</td>\n      <td>768</td>\n      <td>308.698090</td>\n      <td>298.992828</td>\n      <td>101155.125000</td>\n      <td>293.664368</td>\n      <td>94071.125000</td>\n      <td>0.043639</td>\n      <td>-3.673724</td>\n      <td>-0.018353</td>\n      <td>1979</td>\n      <td>4</td>\n      <td>Cerro Saroche</td>\n    </tr>\n    <tr>\n      <th>21</th>\n      <td>197904</td>\n      <td>3</td>\n      <td>-69.625</td>\n      <td>10.375</td>\n      <td>292.977386</td>\n      <td>674</td>\n      <td>307.968658</td>\n      <td>298.313721</td>\n      <td>101183.046875</td>\n      <td>292.872803</td>\n      <td>94274.632812</td>\n      <td>0.048637</td>\n      <td>-3.094661</td>\n      <td>0.032597</td>\n      <td>1979</td>\n      <td>4</td>\n      <td>Cerro Saroche</td>\n    </tr>\n    <tr>\n      <th>22</th>\n      <td>197904</td>\n      <td>4</td>\n      <td>-69.375</td>\n      <td>10.125</td>\n      <td>292.607147</td>\n      <td>676</td>\n      <td>306.079041</td>\n      <td>297.124634</td>\n      <td>101246.218750</td>\n      <td>292.167114</td>\n      <td>92703.007812</td>\n      <td>0.075614</td>\n      <td>-3.307645</td>\n      <td>0.127880</td>\n      <td>1979</td>\n      <td>4</td>\n      <td>Cerro Saroche</td>\n    </tr>\n    <tr>\n      <th>23</th>\n      <td>197904</td>\n      <td>5</td>\n      <td>-69.375</td>\n      <td>10.375</td>\n      <td>293.551300</td>\n      <td>675</td>\n      <td>306.841064</td>\n      <td>297.763458</td>\n      <td>101213.492188</td>\n      <td>292.764893</td>\n      <td>94776.734375</td>\n      <td>0.070407</td>\n      <td>-2.783452</td>\n      <td>-0.168863</td>\n      <td>1979</td>\n      <td>4</td>\n      <td>Cerro Saroche</td>\n    </tr>\n    <tr>\n      <th>24</th>\n      <td>197905</td>\n      <td>0</td>\n      <td>-69.875</td>\n      <td>10.125</td>\n      <td>292.746979</td>\n      <td>447</td>\n      <td>310.748291</td>\n      <td>300.580688</td>\n      <td>101072.992188</td>\n      <td>294.536224</td>\n      <td>95275.117188</td>\n      <td>0.057094</td>\n      <td>-2.198174</td>\n      <td>-0.169953</td>\n      <td>1979</td>\n      <td>5</td>\n      <td>Cerro Saroche</td>\n    </tr>\n    <tr>\n      <th>25</th>\n      <td>197905</td>\n      <td>1</td>\n      <td>-69.875</td>\n      <td>10.375</td>\n      <td>292.920959</td>\n      <td>372</td>\n      <td>309.550781</td>\n      <td>298.830566</td>\n      <td>101146.179688</td>\n      <td>292.945648</td>\n      <td>93761.312500</td>\n      <td>0.114595</td>\n      <td>-2.106298</td>\n      <td>0.166448</td>\n      <td>1979</td>\n      <td>5</td>\n      <td>Cerro Saroche</td>\n    </tr>\n    <tr>\n      <th>26</th>\n      <td>197905</td>\n      <td>2</td>\n      <td>-69.625</td>\n      <td>10.125</td>\n      <td>292.664398</td>\n      <td>768</td>\n      <td>308.798248</td>\n      <td>299.469757</td>\n      <td>101133.351562</td>\n      <td>293.809235</td>\n      <td>94060.882812</td>\n      <td>0.056443</td>\n      <td>-2.803826</td>\n      <td>0.475338</td>\n      <td>1979</td>\n      <td>5</td>\n      <td>Cerro Saroche</td>\n    </tr>\n    <tr>\n      <th>27</th>\n      <td>197905</td>\n      <td>3</td>\n      <td>-69.625</td>\n      <td>10.375</td>\n      <td>293.454315</td>\n      <td>674</td>\n      <td>308.140015</td>\n      <td>298.682343</td>\n      <td>101158.218750</td>\n      <td>292.961334</td>\n      <td>94260.968750</td>\n      <td>0.127659</td>\n      <td>-2.400881</td>\n      <td>0.316351</td>\n      <td>1979</td>\n      <td>5</td>\n      <td>Cerro Saroche</td>\n    </tr>\n    <tr>\n      <th>28</th>\n      <td>197905</td>\n      <td>4</td>\n      <td>-69.375</td>\n      <td>10.125</td>\n      <td>292.889435</td>\n      <td>676</td>\n      <td>305.317108</td>\n      <td>297.446320</td>\n      <td>101225.523438</td>\n      <td>292.234711</td>\n      <td>92695.796875</td>\n      <td>0.059472</td>\n      <td>-2.697157</td>\n      <td>0.974660</td>\n      <td>1979</td>\n      <td>5</td>\n      <td>Cerro Saroche</td>\n    </tr>\n    <tr>\n      <th>29</th>\n      <td>197905</td>\n      <td>5</td>\n      <td>-69.375</td>\n      <td>10.375</td>\n      <td>293.853058</td>\n      <td>675</td>\n      <td>306.388306</td>\n      <td>298.243042</td>\n      <td>101182.515625</td>\n      <td>292.421143</td>\n      <td>94757.570312</td>\n      <td>0.074167</td>\n      <td>-2.216782</td>\n      <td>0.412366</td>\n      <td>1979</td>\n      <td>5</td>\n      <td>Cerro Saroche</td>\n    </tr>\n  </tbody>\n</table>\n</div>"
     },
     "metadata": {},
     "execution_count": 263
    }
   ],
   "source": [
    "import pandas as pd\n",
    "import numpy as np\n",
    "\n",
    "# rango de meses\n",
    "date_start=\"1900-01-01\"\n",
    "date_end=\"2021-06-01\"\n",
    "\n",
    "# consultando la data\n",
    "data = np.array( list(filter(None,\n",
    "                    list(map(lambda x: ECMWF_data(date=x)\n",
    "                                    ,pd.date_range(start=date_start,end=date_end, closed='right',freq='M').strftime('%Y-%m').to_list()\n",
    "                                    ))\n",
    "                )))\n",
    "\n",
    "data = data.reshape((\n",
    "                    1,\n",
    "                    data.shape[0]*data.shape[1]\n",
    "                    )).tolist()[0]\n",
    "\n",
    "data = pd.DataFrame(data)\n",
    "data['year'] = pd.to_datetime(data['date'],format='%Y%m').dt.year\n",
    "data['month'] = pd.to_datetime(data['date'],format='%Y%m').dt.month\n",
    "data['date'] = data['date'].apply(int)\n",
    "data['polygonName'] = polygonName\n",
    "\n",
    "data.sort_values(['date','id'],ascending=True).head(30)"
   ]
  },
  {
   "cell_type": "code",
   "execution_count": 264,
   "metadata": {},
   "outputs": [],
   "source": [
    "# save data pkl\n",
    "data.to_pickle('./data/{polygonName}_data.pkl'.format(polygonName=polygonName))"
   ]
  },
  {
   "cell_type": "code",
   "execution_count": 265,
   "metadata": {},
   "outputs": [
    {
     "output_type": "display_data",
     "data": {
      "application/vnd.plotly.v1+json": {
       "config": {
        "plotlyServerURL": "https://plot.ly"
       },
       "data": [
        {
         "hovertemplate": "longitude=%{x}<br>latitude=%{y}<br>total_precipitation=%{marker.color}<extra></extra>",
         "legendgroup": "",
         "marker": {
          "color": [
           0.0006678635254502296,
           0.0025230348110198975,
           0.0022659776732325554,
           0.006498289294540882,
           0.008105626329779625,
           0.01053551770746708
          ],
          "coloraxis": "coloraxis",
          "symbol": "circle"
         },
         "mode": "markers",
         "name": "",
         "orientation": "v",
         "showlegend": false,
         "type": "scatter",
         "x": [
          -69.875,
          -69.875,
          -69.625,
          -69.625,
          -69.375,
          -69.375
         ],
         "xaxis": "x",
         "y": [
          10.125,
          10.375,
          10.125,
          10.375,
          10.125,
          10.375
         ],
         "yaxis": "y"
        }
       ],
       "layout": {
        "coloraxis": {
         "colorbar": {
          "title": {
           "text": "total_precipitation"
          }
         },
         "colorscale": [
          [
           0,
           "#0d0887"
          ],
          [
           0.1111111111111111,
           "#46039f"
          ],
          [
           0.2222222222222222,
           "#7201a8"
          ],
          [
           0.3333333333333333,
           "#9c179e"
          ],
          [
           0.4444444444444444,
           "#bd3786"
          ],
          [
           0.5555555555555556,
           "#d8576b"
          ],
          [
           0.6666666666666666,
           "#ed7953"
          ],
          [
           0.7777777777777778,
           "#fb9f3a"
          ],
          [
           0.8888888888888888,
           "#fdca26"
          ],
          [
           1,
           "#f0f921"
          ]
         ]
        },
        "legend": {
         "tracegroupgap": 0
        },
        "template": {
         "data": {
          "bar": [
           {
            "error_x": {
             "color": "#2a3f5f"
            },
            "error_y": {
             "color": "#2a3f5f"
            },
            "marker": {
             "line": {
              "color": "#E5ECF6",
              "width": 0.5
             }
            },
            "type": "bar"
           }
          ],
          "barpolar": [
           {
            "marker": {
             "line": {
              "color": "#E5ECF6",
              "width": 0.5
             }
            },
            "type": "barpolar"
           }
          ],
          "carpet": [
           {
            "aaxis": {
             "endlinecolor": "#2a3f5f",
             "gridcolor": "white",
             "linecolor": "white",
             "minorgridcolor": "white",
             "startlinecolor": "#2a3f5f"
            },
            "baxis": {
             "endlinecolor": "#2a3f5f",
             "gridcolor": "white",
             "linecolor": "white",
             "minorgridcolor": "white",
             "startlinecolor": "#2a3f5f"
            },
            "type": "carpet"
           }
          ],
          "choropleth": [
           {
            "colorbar": {
             "outlinewidth": 0,
             "ticks": ""
            },
            "type": "choropleth"
           }
          ],
          "contour": [
           {
            "colorbar": {
             "outlinewidth": 0,
             "ticks": ""
            },
            "colorscale": [
             [
              0,
              "#0d0887"
             ],
             [
              0.1111111111111111,
              "#46039f"
             ],
             [
              0.2222222222222222,
              "#7201a8"
             ],
             [
              0.3333333333333333,
              "#9c179e"
             ],
             [
              0.4444444444444444,
              "#bd3786"
             ],
             [
              0.5555555555555556,
              "#d8576b"
             ],
             [
              0.6666666666666666,
              "#ed7953"
             ],
             [
              0.7777777777777778,
              "#fb9f3a"
             ],
             [
              0.8888888888888888,
              "#fdca26"
             ],
             [
              1,
              "#f0f921"
             ]
            ],
            "type": "contour"
           }
          ],
          "contourcarpet": [
           {
            "colorbar": {
             "outlinewidth": 0,
             "ticks": ""
            },
            "type": "contourcarpet"
           }
          ],
          "heatmap": [
           {
            "colorbar": {
             "outlinewidth": 0,
             "ticks": ""
            },
            "colorscale": [
             [
              0,
              "#0d0887"
             ],
             [
              0.1111111111111111,
              "#46039f"
             ],
             [
              0.2222222222222222,
              "#7201a8"
             ],
             [
              0.3333333333333333,
              "#9c179e"
             ],
             [
              0.4444444444444444,
              "#bd3786"
             ],
             [
              0.5555555555555556,
              "#d8576b"
             ],
             [
              0.6666666666666666,
              "#ed7953"
             ],
             [
              0.7777777777777778,
              "#fb9f3a"
             ],
             [
              0.8888888888888888,
              "#fdca26"
             ],
             [
              1,
              "#f0f921"
             ]
            ],
            "type": "heatmap"
           }
          ],
          "heatmapgl": [
           {
            "colorbar": {
             "outlinewidth": 0,
             "ticks": ""
            },
            "colorscale": [
             [
              0,
              "#0d0887"
             ],
             [
              0.1111111111111111,
              "#46039f"
             ],
             [
              0.2222222222222222,
              "#7201a8"
             ],
             [
              0.3333333333333333,
              "#9c179e"
             ],
             [
              0.4444444444444444,
              "#bd3786"
             ],
             [
              0.5555555555555556,
              "#d8576b"
             ],
             [
              0.6666666666666666,
              "#ed7953"
             ],
             [
              0.7777777777777778,
              "#fb9f3a"
             ],
             [
              0.8888888888888888,
              "#fdca26"
             ],
             [
              1,
              "#f0f921"
             ]
            ],
            "type": "heatmapgl"
           }
          ],
          "histogram": [
           {
            "marker": {
             "colorbar": {
              "outlinewidth": 0,
              "ticks": ""
             }
            },
            "type": "histogram"
           }
          ],
          "histogram2d": [
           {
            "colorbar": {
             "outlinewidth": 0,
             "ticks": ""
            },
            "colorscale": [
             [
              0,
              "#0d0887"
             ],
             [
              0.1111111111111111,
              "#46039f"
             ],
             [
              0.2222222222222222,
              "#7201a8"
             ],
             [
              0.3333333333333333,
              "#9c179e"
             ],
             [
              0.4444444444444444,
              "#bd3786"
             ],
             [
              0.5555555555555556,
              "#d8576b"
             ],
             [
              0.6666666666666666,
              "#ed7953"
             ],
             [
              0.7777777777777778,
              "#fb9f3a"
             ],
             [
              0.8888888888888888,
              "#fdca26"
             ],
             [
              1,
              "#f0f921"
             ]
            ],
            "type": "histogram2d"
           }
          ],
          "histogram2dcontour": [
           {
            "colorbar": {
             "outlinewidth": 0,
             "ticks": ""
            },
            "colorscale": [
             [
              0,
              "#0d0887"
             ],
             [
              0.1111111111111111,
              "#46039f"
             ],
             [
              0.2222222222222222,
              "#7201a8"
             ],
             [
              0.3333333333333333,
              "#9c179e"
             ],
             [
              0.4444444444444444,
              "#bd3786"
             ],
             [
              0.5555555555555556,
              "#d8576b"
             ],
             [
              0.6666666666666666,
              "#ed7953"
             ],
             [
              0.7777777777777778,
              "#fb9f3a"
             ],
             [
              0.8888888888888888,
              "#fdca26"
             ],
             [
              1,
              "#f0f921"
             ]
            ],
            "type": "histogram2dcontour"
           }
          ],
          "mesh3d": [
           {
            "colorbar": {
             "outlinewidth": 0,
             "ticks": ""
            },
            "type": "mesh3d"
           }
          ],
          "parcoords": [
           {
            "line": {
             "colorbar": {
              "outlinewidth": 0,
              "ticks": ""
             }
            },
            "type": "parcoords"
           }
          ],
          "pie": [
           {
            "automargin": true,
            "type": "pie"
           }
          ],
          "scatter": [
           {
            "marker": {
             "colorbar": {
              "outlinewidth": 0,
              "ticks": ""
             }
            },
            "type": "scatter"
           }
          ],
          "scatter3d": [
           {
            "line": {
             "colorbar": {
              "outlinewidth": 0,
              "ticks": ""
             }
            },
            "marker": {
             "colorbar": {
              "outlinewidth": 0,
              "ticks": ""
             }
            },
            "type": "scatter3d"
           }
          ],
          "scattercarpet": [
           {
            "marker": {
             "colorbar": {
              "outlinewidth": 0,
              "ticks": ""
             }
            },
            "type": "scattercarpet"
           }
          ],
          "scattergeo": [
           {
            "marker": {
             "colorbar": {
              "outlinewidth": 0,
              "ticks": ""
             }
            },
            "type": "scattergeo"
           }
          ],
          "scattergl": [
           {
            "marker": {
             "colorbar": {
              "outlinewidth": 0,
              "ticks": ""
             }
            },
            "type": "scattergl"
           }
          ],
          "scattermapbox": [
           {
            "marker": {
             "colorbar": {
              "outlinewidth": 0,
              "ticks": ""
             }
            },
            "type": "scattermapbox"
           }
          ],
          "scatterpolar": [
           {
            "marker": {
             "colorbar": {
              "outlinewidth": 0,
              "ticks": ""
             }
            },
            "type": "scatterpolar"
           }
          ],
          "scatterpolargl": [
           {
            "marker": {
             "colorbar": {
              "outlinewidth": 0,
              "ticks": ""
             }
            },
            "type": "scatterpolargl"
           }
          ],
          "scatterternary": [
           {
            "marker": {
             "colorbar": {
              "outlinewidth": 0,
              "ticks": ""
             }
            },
            "type": "scatterternary"
           }
          ],
          "surface": [
           {
            "colorbar": {
             "outlinewidth": 0,
             "ticks": ""
            },
            "colorscale": [
             [
              0,
              "#0d0887"
             ],
             [
              0.1111111111111111,
              "#46039f"
             ],
             [
              0.2222222222222222,
              "#7201a8"
             ],
             [
              0.3333333333333333,
              "#9c179e"
             ],
             [
              0.4444444444444444,
              "#bd3786"
             ],
             [
              0.5555555555555556,
              "#d8576b"
             ],
             [
              0.6666666666666666,
              "#ed7953"
             ],
             [
              0.7777777777777778,
              "#fb9f3a"
             ],
             [
              0.8888888888888888,
              "#fdca26"
             ],
             [
              1,
              "#f0f921"
             ]
            ],
            "type": "surface"
           }
          ],
          "table": [
           {
            "cells": {
             "fill": {
              "color": "#EBF0F8"
             },
             "line": {
              "color": "white"
             }
            },
            "header": {
             "fill": {
              "color": "#C8D4E3"
             },
             "line": {
              "color": "white"
             }
            },
            "type": "table"
           }
          ]
         },
         "layout": {
          "annotationdefaults": {
           "arrowcolor": "#2a3f5f",
           "arrowhead": 0,
           "arrowwidth": 1
          },
          "autotypenumbers": "strict",
          "coloraxis": {
           "colorbar": {
            "outlinewidth": 0,
            "ticks": ""
           }
          },
          "colorscale": {
           "diverging": [
            [
             0,
             "#8e0152"
            ],
            [
             0.1,
             "#c51b7d"
            ],
            [
             0.2,
             "#de77ae"
            ],
            [
             0.3,
             "#f1b6da"
            ],
            [
             0.4,
             "#fde0ef"
            ],
            [
             0.5,
             "#f7f7f7"
            ],
            [
             0.6,
             "#e6f5d0"
            ],
            [
             0.7,
             "#b8e186"
            ],
            [
             0.8,
             "#7fbc41"
            ],
            [
             0.9,
             "#4d9221"
            ],
            [
             1,
             "#276419"
            ]
           ],
           "sequential": [
            [
             0,
             "#0d0887"
            ],
            [
             0.1111111111111111,
             "#46039f"
            ],
            [
             0.2222222222222222,
             "#7201a8"
            ],
            [
             0.3333333333333333,
             "#9c179e"
            ],
            [
             0.4444444444444444,
             "#bd3786"
            ],
            [
             0.5555555555555556,
             "#d8576b"
            ],
            [
             0.6666666666666666,
             "#ed7953"
            ],
            [
             0.7777777777777778,
             "#fb9f3a"
            ],
            [
             0.8888888888888888,
             "#fdca26"
            ],
            [
             1,
             "#f0f921"
            ]
           ],
           "sequentialminus": [
            [
             0,
             "#0d0887"
            ],
            [
             0.1111111111111111,
             "#46039f"
            ],
            [
             0.2222222222222222,
             "#7201a8"
            ],
            [
             0.3333333333333333,
             "#9c179e"
            ],
            [
             0.4444444444444444,
             "#bd3786"
            ],
            [
             0.5555555555555556,
             "#d8576b"
            ],
            [
             0.6666666666666666,
             "#ed7953"
            ],
            [
             0.7777777777777778,
             "#fb9f3a"
            ],
            [
             0.8888888888888888,
             "#fdca26"
            ],
            [
             1,
             "#f0f921"
            ]
           ]
          },
          "colorway": [
           "#636efa",
           "#EF553B",
           "#00cc96",
           "#ab63fa",
           "#FFA15A",
           "#19d3f3",
           "#FF6692",
           "#B6E880",
           "#FF97FF",
           "#FECB52"
          ],
          "font": {
           "color": "#2a3f5f"
          },
          "geo": {
           "bgcolor": "white",
           "lakecolor": "white",
           "landcolor": "#E5ECF6",
           "showlakes": true,
           "showland": true,
           "subunitcolor": "white"
          },
          "hoverlabel": {
           "align": "left"
          },
          "hovermode": "closest",
          "mapbox": {
           "style": "light"
          },
          "paper_bgcolor": "white",
          "plot_bgcolor": "#E5ECF6",
          "polar": {
           "angularaxis": {
            "gridcolor": "white",
            "linecolor": "white",
            "ticks": ""
           },
           "bgcolor": "#E5ECF6",
           "radialaxis": {
            "gridcolor": "white",
            "linecolor": "white",
            "ticks": ""
           }
          },
          "scene": {
           "xaxis": {
            "backgroundcolor": "#E5ECF6",
            "gridcolor": "white",
            "gridwidth": 2,
            "linecolor": "white",
            "showbackground": true,
            "ticks": "",
            "zerolinecolor": "white"
           },
           "yaxis": {
            "backgroundcolor": "#E5ECF6",
            "gridcolor": "white",
            "gridwidth": 2,
            "linecolor": "white",
            "showbackground": true,
            "ticks": "",
            "zerolinecolor": "white"
           },
           "zaxis": {
            "backgroundcolor": "#E5ECF6",
            "gridcolor": "white",
            "gridwidth": 2,
            "linecolor": "white",
            "showbackground": true,
            "ticks": "",
            "zerolinecolor": "white"
           }
          },
          "shapedefaults": {
           "line": {
            "color": "#2a3f5f"
           }
          },
          "ternary": {
           "aaxis": {
            "gridcolor": "white",
            "linecolor": "white",
            "ticks": ""
           },
           "baxis": {
            "gridcolor": "white",
            "linecolor": "white",
            "ticks": ""
           },
           "bgcolor": "#E5ECF6",
           "caxis": {
            "gridcolor": "white",
            "linecolor": "white",
            "ticks": ""
           }
          },
          "title": {
           "x": 0.05
          },
          "xaxis": {
           "automargin": true,
           "gridcolor": "white",
           "linecolor": "white",
           "ticks": "",
           "title": {
            "standoff": 15
           },
           "zerolinecolor": "white",
           "zerolinewidth": 2
          },
          "yaxis": {
           "automargin": true,
           "gridcolor": "white",
           "linecolor": "white",
           "ticks": "",
           "title": {
            "standoff": 15
           },
           "zerolinecolor": "white",
           "zerolinewidth": 2
          }
         }
        },
        "title": {
         "text": "Precipitación"
        },
        "xaxis": {
         "anchor": "y",
         "domain": [
          0,
          1
         ],
         "title": {
          "text": "longitude"
         }
        },
        "yaxis": {
         "anchor": "x",
         "domain": [
          0,
          1
         ],
         "title": {
          "text": "latitude"
         }
        }
       }
      }
     },
     "metadata": {}
    }
   ],
   "source": [
    "# x and y given as array_like objects\n",
    "import plotly.express as px\n",
    "\n",
    "fig = px.scatter(data[data.date==201001],\n",
    "y='latitude',\n",
    "x='longitude',\n",
    "color='total_precipitation',\n",
    "title='Precipitación')\n",
    "fig.show()"
   ]
  },
  {
   "cell_type": "code",
   "execution_count": 267,
   "metadata": {},
   "outputs": [
    {
     "output_type": "execute_result",
     "data": {
      "text/plain": [
       "<folium.folium.Map at 0x7f45c8ab7580>"
      ],
      "text/html": "<div style=\"width:100%;\"><div style=\"position:relative;width:100%;height:0;padding-bottom:60%;\"><span style=\"color:#565656\">Make this Notebook Trusted to load map: File -> Trust Notebook</span><iframe src=\"about:blank\" style=\"position:absolute;width:100%;height:100%;left:0;top:0;border:none !important;\" data-html=%3C%21DOCTYPE%20html%3E%0A%3Chead%3E%20%20%20%20%0A%20%20%20%20%3Cmeta%20http-equiv%3D%22content-type%22%20content%3D%22text/html%3B%20charset%3DUTF-8%22%20/%3E%0A%20%20%20%20%0A%20%20%20%20%20%20%20%20%3Cscript%3E%0A%20%20%20%20%20%20%20%20%20%20%20%20L_NO_TOUCH%20%3D%20false%3B%0A%20%20%20%20%20%20%20%20%20%20%20%20L_DISABLE_3D%20%3D%20false%3B%0A%20%20%20%20%20%20%20%20%3C/script%3E%0A%20%20%20%20%0A%20%20%20%20%3Cstyle%3Ehtml%2C%20body%20%7Bwidth%3A%20100%25%3Bheight%3A%20100%25%3Bmargin%3A%200%3Bpadding%3A%200%3B%7D%3C/style%3E%0A%20%20%20%20%3Cstyle%3E%23map%20%7Bposition%3Aabsolute%3Btop%3A0%3Bbottom%3A0%3Bright%3A0%3Bleft%3A0%3B%7D%3C/style%3E%0A%20%20%20%20%3Cscript%20src%3D%22https%3A//cdn.jsdelivr.net/npm/leaflet%401.6.0/dist/leaflet.js%22%3E%3C/script%3E%0A%20%20%20%20%3Cscript%20src%3D%22https%3A//code.jquery.com/jquery-1.12.4.min.js%22%3E%3C/script%3E%0A%20%20%20%20%3Cscript%20src%3D%22https%3A//maxcdn.bootstrapcdn.com/bootstrap/3.2.0/js/bootstrap.min.js%22%3E%3C/script%3E%0A%20%20%20%20%3Cscript%20src%3D%22https%3A//cdnjs.cloudflare.com/ajax/libs/Leaflet.awesome-markers/2.0.2/leaflet.awesome-markers.js%22%3E%3C/script%3E%0A%20%20%20%20%3Clink%20rel%3D%22stylesheet%22%20href%3D%22https%3A//cdn.jsdelivr.net/npm/leaflet%401.6.0/dist/leaflet.css%22/%3E%0A%20%20%20%20%3Clink%20rel%3D%22stylesheet%22%20href%3D%22https%3A//maxcdn.bootstrapcdn.com/bootstrap/3.2.0/css/bootstrap.min.css%22/%3E%0A%20%20%20%20%3Clink%20rel%3D%22stylesheet%22%20href%3D%22https%3A//maxcdn.bootstrapcdn.com/bootstrap/3.2.0/css/bootstrap-theme.min.css%22/%3E%0A%20%20%20%20%3Clink%20rel%3D%22stylesheet%22%20href%3D%22https%3A//maxcdn.bootstrapcdn.com/font-awesome/4.6.3/css/font-awesome.min.css%22/%3E%0A%20%20%20%20%3Clink%20rel%3D%22stylesheet%22%20href%3D%22https%3A//cdnjs.cloudflare.com/ajax/libs/Leaflet.awesome-markers/2.0.2/leaflet.awesome-markers.css%22/%3E%0A%20%20%20%20%3Clink%20rel%3D%22stylesheet%22%20href%3D%22https%3A//cdn.jsdelivr.net/gh/python-visualization/folium/folium/templates/leaflet.awesome.rotate.min.css%22/%3E%0A%20%20%20%20%0A%20%20%20%20%20%20%20%20%20%20%20%20%3Cmeta%20name%3D%22viewport%22%20content%3D%22width%3Ddevice-width%2C%0A%20%20%20%20%20%20%20%20%20%20%20%20%20%20%20%20initial-scale%3D1.0%2C%20maximum-scale%3D1.0%2C%20user-scalable%3Dno%22%20/%3E%0A%20%20%20%20%20%20%20%20%20%20%20%20%3Cstyle%3E%0A%20%20%20%20%20%20%20%20%20%20%20%20%20%20%20%20%23map_bf1fe9ceef164c6ca1af86d7052e168f%20%7B%0A%20%20%20%20%20%20%20%20%20%20%20%20%20%20%20%20%20%20%20%20position%3A%20relative%3B%0A%20%20%20%20%20%20%20%20%20%20%20%20%20%20%20%20%20%20%20%20width%3A%20100.0%25%3B%0A%20%20%20%20%20%20%20%20%20%20%20%20%20%20%20%20%20%20%20%20height%3A%20100.0%25%3B%0A%20%20%20%20%20%20%20%20%20%20%20%20%20%20%20%20%20%20%20%20left%3A%200.0%25%3B%0A%20%20%20%20%20%20%20%20%20%20%20%20%20%20%20%20%20%20%20%20top%3A%200.0%25%3B%0A%20%20%20%20%20%20%20%20%20%20%20%20%20%20%20%20%7D%0A%20%20%20%20%20%20%20%20%20%20%20%20%3C/style%3E%0A%20%20%20%20%20%20%20%20%0A%20%20%20%20%3Cscript%20src%3D%22https%3A//cdnjs.cloudflare.com/ajax/libs/leaflet.fullscreen/1.4.2/Control.FullScreen.min.js%22%3E%3C/script%3E%0A%20%20%20%20%3Clink%20rel%3D%22stylesheet%22%20href%3D%22https%3A//cdnjs.cloudflare.com/ajax/libs/leaflet.fullscreen/1.4.2/Control.FullScreen.min.css%22/%3E%0A%3C/head%3E%0A%3Cbody%3E%20%20%20%20%0A%20%20%20%20%0A%20%20%20%20%20%20%20%20%20%20%20%20%3Cdiv%20class%3D%22folium-map%22%20id%3D%22map_bf1fe9ceef164c6ca1af86d7052e168f%22%20%3E%3C/div%3E%0A%20%20%20%20%20%20%20%20%0A%3C/body%3E%0A%3Cscript%3E%20%20%20%20%0A%20%20%20%20%0A%20%20%20%20%20%20%20%20%20%20%20%20var%20map_bf1fe9ceef164c6ca1af86d7052e168f%20%3D%20L.map%28%0A%20%20%20%20%20%20%20%20%20%20%20%20%20%20%20%20%22map_bf1fe9ceef164c6ca1af86d7052e168f%22%2C%0A%20%20%20%20%20%20%20%20%20%20%20%20%20%20%20%20%7B%0A%20%20%20%20%20%20%20%20%20%20%20%20%20%20%20%20%20%20%20%20center%3A%20%5B10.185229496882497%2C%20-69.65926764932178%5D%2C%0A%20%20%20%20%20%20%20%20%20%20%20%20%20%20%20%20%20%20%20%20crs%3A%20L.CRS.EPSG3857%2C%0A%20%20%20%20%20%20%20%20%20%20%20%20%20%20%20%20%20%20%20%20zoom%3A%2011%2C%0A%20%20%20%20%20%20%20%20%20%20%20%20%20%20%20%20%20%20%20%20zoomControl%3A%20true%2C%0A%20%20%20%20%20%20%20%20%20%20%20%20%20%20%20%20%20%20%20%20preferCanvas%3A%20false%2C%0A%20%20%20%20%20%20%20%20%20%20%20%20%20%20%20%20%7D%0A%20%20%20%20%20%20%20%20%20%20%20%20%29%3B%0A%20%20%20%20%20%20%20%20%20%20%20%20L.control.scale%28%29.addTo%28map_bf1fe9ceef164c6ca1af86d7052e168f%29%3B%0A%0A%20%20%20%20%20%20%20%20%20%20%20%20%0A%0A%20%20%20%20%20%20%20%20%0A%20%20%20%20%0A%20%20%20%20%20%20%20%20%20%20%20%20var%20tile_layer_eec686ce41944921a4830aafd31594b4%20%3D%20L.tileLayer%28%0A%20%20%20%20%20%20%20%20%20%20%20%20%20%20%20%20%22https%3A//%7Bs%7D.tile.openstreetmap.org/%7Bz%7D/%7Bx%7D/%7By%7D.png%22%2C%0A%20%20%20%20%20%20%20%20%20%20%20%20%20%20%20%20%7B%22attribution%22%3A%20%22Data%20by%20%5Cu0026copy%3B%20%5Cu003ca%20href%3D%5C%22http%3A//openstreetmap.org%5C%22%5Cu003eOpenStreetMap%5Cu003c/a%5Cu003e%2C%20under%20%5Cu003ca%20href%3D%5C%22http%3A//www.openstreetmap.org/copyright%5C%22%5Cu003eODbL%5Cu003c/a%5Cu003e.%22%2C%20%22detectRetina%22%3A%20false%2C%20%22maxNativeZoom%22%3A%2018%2C%20%22maxZoom%22%3A%2018%2C%20%22minZoom%22%3A%200%2C%20%22noWrap%22%3A%20false%2C%20%22opacity%22%3A%201%2C%20%22subdomains%22%3A%20%22abc%22%2C%20%22tms%22%3A%20false%7D%0A%20%20%20%20%20%20%20%20%20%20%20%20%29.addTo%28map_bf1fe9ceef164c6ca1af86d7052e168f%29%3B%0A%20%20%20%20%20%20%20%20%0A%20%20%20%20%0A%20%20%20%20%20%20%20%20%20%20%20%20var%20tile_layer_3e1ea11a422f4c9982331b4e572420fc%20%3D%20L.tileLayer%28%0A%20%20%20%20%20%20%20%20%20%20%20%20%20%20%20%20%22https%3A//earthengine.googleapis.com/v1alpha/projects/earthengine-legacy/maps/8a5b4ac1e657a8af29ca20b49271fb11-7711be94e238faa825d734cbd4498a4a/tiles/%7Bz%7D/%7Bx%7D/%7By%7D%22%2C%0A%20%20%20%20%20%20%20%20%20%20%20%20%20%20%20%20%7B%22attribution%22%3A%20%22Google%20Earth%20Engine%22%2C%20%22detectRetina%22%3A%20false%2C%20%22maxNativeZoom%22%3A%2018%2C%20%22maxZoom%22%3A%2018%2C%20%22minZoom%22%3A%200%2C%20%22noWrap%22%3A%20false%2C%20%22opacity%22%3A%201%2C%20%22subdomains%22%3A%20%22abc%22%2C%20%22tms%22%3A%20false%7D%0A%20%20%20%20%20%20%20%20%20%20%20%20%29.addTo%28map_bf1fe9ceef164c6ca1af86d7052e168f%29%3B%0A%20%20%20%20%20%20%20%20%0A%20%20%20%20%0A%20%20%20%20%20%20%20%20%20%20%20%20var%20tile_layer_e73f2e8632de4777be92b97e6b1c9dfa%20%3D%20L.tileLayer%28%0A%20%20%20%20%20%20%20%20%20%20%20%20%20%20%20%20%22https%3A//earthengine.googleapis.com/v1alpha/projects/earthengine-legacy/maps/2d58049dbb230883e4c39520bfb8617c-e471a70bfa1e1f0ef45f8b88d74ff03e/tiles/%7Bz%7D/%7Bx%7D/%7By%7D%22%2C%0A%20%20%20%20%20%20%20%20%20%20%20%20%20%20%20%20%7B%22attribution%22%3A%20%22Google%20Earth%20Engine%22%2C%20%22detectRetina%22%3A%20false%2C%20%22maxNativeZoom%22%3A%2018%2C%20%22maxZoom%22%3A%2018%2C%20%22minZoom%22%3A%200%2C%20%22noWrap%22%3A%20false%2C%20%22opacity%22%3A%201%2C%20%22subdomains%22%3A%20%22abc%22%2C%20%22tms%22%3A%20false%7D%0A%20%20%20%20%20%20%20%20%20%20%20%20%29.addTo%28map_bf1fe9ceef164c6ca1af86d7052e168f%29%3B%0A%20%20%20%20%20%20%20%20%0A%20%20%20%20%0A%20%20%20%20%20%20%20%20%20%20%20%20var%20tile_layer_bb426e77b11040f5b566895608078439%20%3D%20L.tileLayer%28%0A%20%20%20%20%20%20%20%20%20%20%20%20%20%20%20%20%22https%3A//earthengine.googleapis.com/v1alpha/projects/earthengine-legacy/maps/6a01477786ba7f9cdc874847045d1cd6-f8c28f75c19458e446e44d08ca4873dc/tiles/%7Bz%7D/%7Bx%7D/%7By%7D%22%2C%0A%20%20%20%20%20%20%20%20%20%20%20%20%20%20%20%20%7B%22attribution%22%3A%20%22Google%20Earth%20Engine%22%2C%20%22detectRetina%22%3A%20false%2C%20%22maxNativeZoom%22%3A%2018%2C%20%22maxZoom%22%3A%2018%2C%20%22minZoom%22%3A%200%2C%20%22noWrap%22%3A%20false%2C%20%22opacity%22%3A%201%2C%20%22subdomains%22%3A%20%22abc%22%2C%20%22tms%22%3A%20false%7D%0A%20%20%20%20%20%20%20%20%20%20%20%20%29.addTo%28map_bf1fe9ceef164c6ca1af86d7052e168f%29%3B%0A%20%20%20%20%20%20%20%20%0A%20%20%20%20%0A%20%20%20%20%20%20%20%20%20%20%20%20var%20tile_layer_36490c94dc134bd4b933fdd321993c65%20%3D%20L.tileLayer%28%0A%20%20%20%20%20%20%20%20%20%20%20%20%20%20%20%20%22https%3A//earthengine.googleapis.com/v1alpha/projects/earthengine-legacy/maps/503a2657f4b9dfb883b0c5943042cf59-1a71b958136df3fa0e51ce213b1f4fae/tiles/%7Bz%7D/%7Bx%7D/%7By%7D%22%2C%0A%20%20%20%20%20%20%20%20%20%20%20%20%20%20%20%20%7B%22attribution%22%3A%20%22Google%20Earth%20Engine%22%2C%20%22detectRetina%22%3A%20false%2C%20%22maxNativeZoom%22%3A%2018%2C%20%22maxZoom%22%3A%2018%2C%20%22minZoom%22%3A%200%2C%20%22noWrap%22%3A%20false%2C%20%22opacity%22%3A%201%2C%20%22subdomains%22%3A%20%22abc%22%2C%20%22tms%22%3A%20false%7D%0A%20%20%20%20%20%20%20%20%20%20%20%20%29.addTo%28map_bf1fe9ceef164c6ca1af86d7052e168f%29%3B%0A%20%20%20%20%20%20%20%20%0A%20%20%20%20%0A%20%20%20%20%20%20%20%20%20%20%20%20var%20layer_control_886db4d514664b31b12a302798fd10fe%20%3D%20%7B%0A%20%20%20%20%20%20%20%20%20%20%20%20%20%20%20%20base_layers%20%3A%20%7B%0A%20%20%20%20%20%20%20%20%20%20%20%20%20%20%20%20%20%20%20%20%22openstreetmap%22%20%3A%20tile_layer_eec686ce41944921a4830aafd31594b4%2C%0A%20%20%20%20%20%20%20%20%20%20%20%20%20%20%20%20%7D%2C%0A%20%20%20%20%20%20%20%20%20%20%20%20%20%20%20%20overlays%20%3A%20%20%7B%0A%20%20%20%20%20%20%20%20%20%20%20%20%20%20%20%20%20%20%20%20%22Slope%22%20%3A%20tile_layer_3e1ea11a422f4c9982331b4e572420fc%2C%0A%20%20%20%20%20%20%20%20%20%20%20%20%20%20%20%20%20%20%20%20%22Grids%22%20%3A%20tile_layer_e73f2e8632de4777be92b97e6b1c9dfa%2C%0A%20%20%20%20%20%20%20%20%20%20%20%20%20%20%20%20%20%20%20%20%22Centroids%22%20%3A%20tile_layer_bb426e77b11040f5b566895608078439%2C%0A%20%20%20%20%20%20%20%20%20%20%20%20%20%20%20%20%20%20%20%20%22centroides_ECMWF%22%20%3A%20tile_layer_36490c94dc134bd4b933fdd321993c65%2C%0A%20%20%20%20%20%20%20%20%20%20%20%20%20%20%20%20%7D%2C%0A%20%20%20%20%20%20%20%20%20%20%20%20%7D%3B%0A%20%20%20%20%20%20%20%20%20%20%20%20L.control.layers%28%0A%20%20%20%20%20%20%20%20%20%20%20%20%20%20%20%20layer_control_886db4d514664b31b12a302798fd10fe.base_layers%2C%0A%20%20%20%20%20%20%20%20%20%20%20%20%20%20%20%20layer_control_886db4d514664b31b12a302798fd10fe.overlays%2C%0A%20%20%20%20%20%20%20%20%20%20%20%20%20%20%20%20%7B%22autoZIndex%22%3A%20true%2C%20%22collapsed%22%3A%20true%2C%20%22position%22%3A%20%22topright%22%7D%0A%20%20%20%20%20%20%20%20%20%20%20%20%29.addTo%28map_bf1fe9ceef164c6ca1af86d7052e168f%29%3B%0A%20%20%20%20%20%20%20%20%0A%20%20%20%20%0A%20%20%20%20%20%20%20%20%20%20%20%20L.control.fullscreen%28%0A%20%20%20%20%20%20%20%20%20%20%20%20%20%20%20%20%7B%22forceSeparateButton%22%3A%20false%2C%20%22position%22%3A%20%22topleft%22%2C%20%22title%22%3A%20%22Full%20Screen%22%2C%20%22titleCancel%22%3A%20%22Exit%20Full%20Screen%22%7D%0A%20%20%20%20%20%20%20%20%20%20%20%20%29.addTo%28map_bf1fe9ceef164c6ca1af86d7052e168f%29%3B%0A%20%20%20%20%20%20%20%20%0A%20%20%20%20%0A%20%20%20%20%20%20%20%20%20%20%20%20%20%20%20%20var%20lat_lng_popup_4b3b6d73b30d4242b92c8a2892d939c6%20%3D%20L.popup%28%29%3B%0A%20%20%20%20%20%20%20%20%20%20%20%20%20%20%20%20function%20latLngPop%28e%29%20%7B%0A%20%20%20%20%20%20%20%20%20%20%20%20%20%20%20%20%20%20%20%20lat_lng_popup_4b3b6d73b30d4242b92c8a2892d939c6%0A%20%20%20%20%20%20%20%20%20%20%20%20%20%20%20%20%20%20%20%20%20%20%20%20.setLatLng%28e.latlng%29%0A%20%20%20%20%20%20%20%20%20%20%20%20%20%20%20%20%20%20%20%20%20%20%20%20.setContent%28%22Latitude%3A%20%22%20%2B%20e.latlng.lat.toFixed%284%29%20%2B%0A%20%20%20%20%20%20%20%20%20%20%20%20%20%20%20%20%20%20%20%20%20%20%20%20%20%20%20%20%20%20%20%20%20%20%20%20%22%3Cbr%3ELongitude%3A%20%22%20%2B%20e.latlng.lng.toFixed%284%29%29%0A%20%20%20%20%20%20%20%20%20%20%20%20%20%20%20%20%20%20%20%20%20%20%20%20.openOn%28map_bf1fe9ceef164c6ca1af86d7052e168f%29%3B%0A%20%20%20%20%20%20%20%20%20%20%20%20%20%20%20%20%20%20%20%20%7D%0A%20%20%20%20%20%20%20%20%20%20%20%20%20%20%20%20map_bf1fe9ceef164c6ca1af86d7052e168f.on%28%27click%27%2C%20latLngPop%29%3B%0A%20%20%20%20%20%20%20%20%20%20%20%20%0A%3C/script%3E onload=\"this.contentDocument.open();this.contentDocument.write(    decodeURIComponent(this.getAttribute('data-html')));this.contentDocument.close();\" allowfullscreen webkitallowfullscreen mozallowfullscreen></iframe></div></div>"
     },
     "metadata": {},
     "execution_count": 267
    }
   ],
   "source": [
    "# mean NDVI in the Xingu Park\n",
    "Map = folium.Map(location=centroide,zoom_start=11,control_scale =True,width='100%',height='100%')\n",
    "\n",
    "Map.addLayer(slope, {min: 0, max: 60}, 'Slope')\n",
    "Map.addLayer(greed,{'color':'#FFFFFF80'}, 'Grids')\n",
    "Map.addLayer(centroids,{'color':'#000000'}, 'Centroids')\n",
    "Map.addLayer(centroides_ECMWF,{'color':'#FF0000'}, 'centroides_ECMWF')\n",
    "\n",
    "Map.setControlVisibility(layerControl=True,fullscreenControl=True,latLngPopup=True) # Layer control\n",
    "Map"
   ]
  }
 ]
}