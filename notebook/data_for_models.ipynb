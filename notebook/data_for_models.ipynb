{
 "metadata": {
  "language_info": {
   "codemirror_mode": {
    "name": "ipython",
    "version": 3
   },
   "file_extension": ".py",
   "mimetype": "text/x-python",
   "name": "python",
   "nbconvert_exporter": "python",
   "pygments_lexer": "ipython3",
   "version": "3.8.5"
  },
  "orig_nbformat": 2,
  "kernelspec": {
   "name": "python3",
   "display_name": "Python 3.8.5 64-bit ('gee-env': venv)"
  },
  "interpreter": {
   "hash": "771c8809e15e4191543b97e613b9aad8fd3df0f30d9e8f7f36206efe6445782d"
  }
 },
 "nbformat": 4,
 "nbformat_minor": 2,
 "cells": [
  {
   "source": [
    "#### Descargando la data \n",
    "\n",
    "Descargando los datos para el entrenamiento de los modelos."
   ],
   "cell_type": "markdown",
   "metadata": {}
  },
  {
   "source": [
    "#### Módulos"
   ],
   "cell_type": "markdown",
   "metadata": {}
  },
  {
   "cell_type": "code",
   "execution_count": 1,
   "metadata": {},
   "outputs": [],
   "source": [
    "# Módulos\n",
    "import ee\n",
    "import folium\n",
    "import geehydro"
   ]
  },
  {
   "cell_type": "code",
   "execution_count": 3,
   "metadata": {},
   "outputs": [],
   "source": [
    "# Inicio de API\n",
    "ee.Initialize()"
   ]
  },
  {
   "source": [
    "#### Función generateGreedForGeometry"
   ],
   "cell_type": "markdown",
   "metadata": {}
  },
  {
   "cell_type": "code",
   "execution_count": 5,
   "metadata": {},
   "outputs": [],
   "source": [
    "#funcion para la generacion de grillas\n",
    "def generateGreedForGeometry(geom,dx,dy):\n",
    "    \"\"\"\n",
    "    Función para generar grillas partiendo de una zona geográfica.\n",
    "    \"\"\"\n",
    "\n",
    "    bounds = ee.Geometry(geom).bounds()\n",
    "    coords = ee.List(bounds.coordinates().get(0))\n",
    "    ll = ee.List(coords.get(0))\n",
    "    ur = ee.List(coords.get(2))\n",
    "    xmin = ll.get(0)\n",
    "    xmax = ur.get(0)\n",
    "    ymin = ll.get(1)\n",
    "    ymax = ur.get(1)\n",
    "\n",
    "    xx = ee.List.sequence(xmin, xmax, dx)\n",
    "    yy = ee.List.sequence(ymin, ymax, dy)\n",
    "\n",
    "    #************************************\n",
    "    def contYYa(y,x,dx,dy):\n",
    "\n",
    "        x1 = ee.Number(x)\n",
    "        x2 = ee.Number(x).add(ee.Number(dx))\n",
    "        y1 = ee.Number(y)\n",
    "        y2 = ee.Number(y).add(ee.Number(dy))\n",
    "\n",
    "        coords = ee.List([x1, y1, x2, y2])\n",
    "        rect = ee.Algorithms.GeometryConstructors.Rectangle(coords)\n",
    "\n",
    "        return ee.Feature(rect)\n",
    "\n",
    "    def contYY(x):\n",
    "        return yy.map(lambda yi: contYYa(y=yi,x=x,dx=dx,dy=dy) )\n",
    "    #************************************\n",
    "\n",
    "    cells = xx.map(contYY).flatten() \n",
    "\n",
    "    return ee.FeatureCollection(cells).filterBounds(geom)#.map(lambda c: ee.Feature(c).intersection(geom) )"
   ]
  },
  {
   "source": [
    "#### Ejemplo"
   ],
   "cell_type": "markdown",
   "metadata": {}
  },
  {
   "cell_type": "code",
   "execution_count": 172,
   "metadata": {},
   "outputs": [
    {
     "output_type": "stream",
     "name": "stdout",
     "text": [
      "área del parque Km2:  3629.434345090513\n",
      "área de cuadricula Km2:  100.9365181750428\n",
      "número de centroides:  74\n"
     ]
    }
   ],
   "source": [
    "#----------------------------------------------\n",
    "# Seleccion del parque\n",
    "#----------------------------------------------\n",
    "\n",
    "# region\n",
    "polygonCollection = 'WCMC/WDPA/current/polygons'\n",
    "polygonName = 'Cerro Saroche'#'Canaima National Park'#'Guatopo'\n",
    "\n",
    "# poligono\n",
    "polygon = ee.FeatureCollection(polygonCollection) \\\n",
    "            .filter(ee.Filter.eq('NAME', polygonName))\n",
    "\n",
    "\n",
    "# geometria\n",
    "state = polygon.geometry()\n",
    "dx = 0.0288\n",
    "dy = 0.0288\n",
    "\n",
    "# creando grilla\n",
    "greed = generateGreedForGeometry(state,dx,dy)\n",
    "centroide = state.centroid().coordinates().getInfo()[::-1]\n",
    "\n",
    "def getCentroid(feature):\n",
    "    keepProperties = ['name', 'huc6', 'tnmid', 'areasqkm']\n",
    "    centroid = feature.geometry().centroid()\n",
    "    return ee.Feature(centroid).copyProperties(feature, keepProperties)\n",
    "\n",
    "#centroides\n",
    "centroids = greed.map(getCentroid)\n",
    "\n",
    "print('área del parque Km2: ', 0.1*polygon.first().geometry().area().divide(100*100).getInfo() ) \n",
    "print('área de cuadricula Km2: ', 0.1*greed.first().geometry().area().divide(100*100).getInfo() )\n",
    "print('número de centroides: ', centroids.size().getInfo())"
   ]
  },
  {
   "source": [
    "#### data ECMWF/ERA5/MONTHLY y CGIAR/SRTM90_V4"
   ],
   "cell_type": "markdown",
   "metadata": {}
  },
  {
   "cell_type": "code",
   "execution_count": 178,
   "metadata": {},
   "outputs": [],
   "source": [
    "# Elevacion\n",
    "elevation = ee.Image('CGIAR/SRTM90_V4').select('elevation')\n",
    "#slope = ee.Terrain.slope(elevation)\n",
    "\n",
    "# Precipitacion total\n",
    "ECMWF = ee.ImageCollection(\"ECMWF/ERA5/MONTHLY\")\n",
    "#slope = ee.Terrain.slope(elevation)\n",
    "\n",
    "# calculando el punto con la elevacion\n",
    "reducer = ee.Reducer.first()\n",
    "centroids_elevation = elevation.reduceRegions( ee.FeatureCollection(centroids) , reducer.setOutputs(['elevation']), 90)"
   ]
  },
  {
   "cell_type": "code",
   "execution_count": 324,
   "metadata": {},
   "outputs": [],
   "source": [
    "def ECMWF_data(imagen_collection = ECMWF,\n",
    "                date = '2015-12-01',\n",
    "                points = centroids,\n",
    "                imagen_elevation = centroids_elevation):\n",
    "\n",
    "    reducer = ee.Reducer.first()\n",
    "    centroids_ECMWF= imagen_collection\\\n",
    "                        .filterDate(date)\\\n",
    "                        .map(lambda x: x.reduceRegions(imagen_elevation,reducer.setOutputs(['total_precipitation']),2))\n",
    "\n",
    "    lista = centroids_ECMWF.first().getInfo()\n",
    "\n",
    "    if lista is None:\n",
    "        return None\n",
    "\n",
    "    return list(map(lambda x,y:\n",
    "                    {'date': y,\n",
    "                    'id':int(x.get('id')),\n",
    "                    'longitude':x.get('geometry').get('coordinates')[0],\n",
    "                    'latitude':x.get('geometry').get('coordinates')[1],\n",
    "                    'dewpoint_2m_temperature': x.get('properties').get('dewpoint_2m_temperature'),\n",
    "                    'elevation': x.get('properties').get('elevation'),\n",
    "                    'maximum_2m_air_temperature': x.get('properties').get('maximum_2m_air_temperature'),\n",
    "                    'mean_2m_air_temperature': x.get('properties').get('mean_2m_air_temperature'),\n",
    "                    'mean_sea_level_pressure': x.get('properties').get('mean_sea_level_pressure'),\n",
    "                    'minimum_2m_air_temperature': x.get('properties').get('minimum_2m_air_temperature'),\n",
    "                    'surface_pressure': x.get('properties').get('surface_pressure'),\n",
    "                    'total_precipitation': x.get('properties').get('total_precipitation'),\n",
    "                    'u_component_of_wind_10m': x.get('properties').get('u_component_of_wind_10m'),\n",
    "                    'v_component_of_wind_10m': x.get('properties').get('v_component_of_wind_10m')\n",
    "                    },\n",
    "                    lista.get('features'),\n",
    "                    [lista.get('properties').get('system:index') for x in range(len(lista.get('features'))) ]\n",
    "                    ))\n",
    "\n",
    "#ECMWF_data()"
   ]
  },
  {
   "cell_type": "code",
   "execution_count": 343,
   "metadata": {},
   "outputs": [
    {
     "output_type": "execute_result",
     "data": {
      "text/plain": [
       "      date  id  longitude   latitude  dewpoint_2m_temperature  elevation  \\\n",
       "0   201001   4 -69.862964  10.191936               289.937256        494   \n",
       "1   201001   5 -69.862964  10.220736               289.937256        734   \n",
       "2   201001   6 -69.862964  10.249536               289.937256        538   \n",
       "3   201001  13 -69.834164  10.191936               289.937256        512   \n",
       "4   201001  14 -69.834164  10.220736               289.937256        618   \n",
       "5   201001  15 -69.834164  10.249536               289.937256        706   \n",
       "6   201001  16 -69.834164  10.278336               289.905151        507   \n",
       "7   201001  22 -69.805364  10.191936               289.937256        499   \n",
       "8   201001  23 -69.805364  10.220736               289.937256        601   \n",
       "9   201001  24 -69.805364  10.249536               289.937256        969   \n",
       "10  201001  25 -69.805364  10.278336               289.905151        598   \n",
       "11  201001  30 -69.776564  10.163136               289.937256        625   \n",
       "12  201001  31 -69.776564  10.191936               289.937256        543   \n",
       "13  201001  32 -69.776564  10.220736               289.937256        596   \n",
       "14  201001  33 -69.776564  10.249536               289.937256       1087   \n",
       "15  201001  34 -69.776564  10.278336               289.905151        622   \n",
       "16  201001  35 -69.776564  10.307136               289.905151        615   \n",
       "17  201001  38 -69.747764  10.134336               290.074432        779   \n",
       "18  201001  39 -69.747764  10.163136               290.074432        653   \n",
       "19  201001  40 -69.747764  10.191936               290.074432        576   \n",
       "20  201001  41 -69.747764  10.220736               290.074432        572   \n",
       "21  201001  42 -69.747764  10.249536               290.074432        659   \n",
       "22  201001  43 -69.747764  10.278336               290.651489        611   \n",
       "23  201001  44 -69.747764  10.307136               290.651489        575   \n",
       "24  201001  46 -69.718964  10.105536               290.074432        671   \n",
       "25  201001  47 -69.718964  10.134336               290.074432        714   \n",
       "26  201001  48 -69.718964  10.163136               290.074432        657   \n",
       "27  201001  49 -69.718964  10.191936               290.074432        722   \n",
       "28  201001  50 -69.718964  10.220736               290.074432        599   \n",
       "29  201001  54 -69.690164  10.076736               290.074432        602   \n",
       "\n",
       "    maximum_2m_air_temperature  mean_2m_air_temperature  \\\n",
       "0                   310.467957               300.634796   \n",
       "1                   310.467957               300.634796   \n",
       "2                   310.467957               300.634796   \n",
       "3                   310.467957               300.634796   \n",
       "4                   310.467957               300.634796   \n",
       "5                   310.467957               300.634796   \n",
       "6                   308.866150               298.711700   \n",
       "7                   310.467957               300.634796   \n",
       "8                   310.467957               300.634796   \n",
       "9                   310.467957               300.634796   \n",
       "10                  308.866150               298.711700   \n",
       "11                  310.467957               300.634796   \n",
       "12                  310.467957               300.634796   \n",
       "13                  310.467957               300.634796   \n",
       "14                  310.467957               300.634796   \n",
       "15                  308.866150               298.711700   \n",
       "16                  308.866150               298.711700   \n",
       "17                  309.161194               299.394165   \n",
       "18                  309.161194               299.394165   \n",
       "19                  309.161194               299.394165   \n",
       "20                  309.161194               299.394165   \n",
       "21                  309.161194               299.394165   \n",
       "22                  308.846069               298.635193   \n",
       "23                  308.846069               298.635193   \n",
       "24                  309.161194               299.394165   \n",
       "25                  309.161194               299.394165   \n",
       "26                  309.161194               299.394165   \n",
       "27                  309.161194               299.394165   \n",
       "28                  309.161194               299.394165   \n",
       "29                  309.161194               299.394165   \n",
       "\n",
       "    mean_sea_level_pressure  minimum_2m_air_temperature  surface_pressure  \\\n",
       "0             101112.992188                  293.052795      95308.664062   \n",
       "1             101112.992188                  293.052795      95308.664062   \n",
       "2             101112.992188                  293.052795      95308.664062   \n",
       "3             101112.992188                  293.052795      95308.664062   \n",
       "4             101112.992188                  293.052795      95308.664062   \n",
       "5             101112.992188                  293.052795      95308.664062   \n",
       "6             101191.000000                  291.120056      93795.914062   \n",
       "7             101112.992188                  293.052795      95308.664062   \n",
       "8             101112.992188                  293.052795      95308.664062   \n",
       "9             101112.992188                  293.052795      95308.664062   \n",
       "10            101191.000000                  291.120056      93795.914062   \n",
       "11            101112.992188                  293.052795      95308.664062   \n",
       "12            101112.992188                  293.052795      95308.664062   \n",
       "13            101112.992188                  293.052795      95308.664062   \n",
       "14            101112.992188                  293.052795      95308.664062   \n",
       "15            101191.000000                  291.120056      93795.914062   \n",
       "16            101191.000000                  291.120056      93795.914062   \n",
       "17            101181.093750                  292.445190      94098.492188   \n",
       "18            101181.093750                  292.445190      94098.492188   \n",
       "19            101181.093750                  292.445190      94098.492188   \n",
       "20            101181.093750                  292.445190      94098.492188   \n",
       "21            101181.093750                  292.445190      94098.492188   \n",
       "22            101214.453125                  291.924866      94304.882812   \n",
       "23            101214.453125                  291.924866      94304.882812   \n",
       "24            101181.093750                  292.445190      94098.492188   \n",
       "25            101181.093750                  292.445190      94098.492188   \n",
       "26            101181.093750                  292.445190      94098.492188   \n",
       "27            101181.093750                  292.445190      94098.492188   \n",
       "28            101181.093750                  292.445190      94098.492188   \n",
       "29            101181.093750                  292.445190      94098.492188   \n",
       "\n",
       "    total_precipitation  u_component_of_wind_10m  v_component_of_wind_10m  \\\n",
       "0              0.000668                -3.618990                -0.772696   \n",
       "1              0.000668                -3.618990                -0.772696   \n",
       "2              0.000668                -3.618990                -0.772696   \n",
       "3              0.000668                -3.618990                -0.772696   \n",
       "4              0.000668                -3.618990                -0.772696   \n",
       "5              0.000668                -3.618990                -0.772696   \n",
       "6              0.002523                -3.175932                -0.149812   \n",
       "7              0.000668                -3.618990                -0.772696   \n",
       "8              0.000668                -3.618990                -0.772696   \n",
       "9              0.000668                -3.618990                -0.772696   \n",
       "10             0.002523                -3.175932                -0.149812   \n",
       "11             0.000668                -3.618990                -0.772696   \n",
       "12             0.000668                -3.618990                -0.772696   \n",
       "13             0.000668                -3.618990                -0.772696   \n",
       "14             0.000668                -3.618990                -0.772696   \n",
       "15             0.002523                -3.175932                -0.149812   \n",
       "16             0.002523                -3.175932                -0.149812   \n",
       "17             0.002266                -3.829462                -0.365741   \n",
       "18             0.002266                -3.829462                -0.365741   \n",
       "19             0.002266                -3.829462                -0.365741   \n",
       "20             0.002266                -3.829462                -0.365741   \n",
       "21             0.002266                -3.829462                -0.365741   \n",
       "22             0.006498                -3.284698                -0.225930   \n",
       "23             0.006498                -3.284698                -0.225930   \n",
       "24             0.002266                -3.829462                -0.365741   \n",
       "25             0.002266                -3.829462                -0.365741   \n",
       "26             0.002266                -3.829462                -0.365741   \n",
       "27             0.002266                -3.829462                -0.365741   \n",
       "28             0.002266                -3.829462                -0.365741   \n",
       "29             0.002266                -3.829462                -0.365741   \n",
       "\n",
       "    year  month  \n",
       "0   2010      1  \n",
       "1   2010      1  \n",
       "2   2010      1  \n",
       "3   2010      1  \n",
       "4   2010      1  \n",
       "5   2010      1  \n",
       "6   2010      1  \n",
       "7   2010      1  \n",
       "8   2010      1  \n",
       "9   2010      1  \n",
       "10  2010      1  \n",
       "11  2010      1  \n",
       "12  2010      1  \n",
       "13  2010      1  \n",
       "14  2010      1  \n",
       "15  2010      1  \n",
       "16  2010      1  \n",
       "17  2010      1  \n",
       "18  2010      1  \n",
       "19  2010      1  \n",
       "20  2010      1  \n",
       "21  2010      1  \n",
       "22  2010      1  \n",
       "23  2010      1  \n",
       "24  2010      1  \n",
       "25  2010      1  \n",
       "26  2010      1  \n",
       "27  2010      1  \n",
       "28  2010      1  \n",
       "29  2010      1  "
      ],
      "text/html": "<div>\n<style scoped>\n    .dataframe tbody tr th:only-of-type {\n        vertical-align: middle;\n    }\n\n    .dataframe tbody tr th {\n        vertical-align: top;\n    }\n\n    .dataframe thead th {\n        text-align: right;\n    }\n</style>\n<table border=\"1\" class=\"dataframe\">\n  <thead>\n    <tr style=\"text-align: right;\">\n      <th></th>\n      <th>date</th>\n      <th>id</th>\n      <th>longitude</th>\n      <th>latitude</th>\n      <th>dewpoint_2m_temperature</th>\n      <th>elevation</th>\n      <th>maximum_2m_air_temperature</th>\n      <th>mean_2m_air_temperature</th>\n      <th>mean_sea_level_pressure</th>\n      <th>minimum_2m_air_temperature</th>\n      <th>surface_pressure</th>\n      <th>total_precipitation</th>\n      <th>u_component_of_wind_10m</th>\n      <th>v_component_of_wind_10m</th>\n      <th>year</th>\n      <th>month</th>\n    </tr>\n  </thead>\n  <tbody>\n    <tr>\n      <th>0</th>\n      <td>201001</td>\n      <td>4</td>\n      <td>-69.862964</td>\n      <td>10.191936</td>\n      <td>289.937256</td>\n      <td>494</td>\n      <td>310.467957</td>\n      <td>300.634796</td>\n      <td>101112.992188</td>\n      <td>293.052795</td>\n      <td>95308.664062</td>\n      <td>0.000668</td>\n      <td>-3.618990</td>\n      <td>-0.772696</td>\n      <td>2010</td>\n      <td>1</td>\n    </tr>\n    <tr>\n      <th>1</th>\n      <td>201001</td>\n      <td>5</td>\n      <td>-69.862964</td>\n      <td>10.220736</td>\n      <td>289.937256</td>\n      <td>734</td>\n      <td>310.467957</td>\n      <td>300.634796</td>\n      <td>101112.992188</td>\n      <td>293.052795</td>\n      <td>95308.664062</td>\n      <td>0.000668</td>\n      <td>-3.618990</td>\n      <td>-0.772696</td>\n      <td>2010</td>\n      <td>1</td>\n    </tr>\n    <tr>\n      <th>2</th>\n      <td>201001</td>\n      <td>6</td>\n      <td>-69.862964</td>\n      <td>10.249536</td>\n      <td>289.937256</td>\n      <td>538</td>\n      <td>310.467957</td>\n      <td>300.634796</td>\n      <td>101112.992188</td>\n      <td>293.052795</td>\n      <td>95308.664062</td>\n      <td>0.000668</td>\n      <td>-3.618990</td>\n      <td>-0.772696</td>\n      <td>2010</td>\n      <td>1</td>\n    </tr>\n    <tr>\n      <th>3</th>\n      <td>201001</td>\n      <td>13</td>\n      <td>-69.834164</td>\n      <td>10.191936</td>\n      <td>289.937256</td>\n      <td>512</td>\n      <td>310.467957</td>\n      <td>300.634796</td>\n      <td>101112.992188</td>\n      <td>293.052795</td>\n      <td>95308.664062</td>\n      <td>0.000668</td>\n      <td>-3.618990</td>\n      <td>-0.772696</td>\n      <td>2010</td>\n      <td>1</td>\n    </tr>\n    <tr>\n      <th>4</th>\n      <td>201001</td>\n      <td>14</td>\n      <td>-69.834164</td>\n      <td>10.220736</td>\n      <td>289.937256</td>\n      <td>618</td>\n      <td>310.467957</td>\n      <td>300.634796</td>\n      <td>101112.992188</td>\n      <td>293.052795</td>\n      <td>95308.664062</td>\n      <td>0.000668</td>\n      <td>-3.618990</td>\n      <td>-0.772696</td>\n      <td>2010</td>\n      <td>1</td>\n    </tr>\n    <tr>\n      <th>5</th>\n      <td>201001</td>\n      <td>15</td>\n      <td>-69.834164</td>\n      <td>10.249536</td>\n      <td>289.937256</td>\n      <td>706</td>\n      <td>310.467957</td>\n      <td>300.634796</td>\n      <td>101112.992188</td>\n      <td>293.052795</td>\n      <td>95308.664062</td>\n      <td>0.000668</td>\n      <td>-3.618990</td>\n      <td>-0.772696</td>\n      <td>2010</td>\n      <td>1</td>\n    </tr>\n    <tr>\n      <th>6</th>\n      <td>201001</td>\n      <td>16</td>\n      <td>-69.834164</td>\n      <td>10.278336</td>\n      <td>289.905151</td>\n      <td>507</td>\n      <td>308.866150</td>\n      <td>298.711700</td>\n      <td>101191.000000</td>\n      <td>291.120056</td>\n      <td>93795.914062</td>\n      <td>0.002523</td>\n      <td>-3.175932</td>\n      <td>-0.149812</td>\n      <td>2010</td>\n      <td>1</td>\n    </tr>\n    <tr>\n      <th>7</th>\n      <td>201001</td>\n      <td>22</td>\n      <td>-69.805364</td>\n      <td>10.191936</td>\n      <td>289.937256</td>\n      <td>499</td>\n      <td>310.467957</td>\n      <td>300.634796</td>\n      <td>101112.992188</td>\n      <td>293.052795</td>\n      <td>95308.664062</td>\n      <td>0.000668</td>\n      <td>-3.618990</td>\n      <td>-0.772696</td>\n      <td>2010</td>\n      <td>1</td>\n    </tr>\n    <tr>\n      <th>8</th>\n      <td>201001</td>\n      <td>23</td>\n      <td>-69.805364</td>\n      <td>10.220736</td>\n      <td>289.937256</td>\n      <td>601</td>\n      <td>310.467957</td>\n      <td>300.634796</td>\n      <td>101112.992188</td>\n      <td>293.052795</td>\n      <td>95308.664062</td>\n      <td>0.000668</td>\n      <td>-3.618990</td>\n      <td>-0.772696</td>\n      <td>2010</td>\n      <td>1</td>\n    </tr>\n    <tr>\n      <th>9</th>\n      <td>201001</td>\n      <td>24</td>\n      <td>-69.805364</td>\n      <td>10.249536</td>\n      <td>289.937256</td>\n      <td>969</td>\n      <td>310.467957</td>\n      <td>300.634796</td>\n      <td>101112.992188</td>\n      <td>293.052795</td>\n      <td>95308.664062</td>\n      <td>0.000668</td>\n      <td>-3.618990</td>\n      <td>-0.772696</td>\n      <td>2010</td>\n      <td>1</td>\n    </tr>\n    <tr>\n      <th>10</th>\n      <td>201001</td>\n      <td>25</td>\n      <td>-69.805364</td>\n      <td>10.278336</td>\n      <td>289.905151</td>\n      <td>598</td>\n      <td>308.866150</td>\n      <td>298.711700</td>\n      <td>101191.000000</td>\n      <td>291.120056</td>\n      <td>93795.914062</td>\n      <td>0.002523</td>\n      <td>-3.175932</td>\n      <td>-0.149812</td>\n      <td>2010</td>\n      <td>1</td>\n    </tr>\n    <tr>\n      <th>11</th>\n      <td>201001</td>\n      <td>30</td>\n      <td>-69.776564</td>\n      <td>10.163136</td>\n      <td>289.937256</td>\n      <td>625</td>\n      <td>310.467957</td>\n      <td>300.634796</td>\n      <td>101112.992188</td>\n      <td>293.052795</td>\n      <td>95308.664062</td>\n      <td>0.000668</td>\n      <td>-3.618990</td>\n      <td>-0.772696</td>\n      <td>2010</td>\n      <td>1</td>\n    </tr>\n    <tr>\n      <th>12</th>\n      <td>201001</td>\n      <td>31</td>\n      <td>-69.776564</td>\n      <td>10.191936</td>\n      <td>289.937256</td>\n      <td>543</td>\n      <td>310.467957</td>\n      <td>300.634796</td>\n      <td>101112.992188</td>\n      <td>293.052795</td>\n      <td>95308.664062</td>\n      <td>0.000668</td>\n      <td>-3.618990</td>\n      <td>-0.772696</td>\n      <td>2010</td>\n      <td>1</td>\n    </tr>\n    <tr>\n      <th>13</th>\n      <td>201001</td>\n      <td>32</td>\n      <td>-69.776564</td>\n      <td>10.220736</td>\n      <td>289.937256</td>\n      <td>596</td>\n      <td>310.467957</td>\n      <td>300.634796</td>\n      <td>101112.992188</td>\n      <td>293.052795</td>\n      <td>95308.664062</td>\n      <td>0.000668</td>\n      <td>-3.618990</td>\n      <td>-0.772696</td>\n      <td>2010</td>\n      <td>1</td>\n    </tr>\n    <tr>\n      <th>14</th>\n      <td>201001</td>\n      <td>33</td>\n      <td>-69.776564</td>\n      <td>10.249536</td>\n      <td>289.937256</td>\n      <td>1087</td>\n      <td>310.467957</td>\n      <td>300.634796</td>\n      <td>101112.992188</td>\n      <td>293.052795</td>\n      <td>95308.664062</td>\n      <td>0.000668</td>\n      <td>-3.618990</td>\n      <td>-0.772696</td>\n      <td>2010</td>\n      <td>1</td>\n    </tr>\n    <tr>\n      <th>15</th>\n      <td>201001</td>\n      <td>34</td>\n      <td>-69.776564</td>\n      <td>10.278336</td>\n      <td>289.905151</td>\n      <td>622</td>\n      <td>308.866150</td>\n      <td>298.711700</td>\n      <td>101191.000000</td>\n      <td>291.120056</td>\n      <td>93795.914062</td>\n      <td>0.002523</td>\n      <td>-3.175932</td>\n      <td>-0.149812</td>\n      <td>2010</td>\n      <td>1</td>\n    </tr>\n    <tr>\n      <th>16</th>\n      <td>201001</td>\n      <td>35</td>\n      <td>-69.776564</td>\n      <td>10.307136</td>\n      <td>289.905151</td>\n      <td>615</td>\n      <td>308.866150</td>\n      <td>298.711700</td>\n      <td>101191.000000</td>\n      <td>291.120056</td>\n      <td>93795.914062</td>\n      <td>0.002523</td>\n      <td>-3.175932</td>\n      <td>-0.149812</td>\n      <td>2010</td>\n      <td>1</td>\n    </tr>\n    <tr>\n      <th>17</th>\n      <td>201001</td>\n      <td>38</td>\n      <td>-69.747764</td>\n      <td>10.134336</td>\n      <td>290.074432</td>\n      <td>779</td>\n      <td>309.161194</td>\n      <td>299.394165</td>\n      <td>101181.093750</td>\n      <td>292.445190</td>\n      <td>94098.492188</td>\n      <td>0.002266</td>\n      <td>-3.829462</td>\n      <td>-0.365741</td>\n      <td>2010</td>\n      <td>1</td>\n    </tr>\n    <tr>\n      <th>18</th>\n      <td>201001</td>\n      <td>39</td>\n      <td>-69.747764</td>\n      <td>10.163136</td>\n      <td>290.074432</td>\n      <td>653</td>\n      <td>309.161194</td>\n      <td>299.394165</td>\n      <td>101181.093750</td>\n      <td>292.445190</td>\n      <td>94098.492188</td>\n      <td>0.002266</td>\n      <td>-3.829462</td>\n      <td>-0.365741</td>\n      <td>2010</td>\n      <td>1</td>\n    </tr>\n    <tr>\n      <th>19</th>\n      <td>201001</td>\n      <td>40</td>\n      <td>-69.747764</td>\n      <td>10.191936</td>\n      <td>290.074432</td>\n      <td>576</td>\n      <td>309.161194</td>\n      <td>299.394165</td>\n      <td>101181.093750</td>\n      <td>292.445190</td>\n      <td>94098.492188</td>\n      <td>0.002266</td>\n      <td>-3.829462</td>\n      <td>-0.365741</td>\n      <td>2010</td>\n      <td>1</td>\n    </tr>\n    <tr>\n      <th>20</th>\n      <td>201001</td>\n      <td>41</td>\n      <td>-69.747764</td>\n      <td>10.220736</td>\n      <td>290.074432</td>\n      <td>572</td>\n      <td>309.161194</td>\n      <td>299.394165</td>\n      <td>101181.093750</td>\n      <td>292.445190</td>\n      <td>94098.492188</td>\n      <td>0.002266</td>\n      <td>-3.829462</td>\n      <td>-0.365741</td>\n      <td>2010</td>\n      <td>1</td>\n    </tr>\n    <tr>\n      <th>21</th>\n      <td>201001</td>\n      <td>42</td>\n      <td>-69.747764</td>\n      <td>10.249536</td>\n      <td>290.074432</td>\n      <td>659</td>\n      <td>309.161194</td>\n      <td>299.394165</td>\n      <td>101181.093750</td>\n      <td>292.445190</td>\n      <td>94098.492188</td>\n      <td>0.002266</td>\n      <td>-3.829462</td>\n      <td>-0.365741</td>\n      <td>2010</td>\n      <td>1</td>\n    </tr>\n    <tr>\n      <th>22</th>\n      <td>201001</td>\n      <td>43</td>\n      <td>-69.747764</td>\n      <td>10.278336</td>\n      <td>290.651489</td>\n      <td>611</td>\n      <td>308.846069</td>\n      <td>298.635193</td>\n      <td>101214.453125</td>\n      <td>291.924866</td>\n      <td>94304.882812</td>\n      <td>0.006498</td>\n      <td>-3.284698</td>\n      <td>-0.225930</td>\n      <td>2010</td>\n      <td>1</td>\n    </tr>\n    <tr>\n      <th>23</th>\n      <td>201001</td>\n      <td>44</td>\n      <td>-69.747764</td>\n      <td>10.307136</td>\n      <td>290.651489</td>\n      <td>575</td>\n      <td>308.846069</td>\n      <td>298.635193</td>\n      <td>101214.453125</td>\n      <td>291.924866</td>\n      <td>94304.882812</td>\n      <td>0.006498</td>\n      <td>-3.284698</td>\n      <td>-0.225930</td>\n      <td>2010</td>\n      <td>1</td>\n    </tr>\n    <tr>\n      <th>24</th>\n      <td>201001</td>\n      <td>46</td>\n      <td>-69.718964</td>\n      <td>10.105536</td>\n      <td>290.074432</td>\n      <td>671</td>\n      <td>309.161194</td>\n      <td>299.394165</td>\n      <td>101181.093750</td>\n      <td>292.445190</td>\n      <td>94098.492188</td>\n      <td>0.002266</td>\n      <td>-3.829462</td>\n      <td>-0.365741</td>\n      <td>2010</td>\n      <td>1</td>\n    </tr>\n    <tr>\n      <th>25</th>\n      <td>201001</td>\n      <td>47</td>\n      <td>-69.718964</td>\n      <td>10.134336</td>\n      <td>290.074432</td>\n      <td>714</td>\n      <td>309.161194</td>\n      <td>299.394165</td>\n      <td>101181.093750</td>\n      <td>292.445190</td>\n      <td>94098.492188</td>\n      <td>0.002266</td>\n      <td>-3.829462</td>\n      <td>-0.365741</td>\n      <td>2010</td>\n      <td>1</td>\n    </tr>\n    <tr>\n      <th>26</th>\n      <td>201001</td>\n      <td>48</td>\n      <td>-69.718964</td>\n      <td>10.163136</td>\n      <td>290.074432</td>\n      <td>657</td>\n      <td>309.161194</td>\n      <td>299.394165</td>\n      <td>101181.093750</td>\n      <td>292.445190</td>\n      <td>94098.492188</td>\n      <td>0.002266</td>\n      <td>-3.829462</td>\n      <td>-0.365741</td>\n      <td>2010</td>\n      <td>1</td>\n    </tr>\n    <tr>\n      <th>27</th>\n      <td>201001</td>\n      <td>49</td>\n      <td>-69.718964</td>\n      <td>10.191936</td>\n      <td>290.074432</td>\n      <td>722</td>\n      <td>309.161194</td>\n      <td>299.394165</td>\n      <td>101181.093750</td>\n      <td>292.445190</td>\n      <td>94098.492188</td>\n      <td>0.002266</td>\n      <td>-3.829462</td>\n      <td>-0.365741</td>\n      <td>2010</td>\n      <td>1</td>\n    </tr>\n    <tr>\n      <th>28</th>\n      <td>201001</td>\n      <td>50</td>\n      <td>-69.718964</td>\n      <td>10.220736</td>\n      <td>290.074432</td>\n      <td>599</td>\n      <td>309.161194</td>\n      <td>299.394165</td>\n      <td>101181.093750</td>\n      <td>292.445190</td>\n      <td>94098.492188</td>\n      <td>0.002266</td>\n      <td>-3.829462</td>\n      <td>-0.365741</td>\n      <td>2010</td>\n      <td>1</td>\n    </tr>\n    <tr>\n      <th>29</th>\n      <td>201001</td>\n      <td>54</td>\n      <td>-69.690164</td>\n      <td>10.076736</td>\n      <td>290.074432</td>\n      <td>602</td>\n      <td>309.161194</td>\n      <td>299.394165</td>\n      <td>101181.093750</td>\n      <td>292.445190</td>\n      <td>94098.492188</td>\n      <td>0.002266</td>\n      <td>-3.829462</td>\n      <td>-0.365741</td>\n      <td>2010</td>\n      <td>1</td>\n    </tr>\n  </tbody>\n</table>\n</div>"
     },
     "metadata": {},
     "execution_count": 343
    }
   ],
   "source": [
    "import pandas as pd\n",
    "import numpy as np\n",
    "\n",
    "# rango de meses\n",
    "date_start=\"2010-01-01\"\n",
    "date_end=\"2010-03-01\"\n",
    "\n",
    "# consultando la data\n",
    "data = np.array( list(filter(None,\n",
    "                    list(map(lambda x: ECMWF_data(date=x)\n",
    "                                    ,pd.date_range(start=date_start,end=date_end, closed='right',freq='M').strftime('%Y-%m').to_list()\n",
    "                                    ))\n",
    "                )))\n",
    "\n",
    "data = data.reshape((\n",
    "                    1,\n",
    "                    data.shape[0]*data.shape[1]\n",
    "                    )).tolist()[0]\n",
    "\n",
    "data = pd.DataFrame(data)\n",
    "data['year'] = pd.to_datetime(data['date'],format='%Y%m').dt.year\n",
    "data['month'] = pd.to_datetime(data['date'],format='%Y%m').dt.month\n",
    "data['date'] = data['date'].apply(int)\n",
    "\n",
    "data.sort_values(['date','id'],ascending=True).head(30)"
   ]
  },
  {
   "cell_type": "code",
   "execution_count": 141,
   "metadata": {},
   "outputs": [],
   "source": [
    "# extract points from DEM\n",
    "fc = ee.FeatureCollection(centroids)\n",
    "reducer = ee.Reducer.first()\n",
    "centroids_elevation = elevation.reduceRegions(fc, reducer.setOutputs(['elevation']), 90)\n",
    "centroids_ECMWF= precipitacion_total.map(lambda x: x.reduceRegions(centroids_elevation,reducer.setOutputs(['total_precipitation']),2))\n",
    "#centroids_precipitacion_total = precipitacion_total.map(lambda x: x.reduceRegions(centroids_elevation, reducer.setOutputs(['total_precipitation']), 2))\n",
    "#centroids_temperatura_media = precipitacion_total.map(lambda x: x.reduceRegions(centroids_elevation, reducer.setOutputs(['mean_2m_air_temperature']), 2))"
   ]
  },
  {
   "cell_type": "code",
   "execution_count": 160,
   "metadata": {},
   "outputs": [],
   "source": [
    "task = ee.batch.Export.table.toDrive(**{\n",
    "  'collection': centroids_ECMWF,\n",
    "  'description': 'exportTableExample',\n",
    "  'fileFormat': 'CSV'\n",
    "})"
   ]
  },
  {
   "cell_type": "code",
   "execution_count": 14,
   "metadata": {},
   "outputs": [],
   "source": [
    "task = ee.batch.Export.table.toDrive(data, 'pointsDataExtract', 'FOLDER', 'nameOfCSV')\n",
    "task.start()"
   ]
  },
  {
   "source": [
    "#### Información Indices de vegetacion"
   ],
   "cell_type": "markdown",
   "metadata": {}
  },
  {
   "cell_type": "code",
   "execution_count": 8,
   "metadata": {},
   "outputs": [],
   "source": [
    "def getQABits(image, start, end, newName):\n",
    "    \"\"\"\n",
    "    Funcion para establecer la calidad de las bandas\n",
    "    \"\"\"\n",
    "\n",
    "    import math\n",
    "\n",
    "    pattern = 0\n",
    "    for i in range(start,end+1):\n",
    "      pattern += math.pow(2, i)\n",
    "    #Return a single band  image of the extracted QA bits, giving the band\n",
    "    #a new name.\n",
    "    return image.select([0], [newName])\\\n",
    "                  .bitwiseAnd(pattern)\\\n",
    "                  .rightShift(start)"
   ]
  },
  {
   "source": [
    "#### MOD13Q1"
   ],
   "cell_type": "markdown",
   "metadata": {}
  },
  {
   "cell_type": "code",
   "execution_count": 91,
   "metadata": {},
   "outputs": [],
   "source": [
    "# MODIS MOD13Q1\n",
    "modis = ee.ImageCollection('MODIS/006/MOD13Q1')\\\n",
    "             .filterDate(ee.DateRange(date_ini,date_end))\\\n",
    "             .map(lambda x: x.clip(polygon))\n",
    "\n",
    "\n",
    "# Filtros de calidad -----------------------------------------\n",
    "# def modis_bit_0(image):\n",
    "\n",
    "#   qscore = getQABits(image.select('SummaryQA'), 0, 1, 'quality')\\\n",
    "#               .expression(\"b(0) == 2 || b(0) == 3\" )\n",
    "\n",
    "#   return image.updateMask(qscore.Not())\n",
    "\n",
    "# #Select the QA band.\n",
    "# def modis_bit_1(image):\n",
    "\n",
    "#   qscore = getQABits(image.select('SummaryQA'), 2, 5, 'usefulness')\\\n",
    "#               .expression(\"b(0) == 2 || b(0) == 4 || b(0) == 8 || b(0) == 9 || b(0) == 10 || b(0) == 12 || b(0) == 13 || b(0) == 14 || b(0) == 15\" )\n",
    "\n",
    "#   return image.updateMask(qscore.Not())\n",
    "\n",
    "# #Select the QA band.\n",
    "# def modis_bit_2(image):\n",
    "\n",
    "#   qscore = getQABits(image.select('SummaryQA'), 13, 14, 'Land/water')\\\n",
    "#               .expression(\"b(0) == 0 || b(0) == 1 || b(0) == 2 || b(0) == 3 || b(0) == 4 || b(0) == 5 || b(0) == 6 || b(0) == 7\" )\n",
    "\n",
    "#   return image.updateMask(qscore.Not())\n",
    "\n",
    "# #Select the QA band.\n",
    "# def modis_bit_3(image):\n",
    "\n",
    "#   qscore = getQABits(image.select('SummaryQA'), 14, 14, 'snow/ice')\\\n",
    "#               .expression(\"b(0) == 1\" )\n",
    "\n",
    "#   return image.updateMask(qscore.Not())\n",
    "\n",
    "# #Select the QA band.\n",
    "# def modis_bit_4(image):\n",
    "\n",
    "#   qscore = getQABits(image.select('DetailedQA'), 15, 15, 'shadow')\\\n",
    "#               .expression(\"b(0) == 1\" )\n",
    "\n",
    "#   return image.updateMask(qscore.Not())\n",
    "\n",
    "# Filtros de calidad -----------------------------------------\n",
    "\n",
    "\n",
    "def scale_factor(image):\n",
    "    # scale factor for the MODIS MOD13Q1 product\n",
    "    return image.multiply(0.0001).copyProperties(image,['system:time_start'])\n",
    "\n"
   ]
  },
  {
   "cell_type": "code",
   "execution_count": 92,
   "metadata": {},
   "outputs": [],
   "source": [
    "# select EVI and NDVI\n",
    "modis_qa = modis#.map(modis_bit_0)\n",
    "                # .map(modis_bit_1)\\\n",
    "                # .map(modis_bit_2)\\\n",
    "                # .map(modis_bit_3)\\\n",
    "                # .map(modis_bit_4)\n",
    "                \n",
    "evi = modis_qa.select('EVI').map(scale_factor).mean()\n",
    "ndvi = modis_qa.select('NDVI').map(scale_factor).mean()"
   ]
  },
  {
   "source": [
    "#### SRTM Digital Elevation Data Version 4"
   ],
   "cell_type": "markdown",
   "metadata": {}
  },
  {
   "cell_type": "code",
   "execution_count": 93,
   "metadata": {},
   "outputs": [],
   "source": [
    "# Elevacion\n",
    "elevation = ee.Image('CGIAR/SRTM90_V4').select('elevation')\n",
    "slope = ee.Terrain.slope(elevation).clip(polygon)\n"
   ]
  },
  {
   "source": [
    "MCD64A1.006 MODIS Burned Area Monthly Global 500m"
   ],
   "cell_type": "markdown",
   "metadata": {}
  },
  {
   "cell_type": "code",
   "execution_count": 94,
   "metadata": {},
   "outputs": [],
   "source": [
    "fire = ee.ImageCollection('MODIS/006/MCD64A1')\\\n",
    "            .filter(ee.Filter.date(date_ini,date_end))\\\n",
    "            .map(lambda x:x.clip(polygon))\n",
    "\n",
    "\n",
    "\n",
    "# Filtros de calidad -----------------------------------------\n",
    "def bit_0(image):\n",
    "\n",
    "  qscore = getQABits(image.select('QA'), 0, 0, 'Land_water')\\\n",
    "              .expression(\"b(0) == 0\")\n",
    "\n",
    "  return image.updateMask(qscore.Not())\n",
    "\n",
    "#Select the QA band.\n",
    "def bit_1(image):\n",
    "\n",
    "  qscore = getQABits(image.select('QA'), 1, 1, 'Valid_data_flag')\\\n",
    "              .expression(\"b(0) == 0\")\n",
    "\n",
    "  return image.updateMask(qscore.Not())\n",
    "\n",
    "# Filtros de calidad -----------------------------------------\n",
    "\n",
    "burnedArea = fire.map(bit_0)\\\n",
    "                 .map(bit_1)\\\n",
    "                 .select('BurnDate')"
   ]
  },
  {
   "source": [
    "#### Mapa"
   ],
   "cell_type": "markdown",
   "metadata": {}
  },
  {
   "cell_type": "code",
   "execution_count": 95,
   "metadata": {},
   "outputs": [
    {
     "output_type": "execute_result",
     "data": {
      "text/plain": [
       "<folium.folium.Map at 0x7fc180b8d9d0>"
      ],
      "text/html": "<div style=\"width:100%;\"><div style=\"position:relative;width:100%;height:0;padding-bottom:60%;\"><span style=\"color:#565656\">Make this Notebook Trusted to load map: File -> Trust Notebook</span><iframe src=\"about:blank\" style=\"position:absolute;width:100%;height:100%;left:0;top:0;border:none !important;\" data-html=%3C%21DOCTYPE%20html%3E%0A%3Chead%3E%20%20%20%20%0A%20%20%20%20%3Cmeta%20http-equiv%3D%22content-type%22%20content%3D%22text/html%3B%20charset%3DUTF-8%22%20/%3E%0A%20%20%20%20%0A%20%20%20%20%20%20%20%20%3Cscript%3E%0A%20%20%20%20%20%20%20%20%20%20%20%20L_NO_TOUCH%20%3D%20false%3B%0A%20%20%20%20%20%20%20%20%20%20%20%20L_DISABLE_3D%20%3D%20false%3B%0A%20%20%20%20%20%20%20%20%3C/script%3E%0A%20%20%20%20%0A%20%20%20%20%3Cstyle%3Ehtml%2C%20body%20%7Bwidth%3A%20100%25%3Bheight%3A%20100%25%3Bmargin%3A%200%3Bpadding%3A%200%3B%7D%3C/style%3E%0A%20%20%20%20%3Cstyle%3E%23map%20%7Bposition%3Aabsolute%3Btop%3A0%3Bbottom%3A0%3Bright%3A0%3Bleft%3A0%3B%7D%3C/style%3E%0A%20%20%20%20%3Cscript%20src%3D%22https%3A//cdn.jsdelivr.net/npm/leaflet%401.6.0/dist/leaflet.js%22%3E%3C/script%3E%0A%20%20%20%20%3Cscript%20src%3D%22https%3A//code.jquery.com/jquery-1.12.4.min.js%22%3E%3C/script%3E%0A%20%20%20%20%3Cscript%20src%3D%22https%3A//maxcdn.bootstrapcdn.com/bootstrap/3.2.0/js/bootstrap.min.js%22%3E%3C/script%3E%0A%20%20%20%20%3Cscript%20src%3D%22https%3A//cdnjs.cloudflare.com/ajax/libs/Leaflet.awesome-markers/2.0.2/leaflet.awesome-markers.js%22%3E%3C/script%3E%0A%20%20%20%20%3Clink%20rel%3D%22stylesheet%22%20href%3D%22https%3A//cdn.jsdelivr.net/npm/leaflet%401.6.0/dist/leaflet.css%22/%3E%0A%20%20%20%20%3Clink%20rel%3D%22stylesheet%22%20href%3D%22https%3A//maxcdn.bootstrapcdn.com/bootstrap/3.2.0/css/bootstrap.min.css%22/%3E%0A%20%20%20%20%3Clink%20rel%3D%22stylesheet%22%20href%3D%22https%3A//maxcdn.bootstrapcdn.com/bootstrap/3.2.0/css/bootstrap-theme.min.css%22/%3E%0A%20%20%20%20%3Clink%20rel%3D%22stylesheet%22%20href%3D%22https%3A//maxcdn.bootstrapcdn.com/font-awesome/4.6.3/css/font-awesome.min.css%22/%3E%0A%20%20%20%20%3Clink%20rel%3D%22stylesheet%22%20href%3D%22https%3A//cdnjs.cloudflare.com/ajax/libs/Leaflet.awesome-markers/2.0.2/leaflet.awesome-markers.css%22/%3E%0A%20%20%20%20%3Clink%20rel%3D%22stylesheet%22%20href%3D%22https%3A//cdn.jsdelivr.net/gh/python-visualization/folium/folium/templates/leaflet.awesome.rotate.min.css%22/%3E%0A%20%20%20%20%0A%20%20%20%20%20%20%20%20%20%20%20%20%3Cmeta%20name%3D%22viewport%22%20content%3D%22width%3Ddevice-width%2C%0A%20%20%20%20%20%20%20%20%20%20%20%20%20%20%20%20initial-scale%3D1.0%2C%20maximum-scale%3D1.0%2C%20user-scalable%3Dno%22%20/%3E%0A%20%20%20%20%20%20%20%20%20%20%20%20%3Cstyle%3E%0A%20%20%20%20%20%20%20%20%20%20%20%20%20%20%20%20%23map_6da28bdf304d44f58f547a7807b471e5%20%7B%0A%20%20%20%20%20%20%20%20%20%20%20%20%20%20%20%20%20%20%20%20position%3A%20relative%3B%0A%20%20%20%20%20%20%20%20%20%20%20%20%20%20%20%20%20%20%20%20width%3A%20100.0%25%3B%0A%20%20%20%20%20%20%20%20%20%20%20%20%20%20%20%20%20%20%20%20height%3A%20100.0%25%3B%0A%20%20%20%20%20%20%20%20%20%20%20%20%20%20%20%20%20%20%20%20left%3A%200.0%25%3B%0A%20%20%20%20%20%20%20%20%20%20%20%20%20%20%20%20%20%20%20%20top%3A%200.0%25%3B%0A%20%20%20%20%20%20%20%20%20%20%20%20%20%20%20%20%7D%0A%20%20%20%20%20%20%20%20%20%20%20%20%3C/style%3E%0A%20%20%20%20%20%20%20%20%0A%20%20%20%20%3Cscript%20src%3D%22https%3A//cdnjs.cloudflare.com/ajax/libs/leaflet.fullscreen/1.4.2/Control.FullScreen.min.js%22%3E%3C/script%3E%0A%20%20%20%20%3Clink%20rel%3D%22stylesheet%22%20href%3D%22https%3A//cdnjs.cloudflare.com/ajax/libs/leaflet.fullscreen/1.4.2/Control.FullScreen.min.css%22/%3E%0A%3C/head%3E%0A%3Cbody%3E%20%20%20%20%0A%20%20%20%20%0A%20%20%20%20%20%20%20%20%20%20%20%20%3Cdiv%20class%3D%22folium-map%22%20id%3D%22map_6da28bdf304d44f58f547a7807b471e5%22%20%3E%3C/div%3E%0A%20%20%20%20%20%20%20%20%0A%3C/body%3E%0A%3Cscript%3E%20%20%20%20%0A%20%20%20%20%0A%20%20%20%20%20%20%20%20%20%20%20%20var%20map_6da28bdf304d44f58f547a7807b471e5%20%3D%20L.map%28%0A%20%20%20%20%20%20%20%20%20%20%20%20%20%20%20%20%22map_6da28bdf304d44f58f547a7807b471e5%22%2C%0A%20%20%20%20%20%20%20%20%20%20%20%20%20%20%20%20%7B%0A%20%20%20%20%20%20%20%20%20%20%20%20%20%20%20%20%20%20%20%20center%3A%20%5B10.185229496882497%2C%20-69.65926764932178%5D%2C%0A%20%20%20%20%20%20%20%20%20%20%20%20%20%20%20%20%20%20%20%20crs%3A%20L.CRS.EPSG3857%2C%0A%20%20%20%20%20%20%20%20%20%20%20%20%20%20%20%20%20%20%20%20zoom%3A%2011%2C%0A%20%20%20%20%20%20%20%20%20%20%20%20%20%20%20%20%20%20%20%20zoomControl%3A%20true%2C%0A%20%20%20%20%20%20%20%20%20%20%20%20%20%20%20%20%20%20%20%20preferCanvas%3A%20false%2C%0A%20%20%20%20%20%20%20%20%20%20%20%20%20%20%20%20%7D%0A%20%20%20%20%20%20%20%20%20%20%20%20%29%3B%0A%20%20%20%20%20%20%20%20%20%20%20%20L.control.scale%28%29.addTo%28map_6da28bdf304d44f58f547a7807b471e5%29%3B%0A%0A%20%20%20%20%20%20%20%20%20%20%20%20%0A%0A%20%20%20%20%20%20%20%20%0A%20%20%20%20%0A%20%20%20%20%20%20%20%20%20%20%20%20var%20tile_layer_5fbee4f84c4b4662a41aa6de2253bf0f%20%3D%20L.tileLayer%28%0A%20%20%20%20%20%20%20%20%20%20%20%20%20%20%20%20%22https%3A//%7Bs%7D.tile.openstreetmap.org/%7Bz%7D/%7Bx%7D/%7By%7D.png%22%2C%0A%20%20%20%20%20%20%20%20%20%20%20%20%20%20%20%20%7B%22attribution%22%3A%20%22Data%20by%20%5Cu0026copy%3B%20%5Cu003ca%20href%3D%5C%22http%3A//openstreetmap.org%5C%22%5Cu003eOpenStreetMap%5Cu003c/a%5Cu003e%2C%20under%20%5Cu003ca%20href%3D%5C%22http%3A//www.openstreetmap.org/copyright%5C%22%5Cu003eODbL%5Cu003c/a%5Cu003e.%22%2C%20%22detectRetina%22%3A%20false%2C%20%22maxNativeZoom%22%3A%2018%2C%20%22maxZoom%22%3A%2018%2C%20%22minZoom%22%3A%200%2C%20%22noWrap%22%3A%20false%2C%20%22opacity%22%3A%201%2C%20%22subdomains%22%3A%20%22abc%22%2C%20%22tms%22%3A%20false%7D%0A%20%20%20%20%20%20%20%20%20%20%20%20%29.addTo%28map_6da28bdf304d44f58f547a7807b471e5%29%3B%0A%20%20%20%20%20%20%20%20%0A%20%20%20%20%0A%20%20%20%20%20%20%20%20%20%20%20%20var%20tile_layer_f24378dcbb924dd2ad7e35d69229e14a%20%3D%20L.tileLayer%28%0A%20%20%20%20%20%20%20%20%20%20%20%20%20%20%20%20%22https%3A//earthengine.googleapis.com/v1alpha/projects/earthengine-legacy/maps/8a5b4ac1e657a8af29ca20b49271fb11-fbd98b5983e8fea9a3e83a4c367aa95f/tiles/%7Bz%7D/%7Bx%7D/%7By%7D%22%2C%0A%20%20%20%20%20%20%20%20%20%20%20%20%20%20%20%20%7B%22attribution%22%3A%20%22Google%20Earth%20Engine%22%2C%20%22detectRetina%22%3A%20false%2C%20%22maxNativeZoom%22%3A%2018%2C%20%22maxZoom%22%3A%2018%2C%20%22minZoom%22%3A%200%2C%20%22noWrap%22%3A%20false%2C%20%22opacity%22%3A%201%2C%20%22subdomains%22%3A%20%22abc%22%2C%20%22tms%22%3A%20false%7D%0A%20%20%20%20%20%20%20%20%20%20%20%20%29.addTo%28map_6da28bdf304d44f58f547a7807b471e5%29%3B%0A%20%20%20%20%20%20%20%20%0A%20%20%20%20%0A%20%20%20%20%20%20%20%20%20%20%20%20var%20tile_layer_7f38a2a49b87403d90ae879cd677e1fc%20%3D%20L.tileLayer%28%0A%20%20%20%20%20%20%20%20%20%20%20%20%20%20%20%20%22https%3A//earthengine.googleapis.com/v1alpha/projects/earthengine-legacy/maps/e26be3ae2bfd1f805efc30123f008b27-30b3c3e2e5d118970f5cfa27dd1b4ee3/tiles/%7Bz%7D/%7Bx%7D/%7By%7D%22%2C%0A%20%20%20%20%20%20%20%20%20%20%20%20%20%20%20%20%7B%22attribution%22%3A%20%22Google%20Earth%20Engine%22%2C%20%22detectRetina%22%3A%20false%2C%20%22maxNativeZoom%22%3A%2018%2C%20%22maxZoom%22%3A%2018%2C%20%22minZoom%22%3A%200%2C%20%22noWrap%22%3A%20false%2C%20%22opacity%22%3A%201%2C%20%22subdomains%22%3A%20%22abc%22%2C%20%22tms%22%3A%20false%7D%0A%20%20%20%20%20%20%20%20%20%20%20%20%29.addTo%28map_6da28bdf304d44f58f547a7807b471e5%29%3B%0A%20%20%20%20%20%20%20%20%0A%20%20%20%20%0A%20%20%20%20%20%20%20%20%20%20%20%20var%20tile_layer_5854f3cd3f044eef86baa85f4e437ebd%20%3D%20L.tileLayer%28%0A%20%20%20%20%20%20%20%20%20%20%20%20%20%20%20%20%22https%3A//earthengine.googleapis.com/v1alpha/projects/earthengine-legacy/maps/55cf5b8b647c68993ee463aea15a297f-0c9f91bb1b6cd7fc965f75b60ac9f55e/tiles/%7Bz%7D/%7Bx%7D/%7By%7D%22%2C%0A%20%20%20%20%20%20%20%20%20%20%20%20%20%20%20%20%7B%22attribution%22%3A%20%22Google%20Earth%20Engine%22%2C%20%22detectRetina%22%3A%20false%2C%20%22maxNativeZoom%22%3A%2018%2C%20%22maxZoom%22%3A%2018%2C%20%22minZoom%22%3A%200%2C%20%22noWrap%22%3A%20false%2C%20%22opacity%22%3A%201%2C%20%22subdomains%22%3A%20%22abc%22%2C%20%22tms%22%3A%20false%7D%0A%20%20%20%20%20%20%20%20%20%20%20%20%29.addTo%28map_6da28bdf304d44f58f547a7807b471e5%29%3B%0A%20%20%20%20%20%20%20%20%0A%20%20%20%20%0A%20%20%20%20%20%20%20%20%20%20%20%20var%20tile_layer_70dcb8b7cd1c4822bd1d95e67f70471c%20%3D%20L.tileLayer%28%0A%20%20%20%20%20%20%20%20%20%20%20%20%20%20%20%20%22https%3A//earthengine.googleapis.com/v1alpha/projects/earthengine-legacy/maps/90743427ddded11130e9a4fdedfed468-d7625dd07677624d71829f597599f310/tiles/%7Bz%7D/%7Bx%7D/%7By%7D%22%2C%0A%20%20%20%20%20%20%20%20%20%20%20%20%20%20%20%20%7B%22attribution%22%3A%20%22Google%20Earth%20Engine%22%2C%20%22detectRetina%22%3A%20false%2C%20%22maxNativeZoom%22%3A%2018%2C%20%22maxZoom%22%3A%2018%2C%20%22minZoom%22%3A%200%2C%20%22noWrap%22%3A%20false%2C%20%22opacity%22%3A%201%2C%20%22subdomains%22%3A%20%22abc%22%2C%20%22tms%22%3A%20false%7D%0A%20%20%20%20%20%20%20%20%20%20%20%20%29.addTo%28map_6da28bdf304d44f58f547a7807b471e5%29%3B%0A%20%20%20%20%20%20%20%20%0A%20%20%20%20%0A%20%20%20%20%20%20%20%20%20%20%20%20var%20tile_layer_04b994b9caed4d0cb4a5d1a5722b283e%20%3D%20L.tileLayer%28%0A%20%20%20%20%20%20%20%20%20%20%20%20%20%20%20%20%22https%3A//earthengine.googleapis.com/v1alpha/projects/earthengine-legacy/maps/2d58049dbb230883e4c39520bfb8617c-5b86efe5e7030835f147b19a99668fa9/tiles/%7Bz%7D/%7Bx%7D/%7By%7D%22%2C%0A%20%20%20%20%20%20%20%20%20%20%20%20%20%20%20%20%7B%22attribution%22%3A%20%22Google%20Earth%20Engine%22%2C%20%22detectRetina%22%3A%20false%2C%20%22maxNativeZoom%22%3A%2018%2C%20%22maxZoom%22%3A%2018%2C%20%22minZoom%22%3A%200%2C%20%22noWrap%22%3A%20false%2C%20%22opacity%22%3A%201%2C%20%22subdomains%22%3A%20%22abc%22%2C%20%22tms%22%3A%20false%7D%0A%20%20%20%20%20%20%20%20%20%20%20%20%29.addTo%28map_6da28bdf304d44f58f547a7807b471e5%29%3B%0A%20%20%20%20%20%20%20%20%0A%20%20%20%20%0A%20%20%20%20%20%20%20%20%20%20%20%20var%20tile_layer_2e338912118c412b863d6684b7d67181%20%3D%20L.tileLayer%28%0A%20%20%20%20%20%20%20%20%20%20%20%20%20%20%20%20%22https%3A//earthengine.googleapis.com/v1alpha/projects/earthengine-legacy/maps/6a01477786ba7f9cdc874847045d1cd6-6043ab675c4d7e4daa79522ffe4ad106/tiles/%7Bz%7D/%7Bx%7D/%7By%7D%22%2C%0A%20%20%20%20%20%20%20%20%20%20%20%20%20%20%20%20%7B%22attribution%22%3A%20%22Google%20Earth%20Engine%22%2C%20%22detectRetina%22%3A%20false%2C%20%22maxNativeZoom%22%3A%2018%2C%20%22maxZoom%22%3A%2018%2C%20%22minZoom%22%3A%200%2C%20%22noWrap%22%3A%20false%2C%20%22opacity%22%3A%201%2C%20%22subdomains%22%3A%20%22abc%22%2C%20%22tms%22%3A%20false%7D%0A%20%20%20%20%20%20%20%20%20%20%20%20%29.addTo%28map_6da28bdf304d44f58f547a7807b471e5%29%3B%0A%20%20%20%20%20%20%20%20%0A%20%20%20%20%0A%20%20%20%20%20%20%20%20%20%20%20%20var%20layer_control_fbc2633db7f140b0acc5833dd2808c82%20%3D%20%7B%0A%20%20%20%20%20%20%20%20%20%20%20%20%20%20%20%20base_layers%20%3A%20%7B%0A%20%20%20%20%20%20%20%20%20%20%20%20%20%20%20%20%20%20%20%20%22openstreetmap%22%20%3A%20tile_layer_5fbee4f84c4b4662a41aa6de2253bf0f%2C%0A%20%20%20%20%20%20%20%20%20%20%20%20%20%20%20%20%7D%2C%0A%20%20%20%20%20%20%20%20%20%20%20%20%20%20%20%20overlays%20%3A%20%20%7B%0A%20%20%20%20%20%20%20%20%20%20%20%20%20%20%20%20%20%20%20%20%22Slope%22%20%3A%20tile_layer_f24378dcbb924dd2ad7e35d69229e14a%2C%0A%20%20%20%20%20%20%20%20%20%20%20%20%20%20%20%20%20%20%20%20%22NDVI%22%20%3A%20tile_layer_7f38a2a49b87403d90ae879cd677e1fc%2C%0A%20%20%20%20%20%20%20%20%20%20%20%20%20%20%20%20%20%20%20%20%22EVI%22%20%3A%20tile_layer_5854f3cd3f044eef86baa85f4e437ebd%2C%0A%20%20%20%20%20%20%20%20%20%20%20%20%20%20%20%20%20%20%20%20%22BurnedArea%22%20%3A%20tile_layer_70dcb8b7cd1c4822bd1d95e67f70471c%2C%0A%20%20%20%20%20%20%20%20%20%20%20%20%20%20%20%20%20%20%20%20%22Grids%22%20%3A%20tile_layer_04b994b9caed4d0cb4a5d1a5722b283e%2C%0A%20%20%20%20%20%20%20%20%20%20%20%20%20%20%20%20%20%20%20%20%22Centroids%22%20%3A%20tile_layer_2e338912118c412b863d6684b7d67181%2C%0A%20%20%20%20%20%20%20%20%20%20%20%20%20%20%20%20%7D%2C%0A%20%20%20%20%20%20%20%20%20%20%20%20%7D%3B%0A%20%20%20%20%20%20%20%20%20%20%20%20L.control.layers%28%0A%20%20%20%20%20%20%20%20%20%20%20%20%20%20%20%20layer_control_fbc2633db7f140b0acc5833dd2808c82.base_layers%2C%0A%20%20%20%20%20%20%20%20%20%20%20%20%20%20%20%20layer_control_fbc2633db7f140b0acc5833dd2808c82.overlays%2C%0A%20%20%20%20%20%20%20%20%20%20%20%20%20%20%20%20%7B%22autoZIndex%22%3A%20true%2C%20%22collapsed%22%3A%20true%2C%20%22position%22%3A%20%22topright%22%7D%0A%20%20%20%20%20%20%20%20%20%20%20%20%29.addTo%28map_6da28bdf304d44f58f547a7807b471e5%29%3B%0A%20%20%20%20%20%20%20%20%0A%20%20%20%20%0A%20%20%20%20%20%20%20%20%20%20%20%20L.control.fullscreen%28%0A%20%20%20%20%20%20%20%20%20%20%20%20%20%20%20%20%7B%22forceSeparateButton%22%3A%20false%2C%20%22position%22%3A%20%22topleft%22%2C%20%22title%22%3A%20%22Full%20Screen%22%2C%20%22titleCancel%22%3A%20%22Exit%20Full%20Screen%22%7D%0A%20%20%20%20%20%20%20%20%20%20%20%20%29.addTo%28map_6da28bdf304d44f58f547a7807b471e5%29%3B%0A%20%20%20%20%20%20%20%20%0A%20%20%20%20%0A%20%20%20%20%20%20%20%20%20%20%20%20%20%20%20%20var%20lat_lng_popup_2661850664804e8b936f9a11dfc56d4e%20%3D%20L.popup%28%29%3B%0A%20%20%20%20%20%20%20%20%20%20%20%20%20%20%20%20function%20latLngPop%28e%29%20%7B%0A%20%20%20%20%20%20%20%20%20%20%20%20%20%20%20%20%20%20%20%20lat_lng_popup_2661850664804e8b936f9a11dfc56d4e%0A%20%20%20%20%20%20%20%20%20%20%20%20%20%20%20%20%20%20%20%20%20%20%20%20.setLatLng%28e.latlng%29%0A%20%20%20%20%20%20%20%20%20%20%20%20%20%20%20%20%20%20%20%20%20%20%20%20.setContent%28%22Latitude%3A%20%22%20%2B%20e.latlng.lat.toFixed%284%29%20%2B%0A%20%20%20%20%20%20%20%20%20%20%20%20%20%20%20%20%20%20%20%20%20%20%20%20%20%20%20%20%20%20%20%20%20%20%20%20%22%3Cbr%3ELongitude%3A%20%22%20%2B%20e.latlng.lng.toFixed%284%29%29%0A%20%20%20%20%20%20%20%20%20%20%20%20%20%20%20%20%20%20%20%20%20%20%20%20.openOn%28map_6da28bdf304d44f58f547a7807b471e5%29%3B%0A%20%20%20%20%20%20%20%20%20%20%20%20%20%20%20%20%20%20%20%20%7D%0A%20%20%20%20%20%20%20%20%20%20%20%20%20%20%20%20map_6da28bdf304d44f58f547a7807b471e5.on%28%27click%27%2C%20latLngPop%29%3B%0A%20%20%20%20%20%20%20%20%20%20%20%20%0A%3C/script%3E onload=\"this.contentDocument.open();this.contentDocument.write(    decodeURIComponent(this.getAttribute('data-html')));this.contentDocument.close();\" allowfullscreen webkitallowfullscreen mozallowfullscreen></iframe></div></div>"
     },
     "metadata": {},
     "execution_count": 95
    }
   ],
   "source": [
    "# mean NDVI in the Xingu Park\n",
    "Map = folium.Map(location=centroide,zoom_start=11,control_scale =True,width='100%',height='100%')\n",
    "\n",
    "Map.addLayer(slope, {min: 0, max: 60}, 'Slope')\n",
    "Map.addLayer(ndvi\n",
    "            ,name='NDVI'\n",
    "            ,vis_params={'min': 0,\n",
    "                         'max': 1,\n",
    "                         'palette': ['953302', '62D759','499443']}) \n",
    "Map.addLayer(evi\n",
    "            ,name='EVI'\n",
    "            ,vis_params={'min': 0,\n",
    "                         'max': 1,\n",
    "                         'palette': ['953302', '62D759','499443']}) \n",
    "Map.addLayer(burnedArea, {'min': 30.0,\n",
    "                        'max': 341.0,\n",
    "                        'palette': ['4e0400', '951003', 'c61503', 'ff1901'],\n",
    "                        }, 'BurnedArea')\n",
    "                        \n",
    "Map.addLayer(greed,{'color':'#FFFFFF80'}, 'Grids')\n",
    "Map.addLayer(centroids,{'color':'#000000'}, 'Centroids')\n",
    "\n",
    "Map.setControlVisibility(layerControl=True,fullscreenControl=True,latLngPopup=True) # Layer control\n",
    "Map"
   ]
  },
  {
   "source": [
    "#### Series temporales"
   ],
   "cell_type": "markdown",
   "metadata": {}
  },
  {
   "source": [
    "##### Índices de vegetación"
   ],
   "cell_type": "markdown",
   "metadata": {}
  },
  {
   "cell_type": "code",
   "execution_count": 96,
   "metadata": {},
   "outputs": [],
   "source": [
    "initDate = '2015-01-01' # Fecha de inicio\n",
    "endDate = '2020-05-01' # Fecha final"
   ]
  },
  {
   "cell_type": "code",
   "execution_count": 97,
   "metadata": {},
   "outputs": [],
   "source": [
    "#Filtros de calidad -----------------------------------------\n",
    "def modis_bit_0(image):\n",
    "\n",
    "  qscore = getQABits(image.select('SummaryQA'), 0, 1, 'quality')\\\n",
    "              .expression(\"b(0) == 1 || b(0) == 2 || b(0) == 3\" )\n",
    "\n",
    "  return image.updateMask(qscore.Not())\n",
    "\n",
    "#Select the QA band.\n",
    "def modis_bit_1(image):\n",
    "\n",
    "  qscore = getQABits(image.select('DetailedQA'), 2, 5, 'usefulness')\\\n",
    "              .expression(\"b(0) == 13 || b(0) == 14 || b(0) == 15\" )\n",
    "\n",
    "  return image.updateMask(qscore.Not())\n",
    "\n",
    "#Select the QA band.\n",
    "def modis_bit_2(image):\n",
    "\n",
    "  qscore = getQABits(image.select('DetailedQA'), 11, 13, 'Land/water')\\\n",
    "              .expression(\"b(0) == 0 || b(0) == 1 || b(0) == 2 || b(0) == 3 || b(0) == 4 || b(0) == 5 || b(0) == 6 || b(0) == 7\" )\n",
    "\n",
    "  return image.updateMask(qscore.Not())\n",
    "\n",
    "#Select the QA band.\n",
    "def modis_bit_3(image):\n",
    "\n",
    "  qscore = getQABits(image.select('DetailedQA'), 14, 14, 'snow/ice')\\\n",
    "              .expression(\"b(0) == 1\" )\n",
    "\n",
    "  return image.updateMask(qscore.Not())\n",
    "\n",
    "#Select the QA band.\n",
    "def modis_bit_4(image):\n",
    "\n",
    "  qscore = getQABits(image.select('DetailedQA'), 15, 15, 'shadow')\\\n",
    "              .expression(\"b(0) == 1\" )\n",
    "\n",
    "  return image.updateMask(qscore.Not())\n",
    "\n",
    "#Filtros de calidad -----------------------------------------\n",
    "\n",
    "\n",
    "def scale_factor(image):\n",
    "    # scale factor for the MODIS MOD13Q1 product\n",
    "    return image.multiply(0.0001).copyProperties(image,['system:time_start'])"
   ]
  },
  {
   "cell_type": "code",
   "execution_count": null,
   "metadata": {},
   "outputs": [],
   "source": []
  },
  {
   "cell_type": "code",
   "execution_count": 98,
   "metadata": {},
   "outputs": [],
   "source": [
    "MOD13Q1Collection = ee.ImageCollection('MODIS/006/MOD13Q1')\\\n",
    "                      .filterDate(ee.DateRange(initDate, endDate))\\\n",
    "                      .map(lambda x: x.clip(polygon))\\\n",
    "                      .map(modis_bit_0)\\\n",
    "                      .map(scale_factor)\n",
    "                    #   .map(modis_bit_1)\\\n",
    "                    #   .map(modis_bit_2)\\\n",
    "                    #   .map(modis_bit_3)\\\n",
    "                    #   .map(modis_bit_4)"
   ]
  },
  {
   "cell_type": "code",
   "execution_count": 99,
   "metadata": {},
   "outputs": [],
   "source": [
    "from ipygee import chart\n",
    "\n",
    "# Media del EVI en polígono\n",
    "EVI_serie = chart.Image.series(**{'imageCollection': MOD13Q1Collection,\n",
    "                                  'region': polygon,\n",
    "                                  'reducer': 'mean',\n",
    "                                  'scale': 1000,\n",
    "                                  'xProperty': 'system:time_start',\n",
    "                                  'bands':'EVI'}).dataframe\n",
    "# Media del NDVI en polígono\n",
    "NDVI_serie = chart.Image.series(**{'imageCollection': MOD13Q1Collection,\n",
    "                                    'region': polygon,\n",
    "                                    'reducer': 'mean',\n",
    "                                    'scale': 1000,\n",
    "                                    'xProperty': 'system:time_start',\n",
    "                                    'bands':'NDVI'}).dataframe"
   ]
  },
  {
   "cell_type": "code",
   "execution_count": 100,
   "metadata": {},
   "outputs": [],
   "source": [
    "# agregando el tiempo\n",
    "EVI_serie['date'] = EVI_serie.index \n",
    "NDVI_serie['date'] = NDVI_serie.index "
   ]
  },
  {
   "cell_type": "code",
   "execution_count": 101,
   "metadata": {},
   "outputs": [
    {
     "output_type": "display_data",
     "data": {
      "application/vnd.plotly.v1+json": {
       "config": {
        "plotlyServerURL": "https://plot.ly"
       },
       "data": [
        {
         "line": {
          "color": "#78D759",
          "width": 4
         },
         "mode": "lines+markers",
         "name": "EVI Time Serie",
         "type": "scatter",
         "x": [
          "2015-01-01T00:00:00",
          "2015-01-17T00:00:00",
          "2015-02-02T00:00:00",
          "2015-02-18T00:00:00",
          "2015-03-06T00:00:00",
          "2015-04-23T00:00:00",
          "2015-05-25T00:00:00",
          "2015-06-10T00:00:00",
          "2015-07-12T00:00:00",
          "2015-07-28T00:00:00",
          "2015-08-13T00:00:00",
          "2015-08-29T00:00:00",
          "2015-09-14T00:00:00",
          "2015-09-30T00:00:00",
          "2015-10-16T00:00:00",
          "2015-11-01T00:00:00",
          "2015-11-17T00:00:00",
          "2015-12-03T00:00:00",
          "2015-12-19T00:00:00",
          "2016-01-01T00:00:00",
          "2016-01-17T00:00:00",
          "2016-02-02T00:00:00",
          "2016-03-05T00:00:00",
          "2016-03-21T00:00:00",
          "2016-04-22T00:00:00",
          "2016-05-08T00:00:00",
          "2016-06-09T00:00:00",
          "2016-06-25T00:00:00",
          "2016-07-11T00:00:00",
          "2016-07-27T00:00:00",
          "2016-08-12T00:00:00",
          "2016-08-28T00:00:00",
          "2016-09-13T00:00:00",
          "2016-09-29T00:00:00",
          "2016-10-15T00:00:00",
          "2016-10-31T00:00:00",
          "2016-11-16T00:00:00",
          "2016-12-02T00:00:00",
          "2016-12-18T00:00:00",
          "2017-01-01T00:00:00",
          "2017-01-17T00:00:00",
          "2017-02-02T00:00:00",
          "2017-02-18T00:00:00",
          "2017-03-06T00:00:00",
          "2017-04-23T00:00:00",
          "2017-05-09T00:00:00",
          "2017-05-25T00:00:00",
          "2017-06-10T00:00:00",
          "2017-06-26T00:00:00",
          "2017-07-12T00:00:00",
          "2017-07-28T00:00:00",
          "2017-08-13T00:00:00",
          "2017-08-29T00:00:00",
          "2017-09-14T00:00:00",
          "2017-10-16T00:00:00",
          "2017-11-01T00:00:00",
          "2017-11-17T00:00:00",
          "2017-12-03T00:00:00",
          "2017-12-19T00:00:00",
          "2018-01-01T00:00:00",
          "2018-01-17T00:00:00",
          "2018-02-02T00:00:00",
          "2018-02-18T00:00:00",
          "2018-03-06T00:00:00",
          "2018-03-22T00:00:00",
          "2018-04-07T00:00:00",
          "2018-04-23T00:00:00",
          "2018-05-09T00:00:00",
          "2018-05-25T00:00:00",
          "2018-06-10T00:00:00",
          "2018-06-26T00:00:00",
          "2018-07-12T00:00:00",
          "2018-07-28T00:00:00",
          "2018-08-13T00:00:00",
          "2018-08-29T00:00:00",
          "2018-09-14T00:00:00",
          "2018-09-30T00:00:00",
          "2018-10-16T00:00:00",
          "2018-11-01T00:00:00",
          "2018-11-17T00:00:00",
          "2018-12-03T00:00:00",
          "2018-12-19T00:00:00",
          "2019-01-01T00:00:00",
          "2019-01-17T00:00:00",
          "2019-02-02T00:00:00",
          "2019-02-18T00:00:00",
          "2019-03-22T00:00:00",
          "2019-04-07T00:00:00",
          "2019-05-09T00:00:00",
          "2019-05-25T00:00:00",
          "2019-06-26T00:00:00",
          "2019-07-12T00:00:00",
          "2019-07-28T00:00:00",
          "2019-08-13T00:00:00",
          "2019-08-29T00:00:00",
          "2019-09-14T00:00:00",
          "2019-09-30T00:00:00",
          "2019-10-16T00:00:00",
          "2019-11-01T00:00:00",
          "2019-11-17T00:00:00",
          "2019-12-03T00:00:00",
          "2019-12-19T00:00:00",
          "2020-01-01T00:00:00",
          "2020-01-17T00:00:00",
          "2020-02-02T00:00:00",
          "2020-02-18T00:00:00",
          "2020-03-05T00:00:00",
          "2020-03-21T00:00:00",
          "2020-04-06T00:00:00",
          "2020-04-22T00:00:00"
         ],
         "y": [
          0.18289832513985427,
          0.17330667227113838,
          0.1597963733221672,
          0.1541762299755179,
          0.16519397649363368,
          0.13338695930003935,
          0.14493829632620103,
          0.1533174917491749,
          0.13954280014508527,
          0.14852123287671232,
          0.1370236378505469,
          0.16269138321995466,
          0.1332256520646094,
          0.15982476886691036,
          0.17895731560130246,
          0.18198553191489364,
          0.2125196829590489,
          0.16250377792577345,
          0.1536633121505712,
          0.14025340469212813,
          0.13218643934568414,
          0.12908284386757912,
          0.11782296309042413,
          0.12383839237547206,
          0.20490729382511397,
          0.20973903726708076,
          0.16798898973135562,
          0.16161327281648677,
          0.1730953820406109,
          0.17546742194499973,
          0.16868808208366234,
          0.14848323283366588,
          0.16770740045012314,
          0.14992194351868096,
          0.2220801667659321,
          0.1904189852700491,
          0.2859448711470439,
          0.24909748227689746,
          0.18979017831463912,
          0.21670869290271555,
          0.17852635624318158,
          0.19612613709751817,
          0.1643913468706735,
          0.15031481689088189,
          0.2624,
          0.21571662937152355,
          0.18067621000820352,
          0.1647647206423553,
          0.17803921962992758,
          0.1824973400737031,
          0.19296744293610227,
          0.18692842275340968,
          0.16785889051094888,
          0.21817218309859154,
          0.22591582884003877,
          0.322006690647482,
          0.2916937473605764,
          0.22403632711457014,
          0.2488476794988046,
          0.18301195979899498,
          0.18077324726366062,
          0.16291134714572972,
          0.14000691571732102,
          0.14583724992398917,
          0.14156051582649473,
          0.158395746835443,
          0.1699463951411218,
          0.1404990233207096,
          0.14125361315447865,
          0.12440713310191771,
          0.15712540555963156,
          0.1628631032637774,
          0.19546797910609562,
          0.16912176478987195,
          0.16081197772168807,
          0.1489050980392157,
          0.19360986842105266,
          0.2644988985200045,
          0.38293617852161793,
          0.3416903582265296,
          0.3004067989691567,
          0.2535192201996772,
          0.23911516355557005,
          0.19622052764497538,
          0.1876565726577439,
          0.17460360941024805,
          0.15877417153220796,
          0.17515850657615611,
          0.14422703619909505,
          0.17012278617710586,
          0.25712329107039655,
          0.25958831450094166,
          0.21193478147423367,
          0.18972669790898505,
          0.1942723615354365,
          0.21653497411024458,
          0.2803621325361235,
          0.2946038202870415,
          0.2741,
          0.24454272050127604,
          0.3262437872719182,
          0.2746384258608574,
          0.21909429962761395,
          0.19656903343843687,
          0.1799124354460096,
          0.14945588752196842,
          0.14253440526762962,
          0.17455968480804657,
          0.1612739494568994,
          0.21380000000000002
         ]
        }
       ],
       "layout": {
        "template": {
         "data": {
          "bar": [
           {
            "error_x": {
             "color": "#2a3f5f"
            },
            "error_y": {
             "color": "#2a3f5f"
            },
            "marker": {
             "line": {
              "color": "#E5ECF6",
              "width": 0.5
             }
            },
            "type": "bar"
           }
          ],
          "barpolar": [
           {
            "marker": {
             "line": {
              "color": "#E5ECF6",
              "width": 0.5
             }
            },
            "type": "barpolar"
           }
          ],
          "carpet": [
           {
            "aaxis": {
             "endlinecolor": "#2a3f5f",
             "gridcolor": "white",
             "linecolor": "white",
             "minorgridcolor": "white",
             "startlinecolor": "#2a3f5f"
            },
            "baxis": {
             "endlinecolor": "#2a3f5f",
             "gridcolor": "white",
             "linecolor": "white",
             "minorgridcolor": "white",
             "startlinecolor": "#2a3f5f"
            },
            "type": "carpet"
           }
          ],
          "choropleth": [
           {
            "colorbar": {
             "outlinewidth": 0,
             "ticks": ""
            },
            "type": "choropleth"
           }
          ],
          "contour": [
           {
            "colorbar": {
             "outlinewidth": 0,
             "ticks": ""
            },
            "colorscale": [
             [
              0,
              "#0d0887"
             ],
             [
              0.1111111111111111,
              "#46039f"
             ],
             [
              0.2222222222222222,
              "#7201a8"
             ],
             [
              0.3333333333333333,
              "#9c179e"
             ],
             [
              0.4444444444444444,
              "#bd3786"
             ],
             [
              0.5555555555555556,
              "#d8576b"
             ],
             [
              0.6666666666666666,
              "#ed7953"
             ],
             [
              0.7777777777777778,
              "#fb9f3a"
             ],
             [
              0.8888888888888888,
              "#fdca26"
             ],
             [
              1,
              "#f0f921"
             ]
            ],
            "type": "contour"
           }
          ],
          "contourcarpet": [
           {
            "colorbar": {
             "outlinewidth": 0,
             "ticks": ""
            },
            "type": "contourcarpet"
           }
          ],
          "heatmap": [
           {
            "colorbar": {
             "outlinewidth": 0,
             "ticks": ""
            },
            "colorscale": [
             [
              0,
              "#0d0887"
             ],
             [
              0.1111111111111111,
              "#46039f"
             ],
             [
              0.2222222222222222,
              "#7201a8"
             ],
             [
              0.3333333333333333,
              "#9c179e"
             ],
             [
              0.4444444444444444,
              "#bd3786"
             ],
             [
              0.5555555555555556,
              "#d8576b"
             ],
             [
              0.6666666666666666,
              "#ed7953"
             ],
             [
              0.7777777777777778,
              "#fb9f3a"
             ],
             [
              0.8888888888888888,
              "#fdca26"
             ],
             [
              1,
              "#f0f921"
             ]
            ],
            "type": "heatmap"
           }
          ],
          "heatmapgl": [
           {
            "colorbar": {
             "outlinewidth": 0,
             "ticks": ""
            },
            "colorscale": [
             [
              0,
              "#0d0887"
             ],
             [
              0.1111111111111111,
              "#46039f"
             ],
             [
              0.2222222222222222,
              "#7201a8"
             ],
             [
              0.3333333333333333,
              "#9c179e"
             ],
             [
              0.4444444444444444,
              "#bd3786"
             ],
             [
              0.5555555555555556,
              "#d8576b"
             ],
             [
              0.6666666666666666,
              "#ed7953"
             ],
             [
              0.7777777777777778,
              "#fb9f3a"
             ],
             [
              0.8888888888888888,
              "#fdca26"
             ],
             [
              1,
              "#f0f921"
             ]
            ],
            "type": "heatmapgl"
           }
          ],
          "histogram": [
           {
            "marker": {
             "colorbar": {
              "outlinewidth": 0,
              "ticks": ""
             }
            },
            "type": "histogram"
           }
          ],
          "histogram2d": [
           {
            "colorbar": {
             "outlinewidth": 0,
             "ticks": ""
            },
            "colorscale": [
             [
              0,
              "#0d0887"
             ],
             [
              0.1111111111111111,
              "#46039f"
             ],
             [
              0.2222222222222222,
              "#7201a8"
             ],
             [
              0.3333333333333333,
              "#9c179e"
             ],
             [
              0.4444444444444444,
              "#bd3786"
             ],
             [
              0.5555555555555556,
              "#d8576b"
             ],
             [
              0.6666666666666666,
              "#ed7953"
             ],
             [
              0.7777777777777778,
              "#fb9f3a"
             ],
             [
              0.8888888888888888,
              "#fdca26"
             ],
             [
              1,
              "#f0f921"
             ]
            ],
            "type": "histogram2d"
           }
          ],
          "histogram2dcontour": [
           {
            "colorbar": {
             "outlinewidth": 0,
             "ticks": ""
            },
            "colorscale": [
             [
              0,
              "#0d0887"
             ],
             [
              0.1111111111111111,
              "#46039f"
             ],
             [
              0.2222222222222222,
              "#7201a8"
             ],
             [
              0.3333333333333333,
              "#9c179e"
             ],
             [
              0.4444444444444444,
              "#bd3786"
             ],
             [
              0.5555555555555556,
              "#d8576b"
             ],
             [
              0.6666666666666666,
              "#ed7953"
             ],
             [
              0.7777777777777778,
              "#fb9f3a"
             ],
             [
              0.8888888888888888,
              "#fdca26"
             ],
             [
              1,
              "#f0f921"
             ]
            ],
            "type": "histogram2dcontour"
           }
          ],
          "mesh3d": [
           {
            "colorbar": {
             "outlinewidth": 0,
             "ticks": ""
            },
            "type": "mesh3d"
           }
          ],
          "parcoords": [
           {
            "line": {
             "colorbar": {
              "outlinewidth": 0,
              "ticks": ""
             }
            },
            "type": "parcoords"
           }
          ],
          "pie": [
           {
            "automargin": true,
            "type": "pie"
           }
          ],
          "scatter": [
           {
            "marker": {
             "colorbar": {
              "outlinewidth": 0,
              "ticks": ""
             }
            },
            "type": "scatter"
           }
          ],
          "scatter3d": [
           {
            "line": {
             "colorbar": {
              "outlinewidth": 0,
              "ticks": ""
             }
            },
            "marker": {
             "colorbar": {
              "outlinewidth": 0,
              "ticks": ""
             }
            },
            "type": "scatter3d"
           }
          ],
          "scattercarpet": [
           {
            "marker": {
             "colorbar": {
              "outlinewidth": 0,
              "ticks": ""
             }
            },
            "type": "scattercarpet"
           }
          ],
          "scattergeo": [
           {
            "marker": {
             "colorbar": {
              "outlinewidth": 0,
              "ticks": ""
             }
            },
            "type": "scattergeo"
           }
          ],
          "scattergl": [
           {
            "marker": {
             "colorbar": {
              "outlinewidth": 0,
              "ticks": ""
             }
            },
            "type": "scattergl"
           }
          ],
          "scattermapbox": [
           {
            "marker": {
             "colorbar": {
              "outlinewidth": 0,
              "ticks": ""
             }
            },
            "type": "scattermapbox"
           }
          ],
          "scatterpolar": [
           {
            "marker": {
             "colorbar": {
              "outlinewidth": 0,
              "ticks": ""
             }
            },
            "type": "scatterpolar"
           }
          ],
          "scatterpolargl": [
           {
            "marker": {
             "colorbar": {
              "outlinewidth": 0,
              "ticks": ""
             }
            },
            "type": "scatterpolargl"
           }
          ],
          "scatterternary": [
           {
            "marker": {
             "colorbar": {
              "outlinewidth": 0,
              "ticks": ""
             }
            },
            "type": "scatterternary"
           }
          ],
          "surface": [
           {
            "colorbar": {
             "outlinewidth": 0,
             "ticks": ""
            },
            "colorscale": [
             [
              0,
              "#0d0887"
             ],
             [
              0.1111111111111111,
              "#46039f"
             ],
             [
              0.2222222222222222,
              "#7201a8"
             ],
             [
              0.3333333333333333,
              "#9c179e"
             ],
             [
              0.4444444444444444,
              "#bd3786"
             ],
             [
              0.5555555555555556,
              "#d8576b"
             ],
             [
              0.6666666666666666,
              "#ed7953"
             ],
             [
              0.7777777777777778,
              "#fb9f3a"
             ],
             [
              0.8888888888888888,
              "#fdca26"
             ],
             [
              1,
              "#f0f921"
             ]
            ],
            "type": "surface"
           }
          ],
          "table": [
           {
            "cells": {
             "fill": {
              "color": "#EBF0F8"
             },
             "line": {
              "color": "white"
             }
            },
            "header": {
             "fill": {
              "color": "#C8D4E3"
             },
             "line": {
              "color": "white"
             }
            },
            "type": "table"
           }
          ]
         },
         "layout": {
          "annotationdefaults": {
           "arrowcolor": "#2a3f5f",
           "arrowhead": 0,
           "arrowwidth": 1
          },
          "autotypenumbers": "strict",
          "coloraxis": {
           "colorbar": {
            "outlinewidth": 0,
            "ticks": ""
           }
          },
          "colorscale": {
           "diverging": [
            [
             0,
             "#8e0152"
            ],
            [
             0.1,
             "#c51b7d"
            ],
            [
             0.2,
             "#de77ae"
            ],
            [
             0.3,
             "#f1b6da"
            ],
            [
             0.4,
             "#fde0ef"
            ],
            [
             0.5,
             "#f7f7f7"
            ],
            [
             0.6,
             "#e6f5d0"
            ],
            [
             0.7,
             "#b8e186"
            ],
            [
             0.8,
             "#7fbc41"
            ],
            [
             0.9,
             "#4d9221"
            ],
            [
             1,
             "#276419"
            ]
           ],
           "sequential": [
            [
             0,
             "#0d0887"
            ],
            [
             0.1111111111111111,
             "#46039f"
            ],
            [
             0.2222222222222222,
             "#7201a8"
            ],
            [
             0.3333333333333333,
             "#9c179e"
            ],
            [
             0.4444444444444444,
             "#bd3786"
            ],
            [
             0.5555555555555556,
             "#d8576b"
            ],
            [
             0.6666666666666666,
             "#ed7953"
            ],
            [
             0.7777777777777778,
             "#fb9f3a"
            ],
            [
             0.8888888888888888,
             "#fdca26"
            ],
            [
             1,
             "#f0f921"
            ]
           ],
           "sequentialminus": [
            [
             0,
             "#0d0887"
            ],
            [
             0.1111111111111111,
             "#46039f"
            ],
            [
             0.2222222222222222,
             "#7201a8"
            ],
            [
             0.3333333333333333,
             "#9c179e"
            ],
            [
             0.4444444444444444,
             "#bd3786"
            ],
            [
             0.5555555555555556,
             "#d8576b"
            ],
            [
             0.6666666666666666,
             "#ed7953"
            ],
            [
             0.7777777777777778,
             "#fb9f3a"
            ],
            [
             0.8888888888888888,
             "#fdca26"
            ],
            [
             1,
             "#f0f921"
            ]
           ]
          },
          "colorway": [
           "#636efa",
           "#EF553B",
           "#00cc96",
           "#ab63fa",
           "#FFA15A",
           "#19d3f3",
           "#FF6692",
           "#B6E880",
           "#FF97FF",
           "#FECB52"
          ],
          "font": {
           "color": "#2a3f5f"
          },
          "geo": {
           "bgcolor": "white",
           "lakecolor": "white",
           "landcolor": "#E5ECF6",
           "showlakes": true,
           "showland": true,
           "subunitcolor": "white"
          },
          "hoverlabel": {
           "align": "left"
          },
          "hovermode": "closest",
          "mapbox": {
           "style": "light"
          },
          "paper_bgcolor": "white",
          "plot_bgcolor": "#E5ECF6",
          "polar": {
           "angularaxis": {
            "gridcolor": "white",
            "linecolor": "white",
            "ticks": ""
           },
           "bgcolor": "#E5ECF6",
           "radialaxis": {
            "gridcolor": "white",
            "linecolor": "white",
            "ticks": ""
           }
          },
          "scene": {
           "xaxis": {
            "backgroundcolor": "#E5ECF6",
            "gridcolor": "white",
            "gridwidth": 2,
            "linecolor": "white",
            "showbackground": true,
            "ticks": "",
            "zerolinecolor": "white"
           },
           "yaxis": {
            "backgroundcolor": "#E5ECF6",
            "gridcolor": "white",
            "gridwidth": 2,
            "linecolor": "white",
            "showbackground": true,
            "ticks": "",
            "zerolinecolor": "white"
           },
           "zaxis": {
            "backgroundcolor": "#E5ECF6",
            "gridcolor": "white",
            "gridwidth": 2,
            "linecolor": "white",
            "showbackground": true,
            "ticks": "",
            "zerolinecolor": "white"
           }
          },
          "shapedefaults": {
           "line": {
            "color": "#2a3f5f"
           }
          },
          "ternary": {
           "aaxis": {
            "gridcolor": "white",
            "linecolor": "white",
            "ticks": ""
           },
           "baxis": {
            "gridcolor": "white",
            "linecolor": "white",
            "ticks": ""
           },
           "bgcolor": "#E5ECF6",
           "caxis": {
            "gridcolor": "white",
            "linecolor": "white",
            "ticks": ""
           }
          },
          "title": {
           "x": 0.05
          },
          "xaxis": {
           "automargin": true,
           "gridcolor": "white",
           "linecolor": "white",
           "ticks": "",
           "title": {
            "standoff": 15
           },
           "zerolinecolor": "white",
           "zerolinewidth": 2
          },
          "yaxis": {
           "automargin": true,
           "gridcolor": "white",
           "linecolor": "white",
           "ticks": "",
           "title": {
            "standoff": 15
           },
           "zerolinecolor": "white",
           "zerolinewidth": 2
          }
         }
        },
        "title": {
         "text": "Serie de tiempo EVI"
        },
        "xaxis": {
         "title": {
          "text": "Mes"
         }
        },
        "yaxis": {
         "title": {
          "text": "Índice de Vegetación"
         }
        }
       }
      }
     },
     "metadata": {}
    }
   ],
   "source": [
    "import plotly.graph_objects as go\n",
    "\n",
    "# Create traces\n",
    "fig_evi = go.Figure()\n",
    "fig_evi.add_trace(go.Scatter(x=EVI_serie.date.tolist(), y=EVI_serie.EVI.tolist(),\n",
    "                    mode='lines+markers',\n",
    "                    name='EVI Time Serie',\n",
    "                    line=dict(color='#78D759', width=4)\n",
    "                    ))\n",
    "\n",
    "# Edit the layout\n",
    "fig_evi.update_layout(title='Serie de tiempo EVI',\n",
    "                      xaxis_title='Mes',\n",
    "                      yaxis_title='Índice de Vegetación')\n",
    "\n",
    "fig_evi.show()"
   ]
  },
  {
   "cell_type": "code",
   "execution_count": 102,
   "metadata": {},
   "outputs": [
    {
     "output_type": "display_data",
     "data": {
      "application/vnd.plotly.v1+json": {
       "config": {
        "plotlyServerURL": "https://plot.ly"
       },
       "data": [
        {
         "line": {
          "color": "#4E8C39",
          "width": 4
         },
         "mode": "lines+markers",
         "name": "NDVI Time Serie",
         "type": "scatter",
         "x": [
          "2015-01-01T00:00:00",
          "2015-01-17T00:00:00",
          "2015-02-02T00:00:00",
          "2015-02-18T00:00:00",
          "2015-03-06T00:00:00",
          "2015-04-23T00:00:00",
          "2015-05-25T00:00:00",
          "2015-06-10T00:00:00",
          "2015-07-12T00:00:00",
          "2015-07-28T00:00:00",
          "2015-08-13T00:00:00",
          "2015-08-29T00:00:00",
          "2015-09-14T00:00:00",
          "2015-09-30T00:00:00",
          "2015-10-16T00:00:00",
          "2015-11-01T00:00:00",
          "2015-11-17T00:00:00",
          "2015-12-03T00:00:00",
          "2015-12-19T00:00:00",
          "2016-01-01T00:00:00",
          "2016-01-17T00:00:00",
          "2016-02-02T00:00:00",
          "2016-03-05T00:00:00",
          "2016-03-21T00:00:00",
          "2016-04-22T00:00:00",
          "2016-05-08T00:00:00",
          "2016-06-09T00:00:00",
          "2016-06-25T00:00:00",
          "2016-07-11T00:00:00",
          "2016-07-27T00:00:00",
          "2016-08-12T00:00:00",
          "2016-08-28T00:00:00",
          "2016-09-13T00:00:00",
          "2016-09-29T00:00:00",
          "2016-10-15T00:00:00",
          "2016-10-31T00:00:00",
          "2016-11-16T00:00:00",
          "2016-12-02T00:00:00",
          "2016-12-18T00:00:00",
          "2017-01-01T00:00:00",
          "2017-01-17T00:00:00",
          "2017-02-02T00:00:00",
          "2017-02-18T00:00:00",
          "2017-03-06T00:00:00",
          "2017-04-23T00:00:00",
          "2017-05-09T00:00:00",
          "2017-05-25T00:00:00",
          "2017-06-10T00:00:00",
          "2017-06-26T00:00:00",
          "2017-07-12T00:00:00",
          "2017-07-28T00:00:00",
          "2017-08-13T00:00:00",
          "2017-08-29T00:00:00",
          "2017-09-14T00:00:00",
          "2017-10-16T00:00:00",
          "2017-11-01T00:00:00",
          "2017-11-17T00:00:00",
          "2017-12-03T00:00:00",
          "2017-12-19T00:00:00",
          "2018-01-01T00:00:00",
          "2018-01-17T00:00:00",
          "2018-02-02T00:00:00",
          "2018-02-18T00:00:00",
          "2018-03-06T00:00:00",
          "2018-03-22T00:00:00",
          "2018-04-07T00:00:00",
          "2018-04-23T00:00:00",
          "2018-05-09T00:00:00",
          "2018-05-25T00:00:00",
          "2018-06-10T00:00:00",
          "2018-06-26T00:00:00",
          "2018-07-12T00:00:00",
          "2018-07-28T00:00:00",
          "2018-08-13T00:00:00",
          "2018-08-29T00:00:00",
          "2018-09-14T00:00:00",
          "2018-09-30T00:00:00",
          "2018-10-16T00:00:00",
          "2018-11-01T00:00:00",
          "2018-11-17T00:00:00",
          "2018-12-03T00:00:00",
          "2018-12-19T00:00:00",
          "2019-01-01T00:00:00",
          "2019-01-17T00:00:00",
          "2019-02-02T00:00:00",
          "2019-02-18T00:00:00",
          "2019-03-22T00:00:00",
          "2019-04-07T00:00:00",
          "2019-05-09T00:00:00",
          "2019-05-25T00:00:00",
          "2019-06-26T00:00:00",
          "2019-07-12T00:00:00",
          "2019-07-28T00:00:00",
          "2019-08-13T00:00:00",
          "2019-08-29T00:00:00",
          "2019-09-14T00:00:00",
          "2019-09-30T00:00:00",
          "2019-10-16T00:00:00",
          "2019-11-01T00:00:00",
          "2019-11-17T00:00:00",
          "2019-12-03T00:00:00",
          "2019-12-19T00:00:00",
          "2020-01-01T00:00:00",
          "2020-01-17T00:00:00",
          "2020-02-02T00:00:00",
          "2020-02-18T00:00:00",
          "2020-03-05T00:00:00",
          "2020-03-21T00:00:00",
          "2020-04-06T00:00:00",
          "2020-04-22T00:00:00"
         ],
         "y": [
          0.3681051568062385,
          0.36449103137029304,
          0.33567973108148974,
          0.3041186533710441,
          0.26893574926542607,
          0.23295050137632728,
          0.25217517965280584,
          0.35507511551155113,
          0.22827907145447954,
          0.273174794520548,
          0.2819103247350666,
          0.24311252834467117,
          0.2517310759851676,
          0.3346206192216728,
          0.3589641085783254,
          0.3026348936170213,
          0.3926616908850727,
          0.3424374341587457,
          0.2875141837691426,
          0.2775534548417936,
          0.26509250545489027,
          0.23163932223933734,
          0.24004687258022867,
          0.2233950548462507,
          0.4430575839204311,
          0.38732015527950314,
          0.3165718390208484,
          0.2851622423945043,
          0.34558797523660006,
          0.29641983596388444,
          0.2903481839707253,
          0.2671244341585631,
          0.28434762444842154,
          0.2669989615856868,
          0.43552876712328764,
          0.4081647319468288,
          0.519711622031329,
          0.4302757063177652,
          0.3435907822835777,
          0.4312047981480442,
          0.34916680551423196,
          0.3350197066150012,
          0.3163251073875537,
          0.30965312655705024,
          0.4227,
          0.40500732689725744,
          0.3949724438809754,
          0.3488330378052861,
          0.32825460579243765,
          0.33933773032221454,
          0.3289089637149927,
          0.3738371881385733,
          0.2985182948905108,
          0.32717253521126766,
          0.3957547172680771,
          0.6554594964028778,
          0.5178142963607008,
          0.4208143424516425,
          0.5301711730277799,
          0.3596375879396985,
          0.39686497908126595,
          0.3698318777865197,
          0.30076589798686737,
          0.2768553010033446,
          0.26334018757327093,
          0.2739209620253164,
          0.29749641300464463,
          0.24120229220649797,
          0.25896029857204667,
          0.25719027200819433,
          0.28440518056574554,
          0.29915123595505616,
          0.3293119203666289,
          0.337998139070011,
          0.278590963516135,
          0.25588266666666665,
          0.3691796052631579,
          0.45304754154207216,
          0.6612576290097628,
          0.5925990625424576,
          0.5325132039854891,
          0.47510338972367905,
          0.4464777849856474,
          0.39766538699788695,
          0.36735335056166357,
          0.34293834998388645,
          0.3156047218289132,
          0.2788969028425965,
          0.26677454751131224,
          0.34852667386609076,
          0.45071220979639004,
          0.44008461707470176,
          0.36323818656229634,
          0.361181356899874,
          0.3308942723615355,
          0.4228885101920434,
          0.5374516442451425,
          0.556648263190737,
          0.5007,
          0.4387604062493517,
          0.6143596884735202,
          0.5884364019676741,
          0.39921703018646604,
          0.34773315816108097,
          0.32045371185446025,
          0.26506209926671115,
          0.26142260832625325,
          0.27068330926654366,
          0.3486737227078228,
          0.3382
         ]
        }
       ],
       "layout": {
        "template": {
         "data": {
          "bar": [
           {
            "error_x": {
             "color": "#2a3f5f"
            },
            "error_y": {
             "color": "#2a3f5f"
            },
            "marker": {
             "line": {
              "color": "#E5ECF6",
              "width": 0.5
             }
            },
            "type": "bar"
           }
          ],
          "barpolar": [
           {
            "marker": {
             "line": {
              "color": "#E5ECF6",
              "width": 0.5
             }
            },
            "type": "barpolar"
           }
          ],
          "carpet": [
           {
            "aaxis": {
             "endlinecolor": "#2a3f5f",
             "gridcolor": "white",
             "linecolor": "white",
             "minorgridcolor": "white",
             "startlinecolor": "#2a3f5f"
            },
            "baxis": {
             "endlinecolor": "#2a3f5f",
             "gridcolor": "white",
             "linecolor": "white",
             "minorgridcolor": "white",
             "startlinecolor": "#2a3f5f"
            },
            "type": "carpet"
           }
          ],
          "choropleth": [
           {
            "colorbar": {
             "outlinewidth": 0,
             "ticks": ""
            },
            "type": "choropleth"
           }
          ],
          "contour": [
           {
            "colorbar": {
             "outlinewidth": 0,
             "ticks": ""
            },
            "colorscale": [
             [
              0,
              "#0d0887"
             ],
             [
              0.1111111111111111,
              "#46039f"
             ],
             [
              0.2222222222222222,
              "#7201a8"
             ],
             [
              0.3333333333333333,
              "#9c179e"
             ],
             [
              0.4444444444444444,
              "#bd3786"
             ],
             [
              0.5555555555555556,
              "#d8576b"
             ],
             [
              0.6666666666666666,
              "#ed7953"
             ],
             [
              0.7777777777777778,
              "#fb9f3a"
             ],
             [
              0.8888888888888888,
              "#fdca26"
             ],
             [
              1,
              "#f0f921"
             ]
            ],
            "type": "contour"
           }
          ],
          "contourcarpet": [
           {
            "colorbar": {
             "outlinewidth": 0,
             "ticks": ""
            },
            "type": "contourcarpet"
           }
          ],
          "heatmap": [
           {
            "colorbar": {
             "outlinewidth": 0,
             "ticks": ""
            },
            "colorscale": [
             [
              0,
              "#0d0887"
             ],
             [
              0.1111111111111111,
              "#46039f"
             ],
             [
              0.2222222222222222,
              "#7201a8"
             ],
             [
              0.3333333333333333,
              "#9c179e"
             ],
             [
              0.4444444444444444,
              "#bd3786"
             ],
             [
              0.5555555555555556,
              "#d8576b"
             ],
             [
              0.6666666666666666,
              "#ed7953"
             ],
             [
              0.7777777777777778,
              "#fb9f3a"
             ],
             [
              0.8888888888888888,
              "#fdca26"
             ],
             [
              1,
              "#f0f921"
             ]
            ],
            "type": "heatmap"
           }
          ],
          "heatmapgl": [
           {
            "colorbar": {
             "outlinewidth": 0,
             "ticks": ""
            },
            "colorscale": [
             [
              0,
              "#0d0887"
             ],
             [
              0.1111111111111111,
              "#46039f"
             ],
             [
              0.2222222222222222,
              "#7201a8"
             ],
             [
              0.3333333333333333,
              "#9c179e"
             ],
             [
              0.4444444444444444,
              "#bd3786"
             ],
             [
              0.5555555555555556,
              "#d8576b"
             ],
             [
              0.6666666666666666,
              "#ed7953"
             ],
             [
              0.7777777777777778,
              "#fb9f3a"
             ],
             [
              0.8888888888888888,
              "#fdca26"
             ],
             [
              1,
              "#f0f921"
             ]
            ],
            "type": "heatmapgl"
           }
          ],
          "histogram": [
           {
            "marker": {
             "colorbar": {
              "outlinewidth": 0,
              "ticks": ""
             }
            },
            "type": "histogram"
           }
          ],
          "histogram2d": [
           {
            "colorbar": {
             "outlinewidth": 0,
             "ticks": ""
            },
            "colorscale": [
             [
              0,
              "#0d0887"
             ],
             [
              0.1111111111111111,
              "#46039f"
             ],
             [
              0.2222222222222222,
              "#7201a8"
             ],
             [
              0.3333333333333333,
              "#9c179e"
             ],
             [
              0.4444444444444444,
              "#bd3786"
             ],
             [
              0.5555555555555556,
              "#d8576b"
             ],
             [
              0.6666666666666666,
              "#ed7953"
             ],
             [
              0.7777777777777778,
              "#fb9f3a"
             ],
             [
              0.8888888888888888,
              "#fdca26"
             ],
             [
              1,
              "#f0f921"
             ]
            ],
            "type": "histogram2d"
           }
          ],
          "histogram2dcontour": [
           {
            "colorbar": {
             "outlinewidth": 0,
             "ticks": ""
            },
            "colorscale": [
             [
              0,
              "#0d0887"
             ],
             [
              0.1111111111111111,
              "#46039f"
             ],
             [
              0.2222222222222222,
              "#7201a8"
             ],
             [
              0.3333333333333333,
              "#9c179e"
             ],
             [
              0.4444444444444444,
              "#bd3786"
             ],
             [
              0.5555555555555556,
              "#d8576b"
             ],
             [
              0.6666666666666666,
              "#ed7953"
             ],
             [
              0.7777777777777778,
              "#fb9f3a"
             ],
             [
              0.8888888888888888,
              "#fdca26"
             ],
             [
              1,
              "#f0f921"
             ]
            ],
            "type": "histogram2dcontour"
           }
          ],
          "mesh3d": [
           {
            "colorbar": {
             "outlinewidth": 0,
             "ticks": ""
            },
            "type": "mesh3d"
           }
          ],
          "parcoords": [
           {
            "line": {
             "colorbar": {
              "outlinewidth": 0,
              "ticks": ""
             }
            },
            "type": "parcoords"
           }
          ],
          "pie": [
           {
            "automargin": true,
            "type": "pie"
           }
          ],
          "scatter": [
           {
            "marker": {
             "colorbar": {
              "outlinewidth": 0,
              "ticks": ""
             }
            },
            "type": "scatter"
           }
          ],
          "scatter3d": [
           {
            "line": {
             "colorbar": {
              "outlinewidth": 0,
              "ticks": ""
             }
            },
            "marker": {
             "colorbar": {
              "outlinewidth": 0,
              "ticks": ""
             }
            },
            "type": "scatter3d"
           }
          ],
          "scattercarpet": [
           {
            "marker": {
             "colorbar": {
              "outlinewidth": 0,
              "ticks": ""
             }
            },
            "type": "scattercarpet"
           }
          ],
          "scattergeo": [
           {
            "marker": {
             "colorbar": {
              "outlinewidth": 0,
              "ticks": ""
             }
            },
            "type": "scattergeo"
           }
          ],
          "scattergl": [
           {
            "marker": {
             "colorbar": {
              "outlinewidth": 0,
              "ticks": ""
             }
            },
            "type": "scattergl"
           }
          ],
          "scattermapbox": [
           {
            "marker": {
             "colorbar": {
              "outlinewidth": 0,
              "ticks": ""
             }
            },
            "type": "scattermapbox"
           }
          ],
          "scatterpolar": [
           {
            "marker": {
             "colorbar": {
              "outlinewidth": 0,
              "ticks": ""
             }
            },
            "type": "scatterpolar"
           }
          ],
          "scatterpolargl": [
           {
            "marker": {
             "colorbar": {
              "outlinewidth": 0,
              "ticks": ""
             }
            },
            "type": "scatterpolargl"
           }
          ],
          "scatterternary": [
           {
            "marker": {
             "colorbar": {
              "outlinewidth": 0,
              "ticks": ""
             }
            },
            "type": "scatterternary"
           }
          ],
          "surface": [
           {
            "colorbar": {
             "outlinewidth": 0,
             "ticks": ""
            },
            "colorscale": [
             [
              0,
              "#0d0887"
             ],
             [
              0.1111111111111111,
              "#46039f"
             ],
             [
              0.2222222222222222,
              "#7201a8"
             ],
             [
              0.3333333333333333,
              "#9c179e"
             ],
             [
              0.4444444444444444,
              "#bd3786"
             ],
             [
              0.5555555555555556,
              "#d8576b"
             ],
             [
              0.6666666666666666,
              "#ed7953"
             ],
             [
              0.7777777777777778,
              "#fb9f3a"
             ],
             [
              0.8888888888888888,
              "#fdca26"
             ],
             [
              1,
              "#f0f921"
             ]
            ],
            "type": "surface"
           }
          ],
          "table": [
           {
            "cells": {
             "fill": {
              "color": "#EBF0F8"
             },
             "line": {
              "color": "white"
             }
            },
            "header": {
             "fill": {
              "color": "#C8D4E3"
             },
             "line": {
              "color": "white"
             }
            },
            "type": "table"
           }
          ]
         },
         "layout": {
          "annotationdefaults": {
           "arrowcolor": "#2a3f5f",
           "arrowhead": 0,
           "arrowwidth": 1
          },
          "autotypenumbers": "strict",
          "coloraxis": {
           "colorbar": {
            "outlinewidth": 0,
            "ticks": ""
           }
          },
          "colorscale": {
           "diverging": [
            [
             0,
             "#8e0152"
            ],
            [
             0.1,
             "#c51b7d"
            ],
            [
             0.2,
             "#de77ae"
            ],
            [
             0.3,
             "#f1b6da"
            ],
            [
             0.4,
             "#fde0ef"
            ],
            [
             0.5,
             "#f7f7f7"
            ],
            [
             0.6,
             "#e6f5d0"
            ],
            [
             0.7,
             "#b8e186"
            ],
            [
             0.8,
             "#7fbc41"
            ],
            [
             0.9,
             "#4d9221"
            ],
            [
             1,
             "#276419"
            ]
           ],
           "sequential": [
            [
             0,
             "#0d0887"
            ],
            [
             0.1111111111111111,
             "#46039f"
            ],
            [
             0.2222222222222222,
             "#7201a8"
            ],
            [
             0.3333333333333333,
             "#9c179e"
            ],
            [
             0.4444444444444444,
             "#bd3786"
            ],
            [
             0.5555555555555556,
             "#d8576b"
            ],
            [
             0.6666666666666666,
             "#ed7953"
            ],
            [
             0.7777777777777778,
             "#fb9f3a"
            ],
            [
             0.8888888888888888,
             "#fdca26"
            ],
            [
             1,
             "#f0f921"
            ]
           ],
           "sequentialminus": [
            [
             0,
             "#0d0887"
            ],
            [
             0.1111111111111111,
             "#46039f"
            ],
            [
             0.2222222222222222,
             "#7201a8"
            ],
            [
             0.3333333333333333,
             "#9c179e"
            ],
            [
             0.4444444444444444,
             "#bd3786"
            ],
            [
             0.5555555555555556,
             "#d8576b"
            ],
            [
             0.6666666666666666,
             "#ed7953"
            ],
            [
             0.7777777777777778,
             "#fb9f3a"
            ],
            [
             0.8888888888888888,
             "#fdca26"
            ],
            [
             1,
             "#f0f921"
            ]
           ]
          },
          "colorway": [
           "#636efa",
           "#EF553B",
           "#00cc96",
           "#ab63fa",
           "#FFA15A",
           "#19d3f3",
           "#FF6692",
           "#B6E880",
           "#FF97FF",
           "#FECB52"
          ],
          "font": {
           "color": "#2a3f5f"
          },
          "geo": {
           "bgcolor": "white",
           "lakecolor": "white",
           "landcolor": "#E5ECF6",
           "showlakes": true,
           "showland": true,
           "subunitcolor": "white"
          },
          "hoverlabel": {
           "align": "left"
          },
          "hovermode": "closest",
          "mapbox": {
           "style": "light"
          },
          "paper_bgcolor": "white",
          "plot_bgcolor": "#E5ECF6",
          "polar": {
           "angularaxis": {
            "gridcolor": "white",
            "linecolor": "white",
            "ticks": ""
           },
           "bgcolor": "#E5ECF6",
           "radialaxis": {
            "gridcolor": "white",
            "linecolor": "white",
            "ticks": ""
           }
          },
          "scene": {
           "xaxis": {
            "backgroundcolor": "#E5ECF6",
            "gridcolor": "white",
            "gridwidth": 2,
            "linecolor": "white",
            "showbackground": true,
            "ticks": "",
            "zerolinecolor": "white"
           },
           "yaxis": {
            "backgroundcolor": "#E5ECF6",
            "gridcolor": "white",
            "gridwidth": 2,
            "linecolor": "white",
            "showbackground": true,
            "ticks": "",
            "zerolinecolor": "white"
           },
           "zaxis": {
            "backgroundcolor": "#E5ECF6",
            "gridcolor": "white",
            "gridwidth": 2,
            "linecolor": "white",
            "showbackground": true,
            "ticks": "",
            "zerolinecolor": "white"
           }
          },
          "shapedefaults": {
           "line": {
            "color": "#2a3f5f"
           }
          },
          "ternary": {
           "aaxis": {
            "gridcolor": "white",
            "linecolor": "white",
            "ticks": ""
           },
           "baxis": {
            "gridcolor": "white",
            "linecolor": "white",
            "ticks": ""
           },
           "bgcolor": "#E5ECF6",
           "caxis": {
            "gridcolor": "white",
            "linecolor": "white",
            "ticks": ""
           }
          },
          "title": {
           "x": 0.05
          },
          "xaxis": {
           "automargin": true,
           "gridcolor": "white",
           "linecolor": "white",
           "ticks": "",
           "title": {
            "standoff": 15
           },
           "zerolinecolor": "white",
           "zerolinewidth": 2
          },
          "yaxis": {
           "automargin": true,
           "gridcolor": "white",
           "linecolor": "white",
           "ticks": "",
           "title": {
            "standoff": 15
           },
           "zerolinecolor": "white",
           "zerolinewidth": 2
          }
         }
        },
        "title": {
         "text": "Serie de tiempo NDVI"
        },
        "xaxis": {
         "title": {
          "text": "Mes"
         }
        },
        "yaxis": {
         "title": {
          "text": "Índice de Vegetación"
         }
        }
       }
      }
     },
     "metadata": {}
    }
   ],
   "source": [
    "# Create traces\n",
    "fig_ndvi = go.Figure()\n",
    "fig_ndvi.add_trace(go.Scatter(\n",
    "                    x=NDVI_serie.date.tolist(),\n",
    "                    y=NDVI_serie.NDVI.tolist(),\n",
    "                    mode='lines+markers',\n",
    "                    name='NDVI Time Serie',\n",
    "                    line=dict(color='#4E8C39', width=4)\n",
    "                    ))\n",
    "# Edit the layout\n",
    "fig_ndvi.update_layout(title='Serie de tiempo NDVI',\n",
    "                       xaxis_title='Mes',\n",
    "                       yaxis_title='Índice de Vegetación')\n",
    "\n",
    "fig_ndvi.show()"
   ]
  }
 ]
}