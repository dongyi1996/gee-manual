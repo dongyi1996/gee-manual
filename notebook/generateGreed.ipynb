{
 "metadata": {
  "language_info": {
   "codemirror_mode": {
    "name": "ipython",
    "version": 3
   },
   "file_extension": ".py",
   "mimetype": "text/x-python",
   "name": "python",
   "nbconvert_exporter": "python",
   "pygments_lexer": "ipython3",
   "version": "3.8.5"
  },
  "orig_nbformat": 2,
  "kernelspec": {
   "name": "python3",
   "display_name": "Python 3.8.5 64-bit ('gee-env': venv)",
   "metadata": {
    "interpreter": {
     "hash": "771c8809e15e4191543b97e613b9aad8fd3df0f30d9e8f7f36206efe6445782d"
    }
   }
  }
 },
 "nbformat": 4,
 "nbformat_minor": 2,
 "cells": [
  {
   "cell_type": "code",
   "execution_count": null,
   "metadata": {},
   "outputs": [],
   "source": []
  },
  {
   "cell_type": "code",
   "execution_count": 244,
   "metadata": {},
   "outputs": [],
   "source": [
    "# Módulos\n",
    "import ee\n",
    "import folium\n",
    "import geehydro"
   ]
  },
  {
   "cell_type": "code",
   "execution_count": 245,
   "metadata": {},
   "outputs": [],
   "source": [
    "# Inicio de API\n",
    "ee.Initialize()"
   ]
  },
  {
   "source": [
    "#### Función generateGreedForGeometry"
   ],
   "cell_type": "markdown",
   "metadata": {}
  },
  {
   "cell_type": "code",
   "execution_count": 246,
   "metadata": {},
   "outputs": [],
   "source": [
    "#funcion para la generacion de grillas\n",
    "def generateGreedForGeometry(geom,dx,dy):\n",
    "    \"\"\"\n",
    "    Función para generar grillas partiendo de una zona geográfica.\n",
    "    \"\"\"\n",
    "\n",
    "    bounds = ee.Geometry(geom).bounds()\n",
    "    coords = ee.List(bounds.coordinates().get(0))\n",
    "    ll = ee.List(coords.get(0))\n",
    "    ur = ee.List(coords.get(2))\n",
    "    xmin = ll.get(0)\n",
    "    xmax = ur.get(0)\n",
    "    ymin = ll.get(1)\n",
    "    ymax = ur.get(1)\n",
    "\n",
    "    xx = ee.List.sequence(xmin, xmax, dx)\n",
    "    yy = ee.List.sequence(ymin, ymax, dy)\n",
    "\n",
    "    #************************************\n",
    "    def contYYa(y,x,dx,dy):\n",
    "\n",
    "        x1 = ee.Number(x)\n",
    "        x2 = ee.Number(x).add(ee.Number(dx))\n",
    "        y1 = ee.Number(y)\n",
    "        y2 = ee.Number(y).add(ee.Number(dy))\n",
    "\n",
    "        coords = ee.List([x1, y1, x2, y2])\n",
    "        rect = ee.Algorithms.GeometryConstructors.Rectangle(coords)\n",
    "\n",
    "        return ee.Feature(rect)\n",
    "\n",
    "    def contYY(x):\n",
    "        return yy.map(lambda yi: contYYa(y=yi,x=x,dx=dx,dy=dy) )\n",
    "    #************************************\n",
    "\n",
    "    cells = xx.map(contYY).flatten() \n",
    "\n",
    "    return ee.FeatureCollection(cells).filterBounds(geom)#.map(lambda c: ee.Feature(c).intersection(geom) )"
   ]
  },
  {
   "source": [
    "#### Ejemplo"
   ],
   "cell_type": "markdown",
   "metadata": {}
  },
  {
   "cell_type": "code",
   "execution_count": 247,
   "metadata": {},
   "outputs": [],
   "source": [
    "#----------------------------------------------\n",
    "# Ejemplo\n",
    "#----------------------------------------------\n",
    "\n",
    "# region\n",
    "polygonCollection = 'WCMC/WDPA/current/polygons'\n",
    "polygonName = 'Canaima National Park'#'Guatopo'\n",
    "\n",
    "# date\n",
    "date_ini = '2019-12-01'\n",
    "date_end = '2019-12-31'\n",
    "\n",
    "\n",
    "# poligono\n",
    "polygon = ee.FeatureCollection(polygonCollection) \\\n",
    "            .filter(ee.Filter.eq('NAME', polygonName))\n",
    "\n",
    "\n",
    "# geometria\n",
    "state = polygon.geometry()\n",
    "dx = 0.09\n",
    "dy = 0.09\n",
    "\n",
    "# creando grilla\n",
    "greed = generateGreedForGeometry(state,dx,dy)\n",
    "centroide = state.centroid().coordinates().getInfo()[::-1]"
   ]
  },
  {
   "source": [
    "#### Creando centroides"
   ],
   "cell_type": "markdown",
   "metadata": {}
  },
  {
   "cell_type": "code",
   "execution_count": 248,
   "metadata": {
    "tags": []
   },
   "outputs": [
    {
     "output_type": "stream",
     "name": "stdout",
     "text": [
      "área del parque Km2:  289542.4562322496\n",
      "área de cuadricula Km2:  997.0842463804966\n",
      "número de centroides:  346\n"
     ]
    }
   ],
   "source": [
    "def getCentroid(feature):\n",
    "    keepProperties = ['name', 'huc6', 'tnmid', 'areasqkm']\n",
    "    centroid = feature.geometry().centroid()\n",
    "    return ee.Feature(centroid).copyProperties(feature, keepProperties)\n",
    "\n",
    "\n",
    "centroids = greed.map(getCentroid)\n",
    "\n",
    "print('área del parque Km2: ', 0.1*polygon.first().geometry().area().divide(100*100).getInfo() ) \n",
    "print('área de cuadricula Km2: ', 0.1*greed.first().geometry().area().divide(100*100).getInfo() )\n",
    "print('número de centroides: ', centroids.size().getInfo())"
   ]
  },
  {
   "source": [
    "#### Información Indices de vegetacion"
   ],
   "cell_type": "markdown",
   "metadata": {}
  },
  {
   "cell_type": "code",
   "execution_count": 249,
   "metadata": {},
   "outputs": [],
   "source": [
    "def getQABits(image, start, end, newName):\n",
    "    \"\"\"\n",
    "    Funcion para establecer la calidad de las bandas\n",
    "    \"\"\"\n",
    "\n",
    "    import math\n",
    "\n",
    "    pattern = 0\n",
    "    for i in range(start,end+1):\n",
    "      pattern += math.pow(2, i)\n",
    "    #Return a single band image of the extracted QA bits, giving the band\n",
    "    #a new name.\n",
    "    return image.select([0], [newName])\\\n",
    "                  .bitwiseAnd(pattern)\\\n",
    "                  .rightShift(start)"
   ]
  },
  {
   "source": [
    "#### MOD13Q1"
   ],
   "cell_type": "markdown",
   "metadata": {}
  },
  {
   "cell_type": "code",
   "execution_count": 250,
   "metadata": {},
   "outputs": [],
   "source": [
    "# MODIS MOD13Q1\n",
    "modis = ee.ImageCollection('MODIS/006/MOD13Q1')\\\n",
    "             .filterDate(ee.DateRange(date_ini,date_end))\\\n",
    "             .map(lambda x: x.clip(polygon))\n",
    "\n",
    "\n",
    "# Filtros de calidad -----------------------------------------\n",
    "# def modis_bit_0(image):\n",
    "\n",
    "#   qscore = getQABits(image.select('SummaryQA'), 0, 1, 'quality')\\\n",
    "#               .expression(\"b(0) == 2 || b(0) == 3\" )\n",
    "\n",
    "#   return image.updateMask(qscore.Not())\n",
    "\n",
    "# #Select the QA band.\n",
    "# def modis_bit_1(image):\n",
    "\n",
    "#   qscore = getQABits(image.select('SummaryQA'), 2, 5, 'usefulness')\\\n",
    "#               .expression(\"b(0) == 2 || b(0) == 4 || b(0) == 8 || b(0) == 9 || b(0) == 10 || b(0) == 12 || b(0) == 13 || b(0) == 14 || b(0) == 15\" )\n",
    "\n",
    "#   return image.updateMask(qscore.Not())\n",
    "\n",
    "# #Select the QA band.\n",
    "# def modis_bit_2(image):\n",
    "\n",
    "#   qscore = getQABits(image.select('SummaryQA'), 13, 14, 'Land/water')\\\n",
    "#               .expression(\"b(0) == 0 || b(0) == 1 || b(0) == 2 || b(0) == 3 || b(0) == 4 || b(0) == 5 || b(0) == 6 || b(0) == 7\" )\n",
    "\n",
    "#   return image.updateMask(qscore.Not())\n",
    "\n",
    "# #Select the QA band.\n",
    "# def modis_bit_3(image):\n",
    "\n",
    "#   qscore = getQABits(image.select('SummaryQA'), 14, 14, 'snow/ice')\\\n",
    "#               .expression(\"b(0) == 1\" )\n",
    "\n",
    "#   return image.updateMask(qscore.Not())\n",
    "\n",
    "# #Select the QA band.\n",
    "# def modis_bit_4(image):\n",
    "\n",
    "#   qscore = getQABits(image.select('DetailedQA'), 15, 15, 'shadow')\\\n",
    "#               .expression(\"b(0) == 1\" )\n",
    "\n",
    "#   return image.updateMask(qscore.Not())\n",
    "\n",
    "# Filtros de calidad -----------------------------------------\n",
    "\n",
    "\n",
    "def scale_factor(image):\n",
    "    # scale factor for the MODIS MOD13Q1 product\n",
    "    return image.multiply(0.0001).copyProperties(image,['system:time_start'])\n",
    "\n"
   ]
  },
  {
   "cell_type": "code",
   "execution_count": 251,
   "metadata": {},
   "outputs": [],
   "source": [
    "# select EVI and NDVI\n",
    "modis_qa = modis#.map(modis_bit_0)\n",
    "                # .map(modis_bit_1)\\\n",
    "                # .map(modis_bit_2)\\\n",
    "                # .map(modis_bit_3)\\\n",
    "                # .map(modis_bit_4)\n",
    "                \n",
    "evi = modis_qa.select('EVI').map(scale_factor).mean()\n",
    "ndvi = modis_qa.select('NDVI').map(scale_factor).mean()"
   ]
  },
  {
   "source": [
    "#### SRTM Digital Elevation Data Version 4"
   ],
   "cell_type": "markdown",
   "metadata": {}
  },
  {
   "cell_type": "code",
   "execution_count": 252,
   "metadata": {},
   "outputs": [],
   "source": [
    "# Elevacion\n",
    "elevation = ee.Image('CGIAR/SRTM90_V4').select('elevation')\n",
    "slope = ee.Terrain.slope(elevation).clip(polygon)\n"
   ]
  },
  {
   "source": [
    "MCD64A1.006 MODIS Burned Area Monthly Global 500m"
   ],
   "cell_type": "markdown",
   "metadata": {}
  },
  {
   "cell_type": "code",
   "execution_count": 253,
   "metadata": {},
   "outputs": [],
   "source": [
    "fire = ee.ImageCollection('MODIS/006/MCD64A1')\\\n",
    "            .filter(ee.Filter.date(date_ini,date_end))\\\n",
    "            .map(lambda x:x.clip(polygon))\n",
    "\n",
    "\n",
    "\n",
    "# Filtros de calidad -----------------------------------------\n",
    "def bit_0(image):\n",
    "\n",
    "  qscore = getQABits(image.select('QA'), 0, 0, 'Land_water')\\\n",
    "              .expression(\"b(0) == 0\")\n",
    "\n",
    "  return image.updateMask(qscore.Not())\n",
    "\n",
    "#Select the QA band.\n",
    "def bit_1(image):\n",
    "\n",
    "  qscore = getQABits(image.select('QA'), 1, 1, 'Valid_data_flag')\\\n",
    "              .expression(\"b(0) == 0\")\n",
    "\n",
    "  return image.updateMask(qscore.Not())\n",
    "\n",
    "# Filtros de calidad -----------------------------------------\n",
    "\n",
    "burnedArea = fire.map(bit_0)\\\n",
    "                 .map(bit_1)\\\n",
    "                 .select('BurnDate')"
   ]
  },
  {
   "source": [
    "#### Mapa"
   ],
   "cell_type": "markdown",
   "metadata": {}
  },
  {
   "cell_type": "code",
   "execution_count": 255,
   "metadata": {},
   "outputs": [
    {
     "output_type": "execute_result",
     "data": {
      "text/plain": [
       "<folium.folium.Map at 0x7f7f04712790>"
      ],
      "text/html": "<div style=\"width:100%;\"><div style=\"position:relative;width:100%;height:0;padding-bottom:60%;\"><span style=\"color:#565656\">Make this Notebook Trusted to load map: File -> Trust Notebook</span><iframe src=\"about:blank\" style=\"position:absolute;width:100%;height:100%;left:0;top:0;border:none !important;\" data-html=%3C%21DOCTYPE%20html%3E%0A%3Chead%3E%20%20%20%20%0A%20%20%20%20%3Cmeta%20http-equiv%3D%22content-type%22%20content%3D%22text/html%3B%20charset%3DUTF-8%22%20/%3E%0A%20%20%20%20%0A%20%20%20%20%20%20%20%20%3Cscript%3E%0A%20%20%20%20%20%20%20%20%20%20%20%20L_NO_TOUCH%20%3D%20false%3B%0A%20%20%20%20%20%20%20%20%20%20%20%20L_DISABLE_3D%20%3D%20false%3B%0A%20%20%20%20%20%20%20%20%3C/script%3E%0A%20%20%20%20%0A%20%20%20%20%3Cstyle%3Ehtml%2C%20body%20%7Bwidth%3A%20100%25%3Bheight%3A%20100%25%3Bmargin%3A%200%3Bpadding%3A%200%3B%7D%3C/style%3E%0A%20%20%20%20%3Cstyle%3E%23map%20%7Bposition%3Aabsolute%3Btop%3A0%3Bbottom%3A0%3Bright%3A0%3Bleft%3A0%3B%7D%3C/style%3E%0A%20%20%20%20%3Cscript%20src%3D%22https%3A//cdn.jsdelivr.net/npm/leaflet%401.6.0/dist/leaflet.js%22%3E%3C/script%3E%0A%20%20%20%20%3Cscript%20src%3D%22https%3A//code.jquery.com/jquery-1.12.4.min.js%22%3E%3C/script%3E%0A%20%20%20%20%3Cscript%20src%3D%22https%3A//maxcdn.bootstrapcdn.com/bootstrap/3.2.0/js/bootstrap.min.js%22%3E%3C/script%3E%0A%20%20%20%20%3Cscript%20src%3D%22https%3A//cdnjs.cloudflare.com/ajax/libs/Leaflet.awesome-markers/2.0.2/leaflet.awesome-markers.js%22%3E%3C/script%3E%0A%20%20%20%20%3Clink%20rel%3D%22stylesheet%22%20href%3D%22https%3A//cdn.jsdelivr.net/npm/leaflet%401.6.0/dist/leaflet.css%22/%3E%0A%20%20%20%20%3Clink%20rel%3D%22stylesheet%22%20href%3D%22https%3A//maxcdn.bootstrapcdn.com/bootstrap/3.2.0/css/bootstrap.min.css%22/%3E%0A%20%20%20%20%3Clink%20rel%3D%22stylesheet%22%20href%3D%22https%3A//maxcdn.bootstrapcdn.com/bootstrap/3.2.0/css/bootstrap-theme.min.css%22/%3E%0A%20%20%20%20%3Clink%20rel%3D%22stylesheet%22%20href%3D%22https%3A//maxcdn.bootstrapcdn.com/font-awesome/4.6.3/css/font-awesome.min.css%22/%3E%0A%20%20%20%20%3Clink%20rel%3D%22stylesheet%22%20href%3D%22https%3A//cdnjs.cloudflare.com/ajax/libs/Leaflet.awesome-markers/2.0.2/leaflet.awesome-markers.css%22/%3E%0A%20%20%20%20%3Clink%20rel%3D%22stylesheet%22%20href%3D%22https%3A//cdn.jsdelivr.net/gh/python-visualization/folium/folium/templates/leaflet.awesome.rotate.min.css%22/%3E%0A%20%20%20%20%0A%20%20%20%20%20%20%20%20%20%20%20%20%3Cmeta%20name%3D%22viewport%22%20content%3D%22width%3Ddevice-width%2C%0A%20%20%20%20%20%20%20%20%20%20%20%20%20%20%20%20initial-scale%3D1.0%2C%20maximum-scale%3D1.0%2C%20user-scalable%3Dno%22%20/%3E%0A%20%20%20%20%20%20%20%20%20%20%20%20%3Cstyle%3E%0A%20%20%20%20%20%20%20%20%20%20%20%20%20%20%20%20%23map_c3a4a1bd07424917af558d01170138b5%20%7B%0A%20%20%20%20%20%20%20%20%20%20%20%20%20%20%20%20%20%20%20%20position%3A%20relative%3B%0A%20%20%20%20%20%20%20%20%20%20%20%20%20%20%20%20%20%20%20%20width%3A%20100.0%25%3B%0A%20%20%20%20%20%20%20%20%20%20%20%20%20%20%20%20%20%20%20%20height%3A%20100.0%25%3B%0A%20%20%20%20%20%20%20%20%20%20%20%20%20%20%20%20%20%20%20%20left%3A%200.0%25%3B%0A%20%20%20%20%20%20%20%20%20%20%20%20%20%20%20%20%20%20%20%20top%3A%200.0%25%3B%0A%20%20%20%20%20%20%20%20%20%20%20%20%20%20%20%20%7D%0A%20%20%20%20%20%20%20%20%20%20%20%20%3C/style%3E%0A%20%20%20%20%20%20%20%20%0A%20%20%20%20%3Cscript%20src%3D%22https%3A//cdnjs.cloudflare.com/ajax/libs/leaflet.fullscreen/1.4.2/Control.FullScreen.min.js%22%3E%3C/script%3E%0A%20%20%20%20%3Clink%20rel%3D%22stylesheet%22%20href%3D%22https%3A//cdnjs.cloudflare.com/ajax/libs/leaflet.fullscreen/1.4.2/Control.FullScreen.min.css%22/%3E%0A%3C/head%3E%0A%3Cbody%3E%20%20%20%20%0A%20%20%20%20%0A%20%20%20%20%20%20%20%20%20%20%20%20%3Cdiv%20class%3D%22folium-map%22%20id%3D%22map_c3a4a1bd07424917af558d01170138b5%22%20%3E%3C/div%3E%0A%20%20%20%20%20%20%20%20%0A%3C/body%3E%0A%3Cscript%3E%20%20%20%20%0A%20%20%20%20%0A%20%20%20%20%20%20%20%20%20%20%20%20var%20map_c3a4a1bd07424917af558d01170138b5%20%3D%20L.map%28%0A%20%20%20%20%20%20%20%20%20%20%20%20%20%20%20%20%22map_c3a4a1bd07424917af558d01170138b5%22%2C%0A%20%20%20%20%20%20%20%20%20%20%20%20%20%20%20%20%7B%0A%20%20%20%20%20%20%20%20%20%20%20%20%20%20%20%20%20%20%20%20center%3A%20%5B5.542309569845439%2C%20-61.93722082711255%5D%2C%0A%20%20%20%20%20%20%20%20%20%20%20%20%20%20%20%20%20%20%20%20crs%3A%20L.CRS.EPSG3857%2C%0A%20%20%20%20%20%20%20%20%20%20%20%20%20%20%20%20%20%20%20%20zoom%3A%2011%2C%0A%20%20%20%20%20%20%20%20%20%20%20%20%20%20%20%20%20%20%20%20zoomControl%3A%20true%2C%0A%20%20%20%20%20%20%20%20%20%20%20%20%20%20%20%20%20%20%20%20preferCanvas%3A%20false%2C%0A%20%20%20%20%20%20%20%20%20%20%20%20%20%20%20%20%7D%0A%20%20%20%20%20%20%20%20%20%20%20%20%29%3B%0A%20%20%20%20%20%20%20%20%20%20%20%20L.control.scale%28%29.addTo%28map_c3a4a1bd07424917af558d01170138b5%29%3B%0A%0A%20%20%20%20%20%20%20%20%20%20%20%20%0A%0A%20%20%20%20%20%20%20%20%0A%20%20%20%20%0A%20%20%20%20%20%20%20%20%20%20%20%20var%20tile_layer_d567fa9a970a4bf3962fd3d023f44dbd%20%3D%20L.tileLayer%28%0A%20%20%20%20%20%20%20%20%20%20%20%20%20%20%20%20%22https%3A//%7Bs%7D.tile.openstreetmap.org/%7Bz%7D/%7Bx%7D/%7By%7D.png%22%2C%0A%20%20%20%20%20%20%20%20%20%20%20%20%20%20%20%20%7B%22attribution%22%3A%20%22Data%20by%20%5Cu0026copy%3B%20%5Cu003ca%20href%3D%5C%22http%3A//openstreetmap.org%5C%22%5Cu003eOpenStreetMap%5Cu003c/a%5Cu003e%2C%20under%20%5Cu003ca%20href%3D%5C%22http%3A//www.openstreetmap.org/copyright%5C%22%5Cu003eODbL%5Cu003c/a%5Cu003e.%22%2C%20%22detectRetina%22%3A%20false%2C%20%22maxNativeZoom%22%3A%2018%2C%20%22maxZoom%22%3A%2018%2C%20%22minZoom%22%3A%200%2C%20%22noWrap%22%3A%20false%2C%20%22opacity%22%3A%201%2C%20%22subdomains%22%3A%20%22abc%22%2C%20%22tms%22%3A%20false%7D%0A%20%20%20%20%20%20%20%20%20%20%20%20%29.addTo%28map_c3a4a1bd07424917af558d01170138b5%29%3B%0A%20%20%20%20%20%20%20%20%0A%20%20%20%20%0A%20%20%20%20%20%20%20%20%20%20%20%20var%20tile_layer_a8c6194eb1cc4150a54729fb2e2960a4%20%3D%20L.tileLayer%28%0A%20%20%20%20%20%20%20%20%20%20%20%20%20%20%20%20%22https%3A//earthengine.googleapis.com/v1alpha/projects/earthengine-legacy/maps/5aae046576b84577e42d21946e37033b-fcc7221771f7d7a725d009749cdeed2b/tiles/%7Bz%7D/%7Bx%7D/%7By%7D%22%2C%0A%20%20%20%20%20%20%20%20%20%20%20%20%20%20%20%20%7B%22attribution%22%3A%20%22Google%20Earth%20Engine%22%2C%20%22detectRetina%22%3A%20false%2C%20%22maxNativeZoom%22%3A%2018%2C%20%22maxZoom%22%3A%2018%2C%20%22minZoom%22%3A%200%2C%20%22noWrap%22%3A%20false%2C%20%22opacity%22%3A%201%2C%20%22subdomains%22%3A%20%22abc%22%2C%20%22tms%22%3A%20false%7D%0A%20%20%20%20%20%20%20%20%20%20%20%20%29.addTo%28map_c3a4a1bd07424917af558d01170138b5%29%3B%0A%20%20%20%20%20%20%20%20%0A%20%20%20%20%0A%20%20%20%20%20%20%20%20%20%20%20%20var%20tile_layer_d2b7f00f852e4374b53cd3470a907e8b%20%3D%20L.tileLayer%28%0A%20%20%20%20%20%20%20%20%20%20%20%20%20%20%20%20%22https%3A//earthengine.googleapis.com/v1alpha/projects/earthengine-legacy/maps/486daadf4da62945a6d024386371b097-98894f81ddbe32f1ec1121202709cc18/tiles/%7Bz%7D/%7Bx%7D/%7By%7D%22%2C%0A%20%20%20%20%20%20%20%20%20%20%20%20%20%20%20%20%7B%22attribution%22%3A%20%22Google%20Earth%20Engine%22%2C%20%22detectRetina%22%3A%20false%2C%20%22maxNativeZoom%22%3A%2018%2C%20%22maxZoom%22%3A%2018%2C%20%22minZoom%22%3A%200%2C%20%22noWrap%22%3A%20false%2C%20%22opacity%22%3A%201%2C%20%22subdomains%22%3A%20%22abc%22%2C%20%22tms%22%3A%20false%7D%0A%20%20%20%20%20%20%20%20%20%20%20%20%29.addTo%28map_c3a4a1bd07424917af558d01170138b5%29%3B%0A%20%20%20%20%20%20%20%20%0A%20%20%20%20%0A%20%20%20%20%20%20%20%20%20%20%20%20var%20tile_layer_644a89b0f6a34dadac37c72ba06a6eb1%20%3D%20L.tileLayer%28%0A%20%20%20%20%20%20%20%20%20%20%20%20%20%20%20%20%22https%3A//earthengine.googleapis.com/v1alpha/projects/earthengine-legacy/maps/4b0a7f4e33f06347256e0d3e5278854b-a55e42acdac421988d285f2d1531d250/tiles/%7Bz%7D/%7Bx%7D/%7By%7D%22%2C%0A%20%20%20%20%20%20%20%20%20%20%20%20%20%20%20%20%7B%22attribution%22%3A%20%22Google%20Earth%20Engine%22%2C%20%22detectRetina%22%3A%20false%2C%20%22maxNativeZoom%22%3A%2018%2C%20%22maxZoom%22%3A%2018%2C%20%22minZoom%22%3A%200%2C%20%22noWrap%22%3A%20false%2C%20%22opacity%22%3A%201%2C%20%22subdomains%22%3A%20%22abc%22%2C%20%22tms%22%3A%20false%7D%0A%20%20%20%20%20%20%20%20%20%20%20%20%29.addTo%28map_c3a4a1bd07424917af558d01170138b5%29%3B%0A%20%20%20%20%20%20%20%20%0A%20%20%20%20%0A%20%20%20%20%20%20%20%20%20%20%20%20var%20tile_layer_25e51c6076d440668c836435ff7d1cb0%20%3D%20L.tileLayer%28%0A%20%20%20%20%20%20%20%20%20%20%20%20%20%20%20%20%22https%3A//earthengine.googleapis.com/v1alpha/projects/earthengine-legacy/maps/f1e16a350caf0b2b766fa87cd42370c2-aa9644aba9d38f8e451e2c9c23b218a3/tiles/%7Bz%7D/%7Bx%7D/%7By%7D%22%2C%0A%20%20%20%20%20%20%20%20%20%20%20%20%20%20%20%20%7B%22attribution%22%3A%20%22Google%20Earth%20Engine%22%2C%20%22detectRetina%22%3A%20false%2C%20%22maxNativeZoom%22%3A%2018%2C%20%22maxZoom%22%3A%2018%2C%20%22minZoom%22%3A%200%2C%20%22noWrap%22%3A%20false%2C%20%22opacity%22%3A%201%2C%20%22subdomains%22%3A%20%22abc%22%2C%20%22tms%22%3A%20false%7D%0A%20%20%20%20%20%20%20%20%20%20%20%20%29.addTo%28map_c3a4a1bd07424917af558d01170138b5%29%3B%0A%20%20%20%20%20%20%20%20%0A%20%20%20%20%0A%20%20%20%20%20%20%20%20%20%20%20%20var%20tile_layer_9fefdddc05164a64bef9c66c5a85ae56%20%3D%20L.tileLayer%28%0A%20%20%20%20%20%20%20%20%20%20%20%20%20%20%20%20%22https%3A//earthengine.googleapis.com/v1alpha/projects/earthengine-legacy/maps/bb89ad2f466fe2b05ce58c5cdee4f9c9-b161857783fb11124ba9029cae4c0fd5/tiles/%7Bz%7D/%7Bx%7D/%7By%7D%22%2C%0A%20%20%20%20%20%20%20%20%20%20%20%20%20%20%20%20%7B%22attribution%22%3A%20%22Google%20Earth%20Engine%22%2C%20%22detectRetina%22%3A%20false%2C%20%22maxNativeZoom%22%3A%2018%2C%20%22maxZoom%22%3A%2018%2C%20%22minZoom%22%3A%200%2C%20%22noWrap%22%3A%20false%2C%20%22opacity%22%3A%201%2C%20%22subdomains%22%3A%20%22abc%22%2C%20%22tms%22%3A%20false%7D%0A%20%20%20%20%20%20%20%20%20%20%20%20%29.addTo%28map_c3a4a1bd07424917af558d01170138b5%29%3B%0A%20%20%20%20%20%20%20%20%0A%20%20%20%20%0A%20%20%20%20%20%20%20%20%20%20%20%20var%20tile_layer_85573d247dac4ca28b9ef6e218899c5e%20%3D%20L.tileLayer%28%0A%20%20%20%20%20%20%20%20%20%20%20%20%20%20%20%20%22https%3A//earthengine.googleapis.com/v1alpha/projects/earthengine-legacy/maps/ebd4a37376eea0ef457aa96a18eba5d1-da5210163414cc8ee501a92cda957f6b/tiles/%7Bz%7D/%7Bx%7D/%7By%7D%22%2C%0A%20%20%20%20%20%20%20%20%20%20%20%20%20%20%20%20%7B%22attribution%22%3A%20%22Google%20Earth%20Engine%22%2C%20%22detectRetina%22%3A%20false%2C%20%22maxNativeZoom%22%3A%2018%2C%20%22maxZoom%22%3A%2018%2C%20%22minZoom%22%3A%200%2C%20%22noWrap%22%3A%20false%2C%20%22opacity%22%3A%201%2C%20%22subdomains%22%3A%20%22abc%22%2C%20%22tms%22%3A%20false%7D%0A%20%20%20%20%20%20%20%20%20%20%20%20%29.addTo%28map_c3a4a1bd07424917af558d01170138b5%29%3B%0A%20%20%20%20%20%20%20%20%0A%20%20%20%20%0A%20%20%20%20%20%20%20%20%20%20%20%20var%20layer_control_4b3eb381d83f4b759f068c965dd80a98%20%3D%20%7B%0A%20%20%20%20%20%20%20%20%20%20%20%20%20%20%20%20base_layers%20%3A%20%7B%0A%20%20%20%20%20%20%20%20%20%20%20%20%20%20%20%20%20%20%20%20%22openstreetmap%22%20%3A%20tile_layer_d567fa9a970a4bf3962fd3d023f44dbd%2C%0A%20%20%20%20%20%20%20%20%20%20%20%20%20%20%20%20%7D%2C%0A%20%20%20%20%20%20%20%20%20%20%20%20%20%20%20%20overlays%20%3A%20%20%7B%0A%20%20%20%20%20%20%20%20%20%20%20%20%20%20%20%20%20%20%20%20%22Slope%22%20%3A%20tile_layer_a8c6194eb1cc4150a54729fb2e2960a4%2C%0A%20%20%20%20%20%20%20%20%20%20%20%20%20%20%20%20%20%20%20%20%22NDVI%22%20%3A%20tile_layer_d2b7f00f852e4374b53cd3470a907e8b%2C%0A%20%20%20%20%20%20%20%20%20%20%20%20%20%20%20%20%20%20%20%20%22EVI%22%20%3A%20tile_layer_644a89b0f6a34dadac37c72ba06a6eb1%2C%0A%20%20%20%20%20%20%20%20%20%20%20%20%20%20%20%20%20%20%20%20%22BurnedArea%22%20%3A%20tile_layer_25e51c6076d440668c836435ff7d1cb0%2C%0A%20%20%20%20%20%20%20%20%20%20%20%20%20%20%20%20%20%20%20%20%22Grids%22%20%3A%20tile_layer_9fefdddc05164a64bef9c66c5a85ae56%2C%0A%20%20%20%20%20%20%20%20%20%20%20%20%20%20%20%20%20%20%20%20%22Centroids%22%20%3A%20tile_layer_85573d247dac4ca28b9ef6e218899c5e%2C%0A%20%20%20%20%20%20%20%20%20%20%20%20%20%20%20%20%7D%2C%0A%20%20%20%20%20%20%20%20%20%20%20%20%7D%3B%0A%20%20%20%20%20%20%20%20%20%20%20%20L.control.layers%28%0A%20%20%20%20%20%20%20%20%20%20%20%20%20%20%20%20layer_control_4b3eb381d83f4b759f068c965dd80a98.base_layers%2C%0A%20%20%20%20%20%20%20%20%20%20%20%20%20%20%20%20layer_control_4b3eb381d83f4b759f068c965dd80a98.overlays%2C%0A%20%20%20%20%20%20%20%20%20%20%20%20%20%20%20%20%7B%22autoZIndex%22%3A%20true%2C%20%22collapsed%22%3A%20true%2C%20%22position%22%3A%20%22topright%22%7D%0A%20%20%20%20%20%20%20%20%20%20%20%20%29.addTo%28map_c3a4a1bd07424917af558d01170138b5%29%3B%0A%20%20%20%20%20%20%20%20%0A%20%20%20%20%0A%20%20%20%20%20%20%20%20%20%20%20%20L.control.fullscreen%28%0A%20%20%20%20%20%20%20%20%20%20%20%20%20%20%20%20%7B%22forceSeparateButton%22%3A%20false%2C%20%22position%22%3A%20%22topleft%22%2C%20%22title%22%3A%20%22Full%20Screen%22%2C%20%22titleCancel%22%3A%20%22Exit%20Full%20Screen%22%7D%0A%20%20%20%20%20%20%20%20%20%20%20%20%29.addTo%28map_c3a4a1bd07424917af558d01170138b5%29%3B%0A%20%20%20%20%20%20%20%20%0A%20%20%20%20%0A%20%20%20%20%20%20%20%20%20%20%20%20%20%20%20%20var%20lat_lng_popup_efd00d6066d44a9f85ac00ad2c18c93d%20%3D%20L.popup%28%29%3B%0A%20%20%20%20%20%20%20%20%20%20%20%20%20%20%20%20function%20latLngPop%28e%29%20%7B%0A%20%20%20%20%20%20%20%20%20%20%20%20%20%20%20%20%20%20%20%20lat_lng_popup_efd00d6066d44a9f85ac00ad2c18c93d%0A%20%20%20%20%20%20%20%20%20%20%20%20%20%20%20%20%20%20%20%20%20%20%20%20.setLatLng%28e.latlng%29%0A%20%20%20%20%20%20%20%20%20%20%20%20%20%20%20%20%20%20%20%20%20%20%20%20.setContent%28%22Latitude%3A%20%22%20%2B%20e.latlng.lat.toFixed%284%29%20%2B%0A%20%20%20%20%20%20%20%20%20%20%20%20%20%20%20%20%20%20%20%20%20%20%20%20%20%20%20%20%20%20%20%20%20%20%20%20%22%3Cbr%3ELongitude%3A%20%22%20%2B%20e.latlng.lng.toFixed%284%29%29%0A%20%20%20%20%20%20%20%20%20%20%20%20%20%20%20%20%20%20%20%20%20%20%20%20.openOn%28map_c3a4a1bd07424917af558d01170138b5%29%3B%0A%20%20%20%20%20%20%20%20%20%20%20%20%20%20%20%20%20%20%20%20%7D%0A%20%20%20%20%20%20%20%20%20%20%20%20%20%20%20%20map_c3a4a1bd07424917af558d01170138b5.on%28%27click%27%2C%20latLngPop%29%3B%0A%20%20%20%20%20%20%20%20%20%20%20%20%0A%3C/script%3E onload=\"this.contentDocument.open();this.contentDocument.write(    decodeURIComponent(this.getAttribute('data-html')));this.contentDocument.close();\" allowfullscreen webkitallowfullscreen mozallowfullscreen></iframe></div></div>"
     },
     "metadata": {},
     "execution_count": 255
    }
   ],
   "source": [
    "# mean NDVI in the Xingu Park\n",
    "Map = folium.Map(location=centroide,zoom_start=11,control_scale =True,width='100%',height='100%')\n",
    "\n",
    "Map.addLayer(slope, {min: 0, max: 60}, 'Slope')\n",
    "Map.addLayer(ndvi\n",
    "            ,name='NDVI'\n",
    "            ,vis_params={'min': 0,\n",
    "                         'max': 1,\n",
    "                         'palette': ['953302', '62D759','499443']}) \n",
    "Map.addLayer(evi\n",
    "            ,name='EVI'\n",
    "            ,vis_params={'min': 0,\n",
    "                         'max': 1,\n",
    "                         'palette': ['953302', '62D759','499443']}) \n",
    "Map.addLayer(burnedArea, {'min': 30.0,\n",
    "                        'max': 341.0,\n",
    "                        'palette': ['4e0400', '951003', 'c61503', 'ff1901'],\n",
    "                        }, 'BurnedArea')\n",
    "                        \n",
    "Map.addLayer(greed,{'color':'#FFFFFF80'}, 'Grids')\n",
    "Map.addLayer(centroids,{'color':'#000000'}, 'Centroids')\n",
    "\n",
    "Map.setControlVisibility(layerControl=True,fullscreenControl=True,latLngPopup=True) # Layer control\n",
    "Map"
   ]
  }
 ]
}