{
 "metadata": {
  "language_info": {
   "codemirror_mode": {
    "name": "ipython",
    "version": 3
   },
   "file_extension": ".py",
   "mimetype": "text/x-python",
   "name": "python",
   "nbconvert_exporter": "python",
   "pygments_lexer": "ipython3",
   "version": "3.8.5"
  },
  "orig_nbformat": 2,
  "kernelspec": {
   "name": "python3",
   "display_name": "Python 3.8.5 64-bit ('gee-env': venv)",
   "metadata": {
    "interpreter": {
     "hash": "771c8809e15e4191543b97e613b9aad8fd3df0f30d9e8f7f36206efe6445782d"
    }
   }
  }
 },
 "nbformat": 4,
 "nbformat_minor": 2,
 "cells": [
  {
   "cell_type": "code",
   "execution_count": null,
   "metadata": {},
   "outputs": [],
   "source": []
  },
  {
   "cell_type": "code",
   "execution_count": 84,
   "metadata": {},
   "outputs": [],
   "source": [
    "# Módulos\n",
    "import ee\n",
    "import folium\n",
    "import geehydro"
   ]
  },
  {
   "cell_type": "code",
   "execution_count": 85,
   "metadata": {},
   "outputs": [],
   "source": [
    "# Inicio de API\n",
    "ee.Initialize()"
   ]
  },
  {
   "source": [
    "#### Función generateGreedForGeometry"
   ],
   "cell_type": "markdown",
   "metadata": {}
  },
  {
   "cell_type": "code",
   "execution_count": 86,
   "metadata": {},
   "outputs": [],
   "source": [
    "#funcion para la generacion de grillas\n",
    "def generateGreedForGeometry(geom,dx,dy):\n",
    "    \"\"\"\n",
    "    Función para generar grillas partiendo de una zona geográfica.\n",
    "    \"\"\"\n",
    "\n",
    "    bounds = ee.Geometry(geom).bounds()\n",
    "    coords = ee.List(bounds.coordinates().get(0))\n",
    "    ll = ee.List(coords.get(0))\n",
    "    ur = ee.List(coords.get(2))\n",
    "    xmin = ll.get(0)\n",
    "    xmax = ur.get(0)\n",
    "    ymin = ll.get(1)\n",
    "    ymax = ur.get(1)\n",
    "\n",
    "    xx = ee.List.sequence(xmin, xmax, dx)\n",
    "    yy = ee.List.sequence(ymin, ymax, dy)\n",
    "\n",
    "    #************************************\n",
    "    def contYYa(y,x,dx,dy):\n",
    "\n",
    "        x1 = ee.Number(x)\n",
    "        x2 = ee.Number(x).add(ee.Number(dx))\n",
    "        y1 = ee.Number(y)\n",
    "        y2 = ee.Number(y).add(ee.Number(dy))\n",
    "\n",
    "        coords = ee.List([x1, y1, x2, y2])\n",
    "        rect = ee.Algorithms.GeometryConstructors.Rectangle(coords)\n",
    "\n",
    "        return ee.Feature(rect)\n",
    "\n",
    "    def contYY(x):\n",
    "        return yy.map(lambda yi: contYYa(y=yi,x=x,dx=dx,dy=dy) )\n",
    "    #************************************\n",
    "\n",
    "    cells = xx.map(contYY).flatten() \n",
    "\n",
    "    return ee.FeatureCollection(cells).filterBounds(geom)#.map(lambda c: ee.Feature(c).intersection(geom) )"
   ]
  },
  {
   "source": [
    "#### Ejemplo"
   ],
   "cell_type": "markdown",
   "metadata": {}
  },
  {
   "cell_type": "code",
   "execution_count": 87,
   "metadata": {},
   "outputs": [],
   "source": [
    "#----------------------------------------------\n",
    "# Ejemplo\n",
    "#----------------------------------------------\n",
    "\n",
    "# region\n",
    "polygonCollection = 'WCMC/WDPA/current/polygons'\n",
    "polygonName = 'Canaima National Park'#'Guatopo'\n",
    "\n",
    "# date\n",
    "date_ini = '2019-12-01'\n",
    "date_end = '2019-12-31'\n",
    "\n",
    "\n",
    "# poligono\n",
    "polygon = ee.FeatureCollection(polygonCollection) \\\n",
    "            .filter(ee.Filter.eq('NAME', polygonName))\n",
    "\n",
    "\n",
    "# geometria\n",
    "state = polygon.geometry()\n",
    "dx = 0.09\n",
    "dy = 0.09\n",
    "\n",
    "# creando grilla\n",
    "greed = generateGreedForGeometry(state,dx,dy)\n",
    "centroide = state.centroid().coordinates().getInfo()[::-1]"
   ]
  },
  {
   "source": [
    "#### Creando centroides"
   ],
   "cell_type": "markdown",
   "metadata": {}
  },
  {
   "cell_type": "code",
   "execution_count": 88,
   "metadata": {
    "tags": []
   },
   "outputs": [
    {
     "output_type": "stream",
     "name": "stdout",
     "text": [
      "área del parque Km2:  289542.4562322496\n",
      "área de cuadricula Km2:  997.0842463804966\n",
      "número de centroides:  346\n"
     ]
    }
   ],
   "source": [
    "def getCentroid(feature):\n",
    "    keepProperties = ['name', 'huc6', 'tnmid', 'areasqkm']\n",
    "    centroid = feature.geometry().centroid()\n",
    "    return ee.Feature(centroid).copyProperties(feature, keepProperties)\n",
    "\n",
    "\n",
    "centroids = greed.map(getCentroid)\n",
    "\n",
    "print('área del parque Km2: ', 0.1*polygon.first().geometry().area().divide(100*100).getInfo() ) \n",
    "print('área de cuadricula Km2: ', 0.1*greed.first().geometry().area().divide(100*100).getInfo() )\n",
    "print('número de centroides: ', centroids.size().getInfo())"
   ]
  },
  {
   "source": [
    "#### Información Indices de vegetacion"
   ],
   "cell_type": "markdown",
   "metadata": {}
  },
  {
   "cell_type": "code",
   "execution_count": 89,
   "metadata": {},
   "outputs": [],
   "source": [
    "def getQABits(image, start, end, newName):\n",
    "    \"\"\"\n",
    "    Funcion para establecer la calidad de las bandas\n",
    "    \"\"\"\n",
    "\n",
    "    import math\n",
    "\n",
    "    pattern = 0\n",
    "    for i in range(start,end+1):\n",
    "      pattern += math.pow(2, i)\n",
    "    #Return a single band image of the extracted QA bits, giving the band\n",
    "    #a new name.\n",
    "    return image.select([0], [newName])\\\n",
    "                  .bitwiseAnd(pattern)\\\n",
    "                  .rightShift(start)"
   ]
  },
  {
   "source": [
    "#### MOD13Q1"
   ],
   "cell_type": "markdown",
   "metadata": {}
  },
  {
   "cell_type": "code",
   "execution_count": 90,
   "metadata": {},
   "outputs": [],
   "source": [
    "# MODIS MOD13Q1\n",
    "modis = ee.ImageCollection('MODIS/006/MOD13Q1')\\\n",
    "             .filterDate(ee.DateRange(date_ini,date_end))\\\n",
    "             .map(lambda x: x.clip(polygon))\n",
    "\n",
    "\n",
    "# Filtros de calidad -----------------------------------------\n",
    "# def modis_bit_0(image):\n",
    "\n",
    "#   qscore = getQABits(image.select('SummaryQA'), 0, 1, 'quality')\\\n",
    "#               .expression(\"b(0) == 2 || b(0) == 3\" )\n",
    "\n",
    "#   return image.updateMask(qscore.Not())\n",
    "\n",
    "# #Select the QA band.\n",
    "# def modis_bit_1(image):\n",
    "\n",
    "#   qscore = getQABits(image.select('SummaryQA'), 2, 5, 'usefulness')\\\n",
    "#               .expression(\"b(0) == 2 || b(0) == 4 || b(0) == 8 || b(0) == 9 || b(0) == 10 || b(0) == 12 || b(0) == 13 || b(0) == 14 || b(0) == 15\" )\n",
    "\n",
    "#   return image.updateMask(qscore.Not())\n",
    "\n",
    "# #Select the QA band.\n",
    "# def modis_bit_2(image):\n",
    "\n",
    "#   qscore = getQABits(image.select('SummaryQA'), 13, 14, 'Land/water')\\\n",
    "#               .expression(\"b(0) == 0 || b(0) == 1 || b(0) == 2 || b(0) == 3 || b(0) == 4 || b(0) == 5 || b(0) == 6 || b(0) == 7\" )\n",
    "\n",
    "#   return image.updateMask(qscore.Not())\n",
    "\n",
    "# #Select the QA band.\n",
    "# def modis_bit_3(image):\n",
    "\n",
    "#   qscore = getQABits(image.select('SummaryQA'), 14, 14, 'snow/ice')\\\n",
    "#               .expression(\"b(0) == 1\" )\n",
    "\n",
    "#   return image.updateMask(qscore.Not())\n",
    "\n",
    "# #Select the QA band.\n",
    "# def modis_bit_4(image):\n",
    "\n",
    "#   qscore = getQABits(image.select('DetailedQA'), 15, 15, 'shadow')\\\n",
    "#               .expression(\"b(0) == 1\" )\n",
    "\n",
    "#   return image.updateMask(qscore.Not())\n",
    "\n",
    "# Filtros de calidad -----------------------------------------\n",
    "\n",
    "\n",
    "def scale_factor(image):\n",
    "    # scale factor for the MODIS MOD13Q1 product\n",
    "    return image.multiply(0.0001).copyProperties(image,['system:time_start'])\n",
    "\n"
   ]
  },
  {
   "cell_type": "code",
   "execution_count": 91,
   "metadata": {},
   "outputs": [],
   "source": [
    "# select EVI and NDVI\n",
    "modis_qa = modis#.map(modis_bit_0)\n",
    "                # .map(modis_bit_1)\\\n",
    "                # .map(modis_bit_2)\\\n",
    "                # .map(modis_bit_3)\\\n",
    "                # .map(modis_bit_4)\n",
    "                \n",
    "evi = modis_qa.select('EVI').map(scale_factor).mean()\n",
    "ndvi = modis_qa.select('NDVI').map(scale_factor).mean()"
   ]
  },
  {
   "source": [
    "#### SRTM Digital Elevation Data Version 4"
   ],
   "cell_type": "markdown",
   "metadata": {}
  },
  {
   "cell_type": "code",
   "execution_count": 92,
   "metadata": {},
   "outputs": [],
   "source": [
    "# Elevacion\n",
    "elevation = ee.Image('CGIAR/SRTM90_V4').select('elevation')\n",
    "slope = ee.Terrain.slope(elevation).clip(polygon)\n"
   ]
  },
  {
   "source": [
    "MCD64A1.006 MODIS Burned Area Monthly Global 500m"
   ],
   "cell_type": "markdown",
   "metadata": {}
  },
  {
   "cell_type": "code",
   "execution_count": 93,
   "metadata": {},
   "outputs": [],
   "source": [
    "fire = ee.ImageCollection('MODIS/006/MCD64A1')\\\n",
    "            .filter(ee.Filter.date(date_ini,date_end))\\\n",
    "            .map(lambda x:x.clip(polygon))\n",
    "\n",
    "\n",
    "\n",
    "# Filtros de calidad -----------------------------------------\n",
    "def bit_0(image):\n",
    "\n",
    "  qscore = getQABits(image.select('QA'), 0, 0, 'Land_water')\\\n",
    "              .expression(\"b(0) == 0\")\n",
    "\n",
    "  return image.updateMask(qscore.Not())\n",
    "\n",
    "#Select the QA band.\n",
    "def bit_1(image):\n",
    "\n",
    "  qscore = getQABits(image.select('QA'), 1, 1, 'Valid_data_flag')\\\n",
    "              .expression(\"b(0) == 0\")\n",
    "\n",
    "  return image.updateMask(qscore.Not())\n",
    "\n",
    "# Filtros de calidad -----------------------------------------\n",
    "\n",
    "burnedArea = fire.map(bit_0)\\\n",
    "                 .map(bit_1)\\\n",
    "                 .select('BurnDate')"
   ]
  },
  {
   "source": [
    "#### Mapa"
   ],
   "cell_type": "markdown",
   "metadata": {}
  },
  {
   "cell_type": "code",
   "execution_count": 94,
   "metadata": {},
   "outputs": [
    {
     "output_type": "execute_result",
     "data": {
      "text/plain": [
       "<folium.folium.Map at 0x7fe82c50fa90>"
      ],
      "text/html": "<div style=\"width:100%;\"><div style=\"position:relative;width:100%;height:0;padding-bottom:60%;\"><span style=\"color:#565656\">Make this Notebook Trusted to load map: File -> Trust Notebook</span><iframe src=\"about:blank\" style=\"position:absolute;width:100%;height:100%;left:0;top:0;border:none !important;\" data-html=%3C%21DOCTYPE%20html%3E%0A%3Chead%3E%20%20%20%20%0A%20%20%20%20%3Cmeta%20http-equiv%3D%22content-type%22%20content%3D%22text/html%3B%20charset%3DUTF-8%22%20/%3E%0A%20%20%20%20%0A%20%20%20%20%20%20%20%20%3Cscript%3E%0A%20%20%20%20%20%20%20%20%20%20%20%20L_NO_TOUCH%20%3D%20false%3B%0A%20%20%20%20%20%20%20%20%20%20%20%20L_DISABLE_3D%20%3D%20false%3B%0A%20%20%20%20%20%20%20%20%3C/script%3E%0A%20%20%20%20%0A%20%20%20%20%3Cstyle%3Ehtml%2C%20body%20%7Bwidth%3A%20100%25%3Bheight%3A%20100%25%3Bmargin%3A%200%3Bpadding%3A%200%3B%7D%3C/style%3E%0A%20%20%20%20%3Cstyle%3E%23map%20%7Bposition%3Aabsolute%3Btop%3A0%3Bbottom%3A0%3Bright%3A0%3Bleft%3A0%3B%7D%3C/style%3E%0A%20%20%20%20%3Cscript%20src%3D%22https%3A//cdn.jsdelivr.net/npm/leaflet%401.6.0/dist/leaflet.js%22%3E%3C/script%3E%0A%20%20%20%20%3Cscript%20src%3D%22https%3A//code.jquery.com/jquery-1.12.4.min.js%22%3E%3C/script%3E%0A%20%20%20%20%3Cscript%20src%3D%22https%3A//maxcdn.bootstrapcdn.com/bootstrap/3.2.0/js/bootstrap.min.js%22%3E%3C/script%3E%0A%20%20%20%20%3Cscript%20src%3D%22https%3A//cdnjs.cloudflare.com/ajax/libs/Leaflet.awesome-markers/2.0.2/leaflet.awesome-markers.js%22%3E%3C/script%3E%0A%20%20%20%20%3Clink%20rel%3D%22stylesheet%22%20href%3D%22https%3A//cdn.jsdelivr.net/npm/leaflet%401.6.0/dist/leaflet.css%22/%3E%0A%20%20%20%20%3Clink%20rel%3D%22stylesheet%22%20href%3D%22https%3A//maxcdn.bootstrapcdn.com/bootstrap/3.2.0/css/bootstrap.min.css%22/%3E%0A%20%20%20%20%3Clink%20rel%3D%22stylesheet%22%20href%3D%22https%3A//maxcdn.bootstrapcdn.com/bootstrap/3.2.0/css/bootstrap-theme.min.css%22/%3E%0A%20%20%20%20%3Clink%20rel%3D%22stylesheet%22%20href%3D%22https%3A//maxcdn.bootstrapcdn.com/font-awesome/4.6.3/css/font-awesome.min.css%22/%3E%0A%20%20%20%20%3Clink%20rel%3D%22stylesheet%22%20href%3D%22https%3A//cdnjs.cloudflare.com/ajax/libs/Leaflet.awesome-markers/2.0.2/leaflet.awesome-markers.css%22/%3E%0A%20%20%20%20%3Clink%20rel%3D%22stylesheet%22%20href%3D%22https%3A//cdn.jsdelivr.net/gh/python-visualization/folium/folium/templates/leaflet.awesome.rotate.min.css%22/%3E%0A%20%20%20%20%0A%20%20%20%20%20%20%20%20%20%20%20%20%3Cmeta%20name%3D%22viewport%22%20content%3D%22width%3Ddevice-width%2C%0A%20%20%20%20%20%20%20%20%20%20%20%20%20%20%20%20initial-scale%3D1.0%2C%20maximum-scale%3D1.0%2C%20user-scalable%3Dno%22%20/%3E%0A%20%20%20%20%20%20%20%20%20%20%20%20%3Cstyle%3E%0A%20%20%20%20%20%20%20%20%20%20%20%20%20%20%20%20%23map_2f87476f9fa2456e8eaa56db6ea1df91%20%7B%0A%20%20%20%20%20%20%20%20%20%20%20%20%20%20%20%20%20%20%20%20position%3A%20relative%3B%0A%20%20%20%20%20%20%20%20%20%20%20%20%20%20%20%20%20%20%20%20width%3A%20100.0%25%3B%0A%20%20%20%20%20%20%20%20%20%20%20%20%20%20%20%20%20%20%20%20height%3A%20100.0%25%3B%0A%20%20%20%20%20%20%20%20%20%20%20%20%20%20%20%20%20%20%20%20left%3A%200.0%25%3B%0A%20%20%20%20%20%20%20%20%20%20%20%20%20%20%20%20%20%20%20%20top%3A%200.0%25%3B%0A%20%20%20%20%20%20%20%20%20%20%20%20%20%20%20%20%7D%0A%20%20%20%20%20%20%20%20%20%20%20%20%3C/style%3E%0A%20%20%20%20%20%20%20%20%0A%20%20%20%20%3Cscript%20src%3D%22https%3A//cdnjs.cloudflare.com/ajax/libs/leaflet.fullscreen/1.4.2/Control.FullScreen.min.js%22%3E%3C/script%3E%0A%20%20%20%20%3Clink%20rel%3D%22stylesheet%22%20href%3D%22https%3A//cdnjs.cloudflare.com/ajax/libs/leaflet.fullscreen/1.4.2/Control.FullScreen.min.css%22/%3E%0A%3C/head%3E%0A%3Cbody%3E%20%20%20%20%0A%20%20%20%20%0A%20%20%20%20%20%20%20%20%20%20%20%20%3Cdiv%20class%3D%22folium-map%22%20id%3D%22map_2f87476f9fa2456e8eaa56db6ea1df91%22%20%3E%3C/div%3E%0A%20%20%20%20%20%20%20%20%0A%3C/body%3E%0A%3Cscript%3E%20%20%20%20%0A%20%20%20%20%0A%20%20%20%20%20%20%20%20%20%20%20%20var%20map_2f87476f9fa2456e8eaa56db6ea1df91%20%3D%20L.map%28%0A%20%20%20%20%20%20%20%20%20%20%20%20%20%20%20%20%22map_2f87476f9fa2456e8eaa56db6ea1df91%22%2C%0A%20%20%20%20%20%20%20%20%20%20%20%20%20%20%20%20%7B%0A%20%20%20%20%20%20%20%20%20%20%20%20%20%20%20%20%20%20%20%20center%3A%20%5B5.542309569845439%2C%20-61.93722082711255%5D%2C%0A%20%20%20%20%20%20%20%20%20%20%20%20%20%20%20%20%20%20%20%20crs%3A%20L.CRS.EPSG3857%2C%0A%20%20%20%20%20%20%20%20%20%20%20%20%20%20%20%20%20%20%20%20zoom%3A%2011%2C%0A%20%20%20%20%20%20%20%20%20%20%20%20%20%20%20%20%20%20%20%20zoomControl%3A%20true%2C%0A%20%20%20%20%20%20%20%20%20%20%20%20%20%20%20%20%20%20%20%20preferCanvas%3A%20false%2C%0A%20%20%20%20%20%20%20%20%20%20%20%20%20%20%20%20%7D%0A%20%20%20%20%20%20%20%20%20%20%20%20%29%3B%0A%20%20%20%20%20%20%20%20%20%20%20%20L.control.scale%28%29.addTo%28map_2f87476f9fa2456e8eaa56db6ea1df91%29%3B%0A%0A%20%20%20%20%20%20%20%20%20%20%20%20%0A%0A%20%20%20%20%20%20%20%20%0A%20%20%20%20%0A%20%20%20%20%20%20%20%20%20%20%20%20var%20tile_layer_026230f5ebe04822a83ddc5f595a3b95%20%3D%20L.tileLayer%28%0A%20%20%20%20%20%20%20%20%20%20%20%20%20%20%20%20%22https%3A//%7Bs%7D.tile.openstreetmap.org/%7Bz%7D/%7Bx%7D/%7By%7D.png%22%2C%0A%20%20%20%20%20%20%20%20%20%20%20%20%20%20%20%20%7B%22attribution%22%3A%20%22Data%20by%20%5Cu0026copy%3B%20%5Cu003ca%20href%3D%5C%22http%3A//openstreetmap.org%5C%22%5Cu003eOpenStreetMap%5Cu003c/a%5Cu003e%2C%20under%20%5Cu003ca%20href%3D%5C%22http%3A//www.openstreetmap.org/copyright%5C%22%5Cu003eODbL%5Cu003c/a%5Cu003e.%22%2C%20%22detectRetina%22%3A%20false%2C%20%22maxNativeZoom%22%3A%2018%2C%20%22maxZoom%22%3A%2018%2C%20%22minZoom%22%3A%200%2C%20%22noWrap%22%3A%20false%2C%20%22opacity%22%3A%201%2C%20%22subdomains%22%3A%20%22abc%22%2C%20%22tms%22%3A%20false%7D%0A%20%20%20%20%20%20%20%20%20%20%20%20%29.addTo%28map_2f87476f9fa2456e8eaa56db6ea1df91%29%3B%0A%20%20%20%20%20%20%20%20%0A%20%20%20%20%0A%20%20%20%20%20%20%20%20%20%20%20%20var%20tile_layer_5419359adb5c4792a31f92c9e474dcce%20%3D%20L.tileLayer%28%0A%20%20%20%20%20%20%20%20%20%20%20%20%20%20%20%20%22https%3A//earthengine.googleapis.com/v1alpha/projects/earthengine-legacy/maps/5aae046576b84577e42d21946e37033b-55a3e0f1fb2a0dbec149bcd6f9d39e93/tiles/%7Bz%7D/%7Bx%7D/%7By%7D%22%2C%0A%20%20%20%20%20%20%20%20%20%20%20%20%20%20%20%20%7B%22attribution%22%3A%20%22Google%20Earth%20Engine%22%2C%20%22detectRetina%22%3A%20false%2C%20%22maxNativeZoom%22%3A%2018%2C%20%22maxZoom%22%3A%2018%2C%20%22minZoom%22%3A%200%2C%20%22noWrap%22%3A%20false%2C%20%22opacity%22%3A%201%2C%20%22subdomains%22%3A%20%22abc%22%2C%20%22tms%22%3A%20false%7D%0A%20%20%20%20%20%20%20%20%20%20%20%20%29.addTo%28map_2f87476f9fa2456e8eaa56db6ea1df91%29%3B%0A%20%20%20%20%20%20%20%20%0A%20%20%20%20%0A%20%20%20%20%20%20%20%20%20%20%20%20var%20tile_layer_f4930fe47dbd4f27b18a403cdbb4a11d%20%3D%20L.tileLayer%28%0A%20%20%20%20%20%20%20%20%20%20%20%20%20%20%20%20%22https%3A//earthengine.googleapis.com/v1alpha/projects/earthengine-legacy/maps/486daadf4da62945a6d024386371b097-02a3fa760815b6ae4593af956076af4d/tiles/%7Bz%7D/%7Bx%7D/%7By%7D%22%2C%0A%20%20%20%20%20%20%20%20%20%20%20%20%20%20%20%20%7B%22attribution%22%3A%20%22Google%20Earth%20Engine%22%2C%20%22detectRetina%22%3A%20false%2C%20%22maxNativeZoom%22%3A%2018%2C%20%22maxZoom%22%3A%2018%2C%20%22minZoom%22%3A%200%2C%20%22noWrap%22%3A%20false%2C%20%22opacity%22%3A%201%2C%20%22subdomains%22%3A%20%22abc%22%2C%20%22tms%22%3A%20false%7D%0A%20%20%20%20%20%20%20%20%20%20%20%20%29.addTo%28map_2f87476f9fa2456e8eaa56db6ea1df91%29%3B%0A%20%20%20%20%20%20%20%20%0A%20%20%20%20%0A%20%20%20%20%20%20%20%20%20%20%20%20var%20tile_layer_2e04085c1bd747bc9072f3ef0888531e%20%3D%20L.tileLayer%28%0A%20%20%20%20%20%20%20%20%20%20%20%20%20%20%20%20%22https%3A//earthengine.googleapis.com/v1alpha/projects/earthengine-legacy/maps/4b0a7f4e33f06347256e0d3e5278854b-92fe5d7c6270e5c662af02e30d193612/tiles/%7Bz%7D/%7Bx%7D/%7By%7D%22%2C%0A%20%20%20%20%20%20%20%20%20%20%20%20%20%20%20%20%7B%22attribution%22%3A%20%22Google%20Earth%20Engine%22%2C%20%22detectRetina%22%3A%20false%2C%20%22maxNativeZoom%22%3A%2018%2C%20%22maxZoom%22%3A%2018%2C%20%22minZoom%22%3A%200%2C%20%22noWrap%22%3A%20false%2C%20%22opacity%22%3A%201%2C%20%22subdomains%22%3A%20%22abc%22%2C%20%22tms%22%3A%20false%7D%0A%20%20%20%20%20%20%20%20%20%20%20%20%29.addTo%28map_2f87476f9fa2456e8eaa56db6ea1df91%29%3B%0A%20%20%20%20%20%20%20%20%0A%20%20%20%20%0A%20%20%20%20%20%20%20%20%20%20%20%20var%20tile_layer_e2cf54c727bb47e9be2b84c8a5bf4cab%20%3D%20L.tileLayer%28%0A%20%20%20%20%20%20%20%20%20%20%20%20%20%20%20%20%22https%3A//earthengine.googleapis.com/v1alpha/projects/earthengine-legacy/maps/f1e16a350caf0b2b766fa87cd42370c2-234edea4ee331efc8480c26fa8a52f57/tiles/%7Bz%7D/%7Bx%7D/%7By%7D%22%2C%0A%20%20%20%20%20%20%20%20%20%20%20%20%20%20%20%20%7B%22attribution%22%3A%20%22Google%20Earth%20Engine%22%2C%20%22detectRetina%22%3A%20false%2C%20%22maxNativeZoom%22%3A%2018%2C%20%22maxZoom%22%3A%2018%2C%20%22minZoom%22%3A%200%2C%20%22noWrap%22%3A%20false%2C%20%22opacity%22%3A%201%2C%20%22subdomains%22%3A%20%22abc%22%2C%20%22tms%22%3A%20false%7D%0A%20%20%20%20%20%20%20%20%20%20%20%20%29.addTo%28map_2f87476f9fa2456e8eaa56db6ea1df91%29%3B%0A%20%20%20%20%20%20%20%20%0A%20%20%20%20%0A%20%20%20%20%20%20%20%20%20%20%20%20var%20tile_layer_29fb011283a64b4d9836b5e94d8caeac%20%3D%20L.tileLayer%28%0A%20%20%20%20%20%20%20%20%20%20%20%20%20%20%20%20%22https%3A//earthengine.googleapis.com/v1alpha/projects/earthengine-legacy/maps/bb89ad2f466fe2b05ce58c5cdee4f9c9-7c313abb9b121420d4765805d7229c2d/tiles/%7Bz%7D/%7Bx%7D/%7By%7D%22%2C%0A%20%20%20%20%20%20%20%20%20%20%20%20%20%20%20%20%7B%22attribution%22%3A%20%22Google%20Earth%20Engine%22%2C%20%22detectRetina%22%3A%20false%2C%20%22maxNativeZoom%22%3A%2018%2C%20%22maxZoom%22%3A%2018%2C%20%22minZoom%22%3A%200%2C%20%22noWrap%22%3A%20false%2C%20%22opacity%22%3A%201%2C%20%22subdomains%22%3A%20%22abc%22%2C%20%22tms%22%3A%20false%7D%0A%20%20%20%20%20%20%20%20%20%20%20%20%29.addTo%28map_2f87476f9fa2456e8eaa56db6ea1df91%29%3B%0A%20%20%20%20%20%20%20%20%0A%20%20%20%20%0A%20%20%20%20%20%20%20%20%20%20%20%20var%20tile_layer_74ba852284c24de3a7ce2bab3e8a02f8%20%3D%20L.tileLayer%28%0A%20%20%20%20%20%20%20%20%20%20%20%20%20%20%20%20%22https%3A//earthengine.googleapis.com/v1alpha/projects/earthengine-legacy/maps/ebd4a37376eea0ef457aa96a18eba5d1-f32ab05ee693bd98c64f9fba58620495/tiles/%7Bz%7D/%7Bx%7D/%7By%7D%22%2C%0A%20%20%20%20%20%20%20%20%20%20%20%20%20%20%20%20%7B%22attribution%22%3A%20%22Google%20Earth%20Engine%22%2C%20%22detectRetina%22%3A%20false%2C%20%22maxNativeZoom%22%3A%2018%2C%20%22maxZoom%22%3A%2018%2C%20%22minZoom%22%3A%200%2C%20%22noWrap%22%3A%20false%2C%20%22opacity%22%3A%201%2C%20%22subdomains%22%3A%20%22abc%22%2C%20%22tms%22%3A%20false%7D%0A%20%20%20%20%20%20%20%20%20%20%20%20%29.addTo%28map_2f87476f9fa2456e8eaa56db6ea1df91%29%3B%0A%20%20%20%20%20%20%20%20%0A%20%20%20%20%0A%20%20%20%20%20%20%20%20%20%20%20%20var%20layer_control_db6a4925e7f2492db39ece616191c683%20%3D%20%7B%0A%20%20%20%20%20%20%20%20%20%20%20%20%20%20%20%20base_layers%20%3A%20%7B%0A%20%20%20%20%20%20%20%20%20%20%20%20%20%20%20%20%20%20%20%20%22openstreetmap%22%20%3A%20tile_layer_026230f5ebe04822a83ddc5f595a3b95%2C%0A%20%20%20%20%20%20%20%20%20%20%20%20%20%20%20%20%7D%2C%0A%20%20%20%20%20%20%20%20%20%20%20%20%20%20%20%20overlays%20%3A%20%20%7B%0A%20%20%20%20%20%20%20%20%20%20%20%20%20%20%20%20%20%20%20%20%22Slope%22%20%3A%20tile_layer_5419359adb5c4792a31f92c9e474dcce%2C%0A%20%20%20%20%20%20%20%20%20%20%20%20%20%20%20%20%20%20%20%20%22NDVI%22%20%3A%20tile_layer_f4930fe47dbd4f27b18a403cdbb4a11d%2C%0A%20%20%20%20%20%20%20%20%20%20%20%20%20%20%20%20%20%20%20%20%22EVI%22%20%3A%20tile_layer_2e04085c1bd747bc9072f3ef0888531e%2C%0A%20%20%20%20%20%20%20%20%20%20%20%20%20%20%20%20%20%20%20%20%22BurnedArea%22%20%3A%20tile_layer_e2cf54c727bb47e9be2b84c8a5bf4cab%2C%0A%20%20%20%20%20%20%20%20%20%20%20%20%20%20%20%20%20%20%20%20%22Grids%22%20%3A%20tile_layer_29fb011283a64b4d9836b5e94d8caeac%2C%0A%20%20%20%20%20%20%20%20%20%20%20%20%20%20%20%20%20%20%20%20%22Centroids%22%20%3A%20tile_layer_74ba852284c24de3a7ce2bab3e8a02f8%2C%0A%20%20%20%20%20%20%20%20%20%20%20%20%20%20%20%20%7D%2C%0A%20%20%20%20%20%20%20%20%20%20%20%20%7D%3B%0A%20%20%20%20%20%20%20%20%20%20%20%20L.control.layers%28%0A%20%20%20%20%20%20%20%20%20%20%20%20%20%20%20%20layer_control_db6a4925e7f2492db39ece616191c683.base_layers%2C%0A%20%20%20%20%20%20%20%20%20%20%20%20%20%20%20%20layer_control_db6a4925e7f2492db39ece616191c683.overlays%2C%0A%20%20%20%20%20%20%20%20%20%20%20%20%20%20%20%20%7B%22autoZIndex%22%3A%20true%2C%20%22collapsed%22%3A%20true%2C%20%22position%22%3A%20%22topright%22%7D%0A%20%20%20%20%20%20%20%20%20%20%20%20%29.addTo%28map_2f87476f9fa2456e8eaa56db6ea1df91%29%3B%0A%20%20%20%20%20%20%20%20%0A%20%20%20%20%0A%20%20%20%20%20%20%20%20%20%20%20%20L.control.fullscreen%28%0A%20%20%20%20%20%20%20%20%20%20%20%20%20%20%20%20%7B%22forceSeparateButton%22%3A%20false%2C%20%22position%22%3A%20%22topleft%22%2C%20%22title%22%3A%20%22Full%20Screen%22%2C%20%22titleCancel%22%3A%20%22Exit%20Full%20Screen%22%7D%0A%20%20%20%20%20%20%20%20%20%20%20%20%29.addTo%28map_2f87476f9fa2456e8eaa56db6ea1df91%29%3B%0A%20%20%20%20%20%20%20%20%0A%20%20%20%20%0A%20%20%20%20%20%20%20%20%20%20%20%20%20%20%20%20var%20lat_lng_popup_ba589adbe4b84747ae1fd340dae9c0f4%20%3D%20L.popup%28%29%3B%0A%20%20%20%20%20%20%20%20%20%20%20%20%20%20%20%20function%20latLngPop%28e%29%20%7B%0A%20%20%20%20%20%20%20%20%20%20%20%20%20%20%20%20%20%20%20%20lat_lng_popup_ba589adbe4b84747ae1fd340dae9c0f4%0A%20%20%20%20%20%20%20%20%20%20%20%20%20%20%20%20%20%20%20%20%20%20%20%20.setLatLng%28e.latlng%29%0A%20%20%20%20%20%20%20%20%20%20%20%20%20%20%20%20%20%20%20%20%20%20%20%20.setContent%28%22Latitude%3A%20%22%20%2B%20e.latlng.lat.toFixed%284%29%20%2B%0A%20%20%20%20%20%20%20%20%20%20%20%20%20%20%20%20%20%20%20%20%20%20%20%20%20%20%20%20%20%20%20%20%20%20%20%20%22%3Cbr%3ELongitude%3A%20%22%20%2B%20e.latlng.lng.toFixed%284%29%29%0A%20%20%20%20%20%20%20%20%20%20%20%20%20%20%20%20%20%20%20%20%20%20%20%20.openOn%28map_2f87476f9fa2456e8eaa56db6ea1df91%29%3B%0A%20%20%20%20%20%20%20%20%20%20%20%20%20%20%20%20%20%20%20%20%7D%0A%20%20%20%20%20%20%20%20%20%20%20%20%20%20%20%20map_2f87476f9fa2456e8eaa56db6ea1df91.on%28%27click%27%2C%20latLngPop%29%3B%0A%20%20%20%20%20%20%20%20%20%20%20%20%0A%3C/script%3E onload=\"this.contentDocument.open();this.contentDocument.write(    decodeURIComponent(this.getAttribute('data-html')));this.contentDocument.close();\" allowfullscreen webkitallowfullscreen mozallowfullscreen></iframe></div></div>"
     },
     "metadata": {},
     "execution_count": 94
    }
   ],
   "source": [
    "# mean NDVI in the Xingu Park\n",
    "Map = folium.Map(location=centroide,zoom_start=11,control_scale =True,width='100%',height='100%')\n",
    "\n",
    "Map.addLayer(slope, {min: 0, max: 60}, 'Slope')\n",
    "Map.addLayer(ndvi\n",
    "            ,name='NDVI'\n",
    "            ,vis_params={'min': 0,\n",
    "                         'max': 1,\n",
    "                         'palette': ['953302', '62D759','499443']}) \n",
    "Map.addLayer(evi\n",
    "            ,name='EVI'\n",
    "            ,vis_params={'min': 0,\n",
    "                         'max': 1,\n",
    "                         'palette': ['953302', '62D759','499443']}) \n",
    "Map.addLayer(burnedArea, {'min': 30.0,\n",
    "                        'max': 341.0,\n",
    "                        'palette': ['4e0400', '951003', 'c61503', 'ff1901'],\n",
    "                        }, 'BurnedArea')\n",
    "                        \n",
    "Map.addLayer(greed,{'color':'#FFFFFF80'}, 'Grids')\n",
    "Map.addLayer(centroids,{'color':'#000000'}, 'Centroids')\n",
    "\n",
    "Map.setControlVisibility(layerControl=True,fullscreenControl=True,latLngPopup=True) # Layer control\n",
    "Map"
   ]
  },
  {
   "source": [
    "#### Series temporales"
   ],
   "cell_type": "markdown",
   "metadata": {}
  },
  {
   "source": [
    "##### Índices de vegetación"
   ],
   "cell_type": "markdown",
   "metadata": {}
  },
  {
   "cell_type": "code",
   "execution_count": 95,
   "metadata": {},
   "outputs": [],
   "source": [
    "initDate = '2015-01-01' # Fecha de inicio\n",
    "endDate = '2020-05-01' # Fecha final"
   ]
  },
  {
   "cell_type": "code",
   "execution_count": 96,
   "metadata": {},
   "outputs": [],
   "source": [
    "#Filtros de calidad -----------------------------------------\n",
    "def modis_bit_0(image):\n",
    "\n",
    "  qscore = getQABits(image.select('SummaryQA'), 0, 1, 'quality')\\\n",
    "              .expression(\"b(0) == 1 || b(0) == 2 || b(0) == 3\" )\n",
    "\n",
    "  return image.updateMask(qscore.Not())\n",
    "\n",
    "#Select the QA band.\n",
    "def modis_bit_1(image):\n",
    "\n",
    "  qscore = getQABits(image.select('DetailedQA'), 2, 5, 'usefulness')\\\n",
    "              .expression(\"b(0) == 13 || b(0) == 14 || b(0) == 15\" )\n",
    "\n",
    "  return image.updateMask(qscore.Not())\n",
    "\n",
    "#Select the QA band.\n",
    "def modis_bit_2(image):\n",
    "\n",
    "  qscore = getQABits(image.select('DetailedQA'), 11, 13, 'Land/water')\\\n",
    "              .expression(\"b(0) == 0 || b(0) == 1 || b(0) == 2 || b(0) == 3 || b(0) == 4 || b(0) == 5 || b(0) == 6 || b(0) == 7\" )\n",
    "\n",
    "  return image.updateMask(qscore.Not())\n",
    "\n",
    "#Select the QA band.\n",
    "def modis_bit_3(image):\n",
    "\n",
    "  qscore = getQABits(image.select('DetailedQA'), 14, 14, 'snow/ice')\\\n",
    "              .expression(\"b(0) == 1\" )\n",
    "\n",
    "  return image.updateMask(qscore.Not())\n",
    "\n",
    "#Select the QA band.\n",
    "def modis_bit_4(image):\n",
    "\n",
    "  qscore = getQABits(image.select('DetailedQA'), 15, 15, 'shadow')\\\n",
    "              .expression(\"b(0) == 1\" )\n",
    "\n",
    "  return image.updateMask(qscore.Not())\n",
    "\n",
    "#Filtros de calidad -----------------------------------------\n",
    "\n",
    "\n",
    "def scale_factor(image):\n",
    "    # scale factor for the MODIS MOD13Q1 product\n",
    "    return image.multiply(0.0001).copyProperties(image,['system:time_start'])"
   ]
  },
  {
   "cell_type": "code",
   "execution_count": null,
   "metadata": {},
   "outputs": [],
   "source": []
  },
  {
   "cell_type": "code",
   "execution_count": 97,
   "metadata": {},
   "outputs": [],
   "source": [
    "MOD13Q1Collection = ee.ImageCollection('MODIS/006/MOD13Q1')\\\n",
    "                      .filterDate(ee.DateRange(initDate, endDate))\\\n",
    "                      .map(lambda x: x.clip(polygon))\\\n",
    "                      .map(modis_bit_0)\\\n",
    "                      .map(scale_factor)\n",
    "                    #   .map(modis_bit_1)\\\n",
    "                    #   .map(modis_bit_2)\\\n",
    "                    #   .map(modis_bit_3)\\\n",
    "                    #   .map(modis_bit_4)"
   ]
  },
  {
   "cell_type": "code",
   "execution_count": 98,
   "metadata": {},
   "outputs": [],
   "source": [
    "from ipygee import chart\n",
    "\n",
    "# Media del EVI en polígono\n",
    "EVI_serie = chart.Image.series(**{'imageCollection': MOD13Q1Collection,\n",
    "                                  'region': polygon,\n",
    "                                  'reducer': 'mean',\n",
    "                                  'scale': 1000,\n",
    "                                  'xProperty': 'system:time_start',\n",
    "                                  'bands':'EVI'}).dataframe\n",
    "# Media del NDVI en polígono\n",
    "NDVI_serie = chart.Image.series(**{'imageCollection': MOD13Q1Collection,\n",
    "                                    'region': polygon,\n",
    "                                    'reducer': 'mean',\n",
    "                                    'scale': 1000,\n",
    "                                    'xProperty': 'system:time_start',\n",
    "                                    'bands':'NDVI'}).dataframe"
   ]
  },
  {
   "cell_type": "code",
   "execution_count": 99,
   "metadata": {},
   "outputs": [],
   "source": [
    "# agregando el tiempo\n",
    "EVI_serie['date'] = EVI_serie.index \n",
    "NDVI_serie['date'] = NDVI_serie.index "
   ]
  },
  {
   "cell_type": "code",
   "execution_count": 100,
   "metadata": {},
   "outputs": [
    {
     "output_type": "display_data",
     "data": {
      "application/vnd.plotly.v1+json": {
       "config": {
        "plotlyServerURL": "https://plot.ly"
       },
       "data": [
        {
         "line": {
          "color": "#78D759",
          "width": 4
         },
         "mode": "lines+markers",
         "name": "EVI Time Serie",
         "type": "scatter",
         "x": [
          "2015-01-01T00:00:00",
          "2015-01-17T00:00:00",
          "2015-02-02T00:00:00",
          "2015-02-18T00:00:00",
          "2015-03-06T00:00:00",
          "2015-03-22T00:00:00",
          "2015-04-07T00:00:00",
          "2015-04-23T00:00:00",
          "2015-05-09T00:00:00",
          "2015-05-25T00:00:00",
          "2015-06-10T00:00:00",
          "2015-06-26T00:00:00",
          "2015-07-12T00:00:00",
          "2015-07-28T00:00:00",
          "2015-08-13T00:00:00",
          "2015-08-29T00:00:00",
          "2015-09-14T00:00:00",
          "2015-09-30T00:00:00",
          "2015-10-16T00:00:00",
          "2015-11-01T00:00:00",
          "2015-11-17T00:00:00",
          "2015-12-03T00:00:00",
          "2015-12-19T00:00:00",
          "2016-01-01T00:00:00",
          "2016-01-17T00:00:00",
          "2016-02-02T00:00:00",
          "2016-02-18T00:00:00",
          "2016-03-05T00:00:00",
          "2016-03-21T00:00:00",
          "2016-04-06T00:00:00",
          "2016-04-22T00:00:00",
          "2016-05-08T00:00:00",
          "2016-05-24T00:00:00",
          "2016-06-09T00:00:00",
          "2016-06-25T00:00:00",
          "2016-07-11T00:00:00",
          "2016-07-27T00:00:00",
          "2016-08-12T00:00:00",
          "2016-08-28T00:00:00",
          "2016-09-13T00:00:00",
          "2016-09-29T00:00:00",
          "2016-10-15T00:00:00",
          "2016-10-31T00:00:00",
          "2016-11-16T00:00:00",
          "2016-12-02T00:00:00",
          "2016-12-18T00:00:00",
          "2017-01-01T00:00:00",
          "2017-01-17T00:00:00",
          "2017-02-02T00:00:00",
          "2017-02-18T00:00:00",
          "2017-03-06T00:00:00",
          "2017-03-22T00:00:00",
          "2017-04-07T00:00:00",
          "2017-04-23T00:00:00",
          "2017-05-09T00:00:00",
          "2017-05-25T00:00:00",
          "2017-06-10T00:00:00",
          "2017-06-26T00:00:00",
          "2017-07-12T00:00:00",
          "2017-07-28T00:00:00",
          "2017-08-13T00:00:00",
          "2017-08-29T00:00:00",
          "2017-09-14T00:00:00",
          "2017-09-30T00:00:00",
          "2017-10-16T00:00:00",
          "2017-11-01T00:00:00",
          "2017-11-17T00:00:00",
          "2017-12-03T00:00:00",
          "2017-12-19T00:00:00",
          "2018-01-01T00:00:00",
          "2018-01-17T00:00:00",
          "2018-02-02T00:00:00",
          "2018-02-18T00:00:00",
          "2018-03-06T00:00:00",
          "2018-03-22T00:00:00",
          "2018-04-07T00:00:00",
          "2018-04-23T00:00:00",
          "2018-05-09T00:00:00",
          "2018-05-25T00:00:00",
          "2018-06-10T00:00:00",
          "2018-06-26T00:00:00",
          "2018-07-12T00:00:00",
          "2018-07-28T00:00:00",
          "2018-08-13T00:00:00",
          "2018-08-29T00:00:00",
          "2018-09-14T00:00:00",
          "2018-09-30T00:00:00",
          "2018-10-16T00:00:00",
          "2018-11-01T00:00:00",
          "2018-11-17T00:00:00",
          "2018-12-03T00:00:00",
          "2018-12-19T00:00:00",
          "2019-01-01T00:00:00",
          "2019-01-17T00:00:00",
          "2019-02-02T00:00:00",
          "2019-02-18T00:00:00",
          "2019-03-06T00:00:00",
          "2019-03-22T00:00:00",
          "2019-04-07T00:00:00",
          "2019-04-23T00:00:00",
          "2019-05-09T00:00:00",
          "2019-05-25T00:00:00",
          "2019-06-10T00:00:00",
          "2019-06-26T00:00:00",
          "2019-07-12T00:00:00",
          "2019-07-28T00:00:00",
          "2019-08-13T00:00:00",
          "2019-08-29T00:00:00",
          "2019-09-14T00:00:00",
          "2019-09-30T00:00:00",
          "2019-10-16T00:00:00",
          "2019-11-01T00:00:00",
          "2019-11-17T00:00:00",
          "2019-12-03T00:00:00",
          "2019-12-19T00:00:00",
          "2020-01-01T00:00:00",
          "2020-01-17T00:00:00",
          "2020-02-02T00:00:00",
          "2020-02-18T00:00:00",
          "2020-03-05T00:00:00",
          "2020-03-21T00:00:00",
          "2020-04-06T00:00:00",
          "2020-04-22T00:00:00"
         ],
         "y": [
          0.3897640609024503,
          0.37601640200267916,
          0.3668019081713864,
          0.3870047197087563,
          0.3749021793347542,
          0.36766525138418266,
          0.4246432910661343,
          0.34754453697873544,
          0.36842750085346027,
          0.3688928953055514,
          0.3684608563312634,
          0.35335767135440915,
          0.3782860501899206,
          0.38139129282404693,
          0.3939085890860819,
          0.38391000043036816,
          0.42881091849396036,
          0.40804132551428485,
          0.3776633560601554,
          0.3868921655982487,
          0.3843937980573859,
          0.3922907667947546,
          0.3950691807867457,
          0.38391155089184653,
          0.36725054581294314,
          0.3457807951361697,
          0.4035313035473198,
          0.3830571019532056,
          0.4254960006762561,
          0.3135494052410338,
          0.37134464247219107,
          0.3550606679979767,
          0.3343812829738635,
          0.36587161227624915,
          0.35625319150309376,
          0.3395926531044341,
          0.3531433726212815,
          0.4233813735090045,
          0.42905665116027625,
          0.3871766067531841,
          0.3642005148193231,
          0.4069179544258313,
          0.3427009078606159,
          0.38548610099386293,
          0.3727575516263017,
          0.34392737622223846,
          0.34605874844116097,
          0.37359517873973036,
          0.3833333731929069,
          0.3589307471111003,
          0.3489158813248031,
          0.36316293316479725,
          0.3701868950180197,
          0.4176452811180719,
          0.3711523148729284,
          0.4059039045328606,
          0.36768127531878536,
          0.38337760324103276,
          0.4043010791887935,
          0.38308022623744153,
          0.4327410163402477,
          0.4067835401070883,
          0.47693405667805366,
          0.41292363293573303,
          0.4141656391617973,
          0.3426642908825888,
          0.3973861221484088,
          0.3922300005672671,
          0.30886961887000774,
          0.3829673676236821,
          0.40677847388929156,
          0.36708310597623567,
          0.3474055882112599,
          0.37769358830813665,
          0.4077019414201192,
          0.4170350996976043,
          0.3429905935862034,
          0.40020267499952455,
          0.38929418267269056,
          0.35061898626994925,
          0.32317117902984227,
          0.3418908229152355,
          0.38498413929551156,
          0.39120756277121815,
          0.3600209318428424,
          0.42632963248496397,
          0.3582079553817626,
          0.36748085764189375,
          0.3743916263106818,
          0.37838816609549925,
          0.4065469031396144,
          0.3655435734915781,
          0.363213254118007,
          0.3485707842306792,
          0.3834208029009149,
          0.41941357790106937,
          0.3587646471616148,
          0.34431439640063066,
          0.3501744714118044,
          0.3898354315481265,
          0.3411613734825358,
          0.36860470370218035,
          0.35307424948324295,
          0.37353119470289564,
          0.3555092148338038,
          0.407571220474231,
          0.4553747704402044,
          0.4445705264781764,
          0.3988831123758525,
          0.3478833344826894,
          0.40020051374522825,
          0.3660490794983409,
          0.3617919616332199,
          0.37224810233449124,
          0.40454675585308164,
          0.37208649283231976,
          0.36756929219041756,
          0.3647164148442562,
          0.37066889897272537,
          0.38916969043682126,
          0.35202321111965357,
          0.3291343326651675,
          0.39361751766012215
         ]
        }
       ],
       "layout": {
        "template": {
         "data": {
          "bar": [
           {
            "error_x": {
             "color": "#2a3f5f"
            },
            "error_y": {
             "color": "#2a3f5f"
            },
            "marker": {
             "line": {
              "color": "#E5ECF6",
              "width": 0.5
             }
            },
            "type": "bar"
           }
          ],
          "barpolar": [
           {
            "marker": {
             "line": {
              "color": "#E5ECF6",
              "width": 0.5
             }
            },
            "type": "barpolar"
           }
          ],
          "carpet": [
           {
            "aaxis": {
             "endlinecolor": "#2a3f5f",
             "gridcolor": "white",
             "linecolor": "white",
             "minorgridcolor": "white",
             "startlinecolor": "#2a3f5f"
            },
            "baxis": {
             "endlinecolor": "#2a3f5f",
             "gridcolor": "white",
             "linecolor": "white",
             "minorgridcolor": "white",
             "startlinecolor": "#2a3f5f"
            },
            "type": "carpet"
           }
          ],
          "choropleth": [
           {
            "colorbar": {
             "outlinewidth": 0,
             "ticks": ""
            },
            "type": "choropleth"
           }
          ],
          "contour": [
           {
            "colorbar": {
             "outlinewidth": 0,
             "ticks": ""
            },
            "colorscale": [
             [
              0,
              "#0d0887"
             ],
             [
              0.1111111111111111,
              "#46039f"
             ],
             [
              0.2222222222222222,
              "#7201a8"
             ],
             [
              0.3333333333333333,
              "#9c179e"
             ],
             [
              0.4444444444444444,
              "#bd3786"
             ],
             [
              0.5555555555555556,
              "#d8576b"
             ],
             [
              0.6666666666666666,
              "#ed7953"
             ],
             [
              0.7777777777777778,
              "#fb9f3a"
             ],
             [
              0.8888888888888888,
              "#fdca26"
             ],
             [
              1,
              "#f0f921"
             ]
            ],
            "type": "contour"
           }
          ],
          "contourcarpet": [
           {
            "colorbar": {
             "outlinewidth": 0,
             "ticks": ""
            },
            "type": "contourcarpet"
           }
          ],
          "heatmap": [
           {
            "colorbar": {
             "outlinewidth": 0,
             "ticks": ""
            },
            "colorscale": [
             [
              0,
              "#0d0887"
             ],
             [
              0.1111111111111111,
              "#46039f"
             ],
             [
              0.2222222222222222,
              "#7201a8"
             ],
             [
              0.3333333333333333,
              "#9c179e"
             ],
             [
              0.4444444444444444,
              "#bd3786"
             ],
             [
              0.5555555555555556,
              "#d8576b"
             ],
             [
              0.6666666666666666,
              "#ed7953"
             ],
             [
              0.7777777777777778,
              "#fb9f3a"
             ],
             [
              0.8888888888888888,
              "#fdca26"
             ],
             [
              1,
              "#f0f921"
             ]
            ],
            "type": "heatmap"
           }
          ],
          "heatmapgl": [
           {
            "colorbar": {
             "outlinewidth": 0,
             "ticks": ""
            },
            "colorscale": [
             [
              0,
              "#0d0887"
             ],
             [
              0.1111111111111111,
              "#46039f"
             ],
             [
              0.2222222222222222,
              "#7201a8"
             ],
             [
              0.3333333333333333,
              "#9c179e"
             ],
             [
              0.4444444444444444,
              "#bd3786"
             ],
             [
              0.5555555555555556,
              "#d8576b"
             ],
             [
              0.6666666666666666,
              "#ed7953"
             ],
             [
              0.7777777777777778,
              "#fb9f3a"
             ],
             [
              0.8888888888888888,
              "#fdca26"
             ],
             [
              1,
              "#f0f921"
             ]
            ],
            "type": "heatmapgl"
           }
          ],
          "histogram": [
           {
            "marker": {
             "colorbar": {
              "outlinewidth": 0,
              "ticks": ""
             }
            },
            "type": "histogram"
           }
          ],
          "histogram2d": [
           {
            "colorbar": {
             "outlinewidth": 0,
             "ticks": ""
            },
            "colorscale": [
             [
              0,
              "#0d0887"
             ],
             [
              0.1111111111111111,
              "#46039f"
             ],
             [
              0.2222222222222222,
              "#7201a8"
             ],
             [
              0.3333333333333333,
              "#9c179e"
             ],
             [
              0.4444444444444444,
              "#bd3786"
             ],
             [
              0.5555555555555556,
              "#d8576b"
             ],
             [
              0.6666666666666666,
              "#ed7953"
             ],
             [
              0.7777777777777778,
              "#fb9f3a"
             ],
             [
              0.8888888888888888,
              "#fdca26"
             ],
             [
              1,
              "#f0f921"
             ]
            ],
            "type": "histogram2d"
           }
          ],
          "histogram2dcontour": [
           {
            "colorbar": {
             "outlinewidth": 0,
             "ticks": ""
            },
            "colorscale": [
             [
              0,
              "#0d0887"
             ],
             [
              0.1111111111111111,
              "#46039f"
             ],
             [
              0.2222222222222222,
              "#7201a8"
             ],
             [
              0.3333333333333333,
              "#9c179e"
             ],
             [
              0.4444444444444444,
              "#bd3786"
             ],
             [
              0.5555555555555556,
              "#d8576b"
             ],
             [
              0.6666666666666666,
              "#ed7953"
             ],
             [
              0.7777777777777778,
              "#fb9f3a"
             ],
             [
              0.8888888888888888,
              "#fdca26"
             ],
             [
              1,
              "#f0f921"
             ]
            ],
            "type": "histogram2dcontour"
           }
          ],
          "mesh3d": [
           {
            "colorbar": {
             "outlinewidth": 0,
             "ticks": ""
            },
            "type": "mesh3d"
           }
          ],
          "parcoords": [
           {
            "line": {
             "colorbar": {
              "outlinewidth": 0,
              "ticks": ""
             }
            },
            "type": "parcoords"
           }
          ],
          "pie": [
           {
            "automargin": true,
            "type": "pie"
           }
          ],
          "scatter": [
           {
            "marker": {
             "colorbar": {
              "outlinewidth": 0,
              "ticks": ""
             }
            },
            "type": "scatter"
           }
          ],
          "scatter3d": [
           {
            "line": {
             "colorbar": {
              "outlinewidth": 0,
              "ticks": ""
             }
            },
            "marker": {
             "colorbar": {
              "outlinewidth": 0,
              "ticks": ""
             }
            },
            "type": "scatter3d"
           }
          ],
          "scattercarpet": [
           {
            "marker": {
             "colorbar": {
              "outlinewidth": 0,
              "ticks": ""
             }
            },
            "type": "scattercarpet"
           }
          ],
          "scattergeo": [
           {
            "marker": {
             "colorbar": {
              "outlinewidth": 0,
              "ticks": ""
             }
            },
            "type": "scattergeo"
           }
          ],
          "scattergl": [
           {
            "marker": {
             "colorbar": {
              "outlinewidth": 0,
              "ticks": ""
             }
            },
            "type": "scattergl"
           }
          ],
          "scattermapbox": [
           {
            "marker": {
             "colorbar": {
              "outlinewidth": 0,
              "ticks": ""
             }
            },
            "type": "scattermapbox"
           }
          ],
          "scatterpolar": [
           {
            "marker": {
             "colorbar": {
              "outlinewidth": 0,
              "ticks": ""
             }
            },
            "type": "scatterpolar"
           }
          ],
          "scatterpolargl": [
           {
            "marker": {
             "colorbar": {
              "outlinewidth": 0,
              "ticks": ""
             }
            },
            "type": "scatterpolargl"
           }
          ],
          "scatterternary": [
           {
            "marker": {
             "colorbar": {
              "outlinewidth": 0,
              "ticks": ""
             }
            },
            "type": "scatterternary"
           }
          ],
          "surface": [
           {
            "colorbar": {
             "outlinewidth": 0,
             "ticks": ""
            },
            "colorscale": [
             [
              0,
              "#0d0887"
             ],
             [
              0.1111111111111111,
              "#46039f"
             ],
             [
              0.2222222222222222,
              "#7201a8"
             ],
             [
              0.3333333333333333,
              "#9c179e"
             ],
             [
              0.4444444444444444,
              "#bd3786"
             ],
             [
              0.5555555555555556,
              "#d8576b"
             ],
             [
              0.6666666666666666,
              "#ed7953"
             ],
             [
              0.7777777777777778,
              "#fb9f3a"
             ],
             [
              0.8888888888888888,
              "#fdca26"
             ],
             [
              1,
              "#f0f921"
             ]
            ],
            "type": "surface"
           }
          ],
          "table": [
           {
            "cells": {
             "fill": {
              "color": "#EBF0F8"
             },
             "line": {
              "color": "white"
             }
            },
            "header": {
             "fill": {
              "color": "#C8D4E3"
             },
             "line": {
              "color": "white"
             }
            },
            "type": "table"
           }
          ]
         },
         "layout": {
          "annotationdefaults": {
           "arrowcolor": "#2a3f5f",
           "arrowhead": 0,
           "arrowwidth": 1
          },
          "autotypenumbers": "strict",
          "coloraxis": {
           "colorbar": {
            "outlinewidth": 0,
            "ticks": ""
           }
          },
          "colorscale": {
           "diverging": [
            [
             0,
             "#8e0152"
            ],
            [
             0.1,
             "#c51b7d"
            ],
            [
             0.2,
             "#de77ae"
            ],
            [
             0.3,
             "#f1b6da"
            ],
            [
             0.4,
             "#fde0ef"
            ],
            [
             0.5,
             "#f7f7f7"
            ],
            [
             0.6,
             "#e6f5d0"
            ],
            [
             0.7,
             "#b8e186"
            ],
            [
             0.8,
             "#7fbc41"
            ],
            [
             0.9,
             "#4d9221"
            ],
            [
             1,
             "#276419"
            ]
           ],
           "sequential": [
            [
             0,
             "#0d0887"
            ],
            [
             0.1111111111111111,
             "#46039f"
            ],
            [
             0.2222222222222222,
             "#7201a8"
            ],
            [
             0.3333333333333333,
             "#9c179e"
            ],
            [
             0.4444444444444444,
             "#bd3786"
            ],
            [
             0.5555555555555556,
             "#d8576b"
            ],
            [
             0.6666666666666666,
             "#ed7953"
            ],
            [
             0.7777777777777778,
             "#fb9f3a"
            ],
            [
             0.8888888888888888,
             "#fdca26"
            ],
            [
             1,
             "#f0f921"
            ]
           ],
           "sequentialminus": [
            [
             0,
             "#0d0887"
            ],
            [
             0.1111111111111111,
             "#46039f"
            ],
            [
             0.2222222222222222,
             "#7201a8"
            ],
            [
             0.3333333333333333,
             "#9c179e"
            ],
            [
             0.4444444444444444,
             "#bd3786"
            ],
            [
             0.5555555555555556,
             "#d8576b"
            ],
            [
             0.6666666666666666,
             "#ed7953"
            ],
            [
             0.7777777777777778,
             "#fb9f3a"
            ],
            [
             0.8888888888888888,
             "#fdca26"
            ],
            [
             1,
             "#f0f921"
            ]
           ]
          },
          "colorway": [
           "#636efa",
           "#EF553B",
           "#00cc96",
           "#ab63fa",
           "#FFA15A",
           "#19d3f3",
           "#FF6692",
           "#B6E880",
           "#FF97FF",
           "#FECB52"
          ],
          "font": {
           "color": "#2a3f5f"
          },
          "geo": {
           "bgcolor": "white",
           "lakecolor": "white",
           "landcolor": "#E5ECF6",
           "showlakes": true,
           "showland": true,
           "subunitcolor": "white"
          },
          "hoverlabel": {
           "align": "left"
          },
          "hovermode": "closest",
          "mapbox": {
           "style": "light"
          },
          "paper_bgcolor": "white",
          "plot_bgcolor": "#E5ECF6",
          "polar": {
           "angularaxis": {
            "gridcolor": "white",
            "linecolor": "white",
            "ticks": ""
           },
           "bgcolor": "#E5ECF6",
           "radialaxis": {
            "gridcolor": "white",
            "linecolor": "white",
            "ticks": ""
           }
          },
          "scene": {
           "xaxis": {
            "backgroundcolor": "#E5ECF6",
            "gridcolor": "white",
            "gridwidth": 2,
            "linecolor": "white",
            "showbackground": true,
            "ticks": "",
            "zerolinecolor": "white"
           },
           "yaxis": {
            "backgroundcolor": "#E5ECF6",
            "gridcolor": "white",
            "gridwidth": 2,
            "linecolor": "white",
            "showbackground": true,
            "ticks": "",
            "zerolinecolor": "white"
           },
           "zaxis": {
            "backgroundcolor": "#E5ECF6",
            "gridcolor": "white",
            "gridwidth": 2,
            "linecolor": "white",
            "showbackground": true,
            "ticks": "",
            "zerolinecolor": "white"
           }
          },
          "shapedefaults": {
           "line": {
            "color": "#2a3f5f"
           }
          },
          "ternary": {
           "aaxis": {
            "gridcolor": "white",
            "linecolor": "white",
            "ticks": ""
           },
           "baxis": {
            "gridcolor": "white",
            "linecolor": "white",
            "ticks": ""
           },
           "bgcolor": "#E5ECF6",
           "caxis": {
            "gridcolor": "white",
            "linecolor": "white",
            "ticks": ""
           }
          },
          "title": {
           "x": 0.05
          },
          "xaxis": {
           "automargin": true,
           "gridcolor": "white",
           "linecolor": "white",
           "ticks": "",
           "title": {
            "standoff": 15
           },
           "zerolinecolor": "white",
           "zerolinewidth": 2
          },
          "yaxis": {
           "automargin": true,
           "gridcolor": "white",
           "linecolor": "white",
           "ticks": "",
           "title": {
            "standoff": 15
           },
           "zerolinecolor": "white",
           "zerolinewidth": 2
          }
         }
        },
        "title": {
         "text": "Serie de tiempo EVI"
        },
        "xaxis": {
         "title": {
          "text": "Mes"
         }
        },
        "yaxis": {
         "title": {
          "text": "Índice de Vegetación"
         }
        }
       }
      }
     },
     "metadata": {}
    }
   ],
   "source": [
    "import plotly.graph_objects as go\n",
    "\n",
    "# Create traces\n",
    "fig_evi = go.Figure()\n",
    "fig_evi.add_trace(go.Scatter(x=EVI_serie.date.tolist(), y=EVI_serie.EVI.tolist(),\n",
    "                    mode='lines+markers',\n",
    "                    name='EVI Time Serie',\n",
    "                    line=dict(color='#78D759', width=4)\n",
    "                    ))\n",
    "\n",
    "# Edit the layout\n",
    "fig_evi.update_layout(title='Serie de tiempo EVI',\n",
    "                      xaxis_title='Mes',\n",
    "                      yaxis_title='Índice de Vegetación')\n",
    "\n",
    "fig_evi.show()"
   ]
  },
  {
   "cell_type": "code",
   "execution_count": 101,
   "metadata": {},
   "outputs": [
    {
     "output_type": "display_data",
     "data": {
      "application/vnd.plotly.v1+json": {
       "config": {
        "plotlyServerURL": "https://plot.ly"
       },
       "data": [
        {
         "line": {
          "color": "#4E8C39",
          "width": 4
         },
         "mode": "lines+markers",
         "name": "NDVI Time Serie",
         "type": "scatter",
         "x": [
          "2015-01-01T00:00:00",
          "2015-01-17T00:00:00",
          "2015-02-02T00:00:00",
          "2015-02-18T00:00:00",
          "2015-03-06T00:00:00",
          "2015-03-22T00:00:00",
          "2015-04-07T00:00:00",
          "2015-04-23T00:00:00",
          "2015-05-09T00:00:00",
          "2015-05-25T00:00:00",
          "2015-06-10T00:00:00",
          "2015-06-26T00:00:00",
          "2015-07-12T00:00:00",
          "2015-07-28T00:00:00",
          "2015-08-13T00:00:00",
          "2015-08-29T00:00:00",
          "2015-09-14T00:00:00",
          "2015-09-30T00:00:00",
          "2015-10-16T00:00:00",
          "2015-11-01T00:00:00",
          "2015-11-17T00:00:00",
          "2015-12-03T00:00:00",
          "2015-12-19T00:00:00",
          "2016-01-01T00:00:00",
          "2016-01-17T00:00:00",
          "2016-02-02T00:00:00",
          "2016-02-18T00:00:00",
          "2016-03-05T00:00:00",
          "2016-03-21T00:00:00",
          "2016-04-06T00:00:00",
          "2016-04-22T00:00:00",
          "2016-05-08T00:00:00",
          "2016-05-24T00:00:00",
          "2016-06-09T00:00:00",
          "2016-06-25T00:00:00",
          "2016-07-11T00:00:00",
          "2016-07-27T00:00:00",
          "2016-08-12T00:00:00",
          "2016-08-28T00:00:00",
          "2016-09-13T00:00:00",
          "2016-09-29T00:00:00",
          "2016-10-15T00:00:00",
          "2016-10-31T00:00:00",
          "2016-11-16T00:00:00",
          "2016-12-02T00:00:00",
          "2016-12-18T00:00:00",
          "2017-01-01T00:00:00",
          "2017-01-17T00:00:00",
          "2017-02-02T00:00:00",
          "2017-02-18T00:00:00",
          "2017-03-06T00:00:00",
          "2017-03-22T00:00:00",
          "2017-04-07T00:00:00",
          "2017-04-23T00:00:00",
          "2017-05-09T00:00:00",
          "2017-05-25T00:00:00",
          "2017-06-10T00:00:00",
          "2017-06-26T00:00:00",
          "2017-07-12T00:00:00",
          "2017-07-28T00:00:00",
          "2017-08-13T00:00:00",
          "2017-08-29T00:00:00",
          "2017-09-14T00:00:00",
          "2017-09-30T00:00:00",
          "2017-10-16T00:00:00",
          "2017-11-01T00:00:00",
          "2017-11-17T00:00:00",
          "2017-12-03T00:00:00",
          "2017-12-19T00:00:00",
          "2018-01-01T00:00:00",
          "2018-01-17T00:00:00",
          "2018-02-02T00:00:00",
          "2018-02-18T00:00:00",
          "2018-03-06T00:00:00",
          "2018-03-22T00:00:00",
          "2018-04-07T00:00:00",
          "2018-04-23T00:00:00",
          "2018-05-09T00:00:00",
          "2018-05-25T00:00:00",
          "2018-06-10T00:00:00",
          "2018-06-26T00:00:00",
          "2018-07-12T00:00:00",
          "2018-07-28T00:00:00",
          "2018-08-13T00:00:00",
          "2018-08-29T00:00:00",
          "2018-09-14T00:00:00",
          "2018-09-30T00:00:00",
          "2018-10-16T00:00:00",
          "2018-11-01T00:00:00",
          "2018-11-17T00:00:00",
          "2018-12-03T00:00:00",
          "2018-12-19T00:00:00",
          "2019-01-01T00:00:00",
          "2019-01-17T00:00:00",
          "2019-02-02T00:00:00",
          "2019-02-18T00:00:00",
          "2019-03-06T00:00:00",
          "2019-03-22T00:00:00",
          "2019-04-07T00:00:00",
          "2019-04-23T00:00:00",
          "2019-05-09T00:00:00",
          "2019-05-25T00:00:00",
          "2019-06-10T00:00:00",
          "2019-06-26T00:00:00",
          "2019-07-12T00:00:00",
          "2019-07-28T00:00:00",
          "2019-08-13T00:00:00",
          "2019-08-29T00:00:00",
          "2019-09-14T00:00:00",
          "2019-09-30T00:00:00",
          "2019-10-16T00:00:00",
          "2019-11-01T00:00:00",
          "2019-11-17T00:00:00",
          "2019-12-03T00:00:00",
          "2019-12-19T00:00:00",
          "2020-01-01T00:00:00",
          "2020-01-17T00:00:00",
          "2020-02-02T00:00:00",
          "2020-02-18T00:00:00",
          "2020-03-05T00:00:00",
          "2020-03-21T00:00:00",
          "2020-04-06T00:00:00",
          "2020-04-22T00:00:00"
         ],
         "y": [
          0.7199308492577107,
          0.6891383755009298,
          0.7073526922812263,
          0.695339302230039,
          0.5876725520498032,
          0.6504360556190472,
          0.6501547564901317,
          0.6621850874656949,
          0.726959941608604,
          0.7430862504864285,
          0.7884244946061728,
          0.7238102536164853,
          0.7222890638230942,
          0.7485578728345458,
          0.7138143778928931,
          0.6960415739514146,
          0.7088538085746595,
          0.7073684581049214,
          0.6977385999263999,
          0.7676128811624576,
          0.6836078424905134,
          0.7499496351642071,
          0.7135613023115278,
          0.6816255804882707,
          0.6811787552721118,
          0.692984685042682,
          0.6368997162583183,
          0.6268681356126169,
          0.6339320340066449,
          0.5131264377068241,
          0.7232824658316799,
          0.6398729496620265,
          0.6126290543955039,
          0.6523889148895944,
          0.6890121873820058,
          0.6754360554840004,
          0.7110661049186913,
          0.7096607660062553,
          0.7161560438329467,
          0.6699806996213504,
          0.6627954363811482,
          0.7083886483619659,
          0.6781145596816968,
          0.7300384363580095,
          0.7165044335953873,
          0.6268665737486747,
          0.6687410153500217,
          0.7586529344029662,
          0.6695754491199546,
          0.7033574704467362,
          0.6426361324168299,
          0.7051690383495185,
          0.6902403861782878,
          0.7222658327585094,
          0.6361978433115494,
          0.7161739939818991,
          0.6911842213180889,
          0.7034879521871235,
          0.83193340854334,
          0.7355365165812702,
          0.8031906620713546,
          0.7065840678997537,
          0.7166048121815759,
          0.7127325174948536,
          0.7187157246921996,
          0.6329868050403842,
          0.7059751355747004,
          0.7269417352651892,
          0.6390516626311903,
          0.7230514084858678,
          0.6915076983478636,
          0.693550084902003,
          0.7004905388280613,
          0.7148187161887868,
          0.6866080903151666,
          0.6512200450461176,
          0.6353357521523672,
          0.7252128417833323,
          0.7388918618588601,
          0.6859172081158424,
          0.6328750340419936,
          0.6275762104684716,
          0.7288865956162308,
          0.7227917774541099,
          0.6836335092284757,
          0.7016261528701988,
          0.6912157753921915,
          0.7522035974171744,
          0.7371154550463246,
          0.6810679862289679,
          0.7308283784556594,
          0.725522789148504,
          0.6866566839398557,
          0.6961635467766436,
          0.6785662473786335,
          0.7087259946567331,
          0.6575143081609389,
          0.5571909022437928,
          0.5294666628940311,
          0.677118746959701,
          0.6367221449248607,
          0.7177451366517061,
          0.7317296360638229,
          0.7358013192128718,
          0.6623310719653895,
          0.758976054857118,
          0.7909565329769638,
          0.7738512462890725,
          0.6836607798264024,
          0.73014958104525,
          0.7417129741585269,
          0.6776069214344932,
          0.700185942306311,
          0.7272751004633329,
          0.7603358333330905,
          0.7249059179747115,
          0.7114197226035067,
          0.7109227292854307,
          0.6643708532535458,
          0.600038546341781,
          0.5244629568856713,
          0.6356859656990926,
          0.707054009245011
         ]
        }
       ],
       "layout": {
        "template": {
         "data": {
          "bar": [
           {
            "error_x": {
             "color": "#2a3f5f"
            },
            "error_y": {
             "color": "#2a3f5f"
            },
            "marker": {
             "line": {
              "color": "#E5ECF6",
              "width": 0.5
             }
            },
            "type": "bar"
           }
          ],
          "barpolar": [
           {
            "marker": {
             "line": {
              "color": "#E5ECF6",
              "width": 0.5
             }
            },
            "type": "barpolar"
           }
          ],
          "carpet": [
           {
            "aaxis": {
             "endlinecolor": "#2a3f5f",
             "gridcolor": "white",
             "linecolor": "white",
             "minorgridcolor": "white",
             "startlinecolor": "#2a3f5f"
            },
            "baxis": {
             "endlinecolor": "#2a3f5f",
             "gridcolor": "white",
             "linecolor": "white",
             "minorgridcolor": "white",
             "startlinecolor": "#2a3f5f"
            },
            "type": "carpet"
           }
          ],
          "choropleth": [
           {
            "colorbar": {
             "outlinewidth": 0,
             "ticks": ""
            },
            "type": "choropleth"
           }
          ],
          "contour": [
           {
            "colorbar": {
             "outlinewidth": 0,
             "ticks": ""
            },
            "colorscale": [
             [
              0,
              "#0d0887"
             ],
             [
              0.1111111111111111,
              "#46039f"
             ],
             [
              0.2222222222222222,
              "#7201a8"
             ],
             [
              0.3333333333333333,
              "#9c179e"
             ],
             [
              0.4444444444444444,
              "#bd3786"
             ],
             [
              0.5555555555555556,
              "#d8576b"
             ],
             [
              0.6666666666666666,
              "#ed7953"
             ],
             [
              0.7777777777777778,
              "#fb9f3a"
             ],
             [
              0.8888888888888888,
              "#fdca26"
             ],
             [
              1,
              "#f0f921"
             ]
            ],
            "type": "contour"
           }
          ],
          "contourcarpet": [
           {
            "colorbar": {
             "outlinewidth": 0,
             "ticks": ""
            },
            "type": "contourcarpet"
           }
          ],
          "heatmap": [
           {
            "colorbar": {
             "outlinewidth": 0,
             "ticks": ""
            },
            "colorscale": [
             [
              0,
              "#0d0887"
             ],
             [
              0.1111111111111111,
              "#46039f"
             ],
             [
              0.2222222222222222,
              "#7201a8"
             ],
             [
              0.3333333333333333,
              "#9c179e"
             ],
             [
              0.4444444444444444,
              "#bd3786"
             ],
             [
              0.5555555555555556,
              "#d8576b"
             ],
             [
              0.6666666666666666,
              "#ed7953"
             ],
             [
              0.7777777777777778,
              "#fb9f3a"
             ],
             [
              0.8888888888888888,
              "#fdca26"
             ],
             [
              1,
              "#f0f921"
             ]
            ],
            "type": "heatmap"
           }
          ],
          "heatmapgl": [
           {
            "colorbar": {
             "outlinewidth": 0,
             "ticks": ""
            },
            "colorscale": [
             [
              0,
              "#0d0887"
             ],
             [
              0.1111111111111111,
              "#46039f"
             ],
             [
              0.2222222222222222,
              "#7201a8"
             ],
             [
              0.3333333333333333,
              "#9c179e"
             ],
             [
              0.4444444444444444,
              "#bd3786"
             ],
             [
              0.5555555555555556,
              "#d8576b"
             ],
             [
              0.6666666666666666,
              "#ed7953"
             ],
             [
              0.7777777777777778,
              "#fb9f3a"
             ],
             [
              0.8888888888888888,
              "#fdca26"
             ],
             [
              1,
              "#f0f921"
             ]
            ],
            "type": "heatmapgl"
           }
          ],
          "histogram": [
           {
            "marker": {
             "colorbar": {
              "outlinewidth": 0,
              "ticks": ""
             }
            },
            "type": "histogram"
           }
          ],
          "histogram2d": [
           {
            "colorbar": {
             "outlinewidth": 0,
             "ticks": ""
            },
            "colorscale": [
             [
              0,
              "#0d0887"
             ],
             [
              0.1111111111111111,
              "#46039f"
             ],
             [
              0.2222222222222222,
              "#7201a8"
             ],
             [
              0.3333333333333333,
              "#9c179e"
             ],
             [
              0.4444444444444444,
              "#bd3786"
             ],
             [
              0.5555555555555556,
              "#d8576b"
             ],
             [
              0.6666666666666666,
              "#ed7953"
             ],
             [
              0.7777777777777778,
              "#fb9f3a"
             ],
             [
              0.8888888888888888,
              "#fdca26"
             ],
             [
              1,
              "#f0f921"
             ]
            ],
            "type": "histogram2d"
           }
          ],
          "histogram2dcontour": [
           {
            "colorbar": {
             "outlinewidth": 0,
             "ticks": ""
            },
            "colorscale": [
             [
              0,
              "#0d0887"
             ],
             [
              0.1111111111111111,
              "#46039f"
             ],
             [
              0.2222222222222222,
              "#7201a8"
             ],
             [
              0.3333333333333333,
              "#9c179e"
             ],
             [
              0.4444444444444444,
              "#bd3786"
             ],
             [
              0.5555555555555556,
              "#d8576b"
             ],
             [
              0.6666666666666666,
              "#ed7953"
             ],
             [
              0.7777777777777778,
              "#fb9f3a"
             ],
             [
              0.8888888888888888,
              "#fdca26"
             ],
             [
              1,
              "#f0f921"
             ]
            ],
            "type": "histogram2dcontour"
           }
          ],
          "mesh3d": [
           {
            "colorbar": {
             "outlinewidth": 0,
             "ticks": ""
            },
            "type": "mesh3d"
           }
          ],
          "parcoords": [
           {
            "line": {
             "colorbar": {
              "outlinewidth": 0,
              "ticks": ""
             }
            },
            "type": "parcoords"
           }
          ],
          "pie": [
           {
            "automargin": true,
            "type": "pie"
           }
          ],
          "scatter": [
           {
            "marker": {
             "colorbar": {
              "outlinewidth": 0,
              "ticks": ""
             }
            },
            "type": "scatter"
           }
          ],
          "scatter3d": [
           {
            "line": {
             "colorbar": {
              "outlinewidth": 0,
              "ticks": ""
             }
            },
            "marker": {
             "colorbar": {
              "outlinewidth": 0,
              "ticks": ""
             }
            },
            "type": "scatter3d"
           }
          ],
          "scattercarpet": [
           {
            "marker": {
             "colorbar": {
              "outlinewidth": 0,
              "ticks": ""
             }
            },
            "type": "scattercarpet"
           }
          ],
          "scattergeo": [
           {
            "marker": {
             "colorbar": {
              "outlinewidth": 0,
              "ticks": ""
             }
            },
            "type": "scattergeo"
           }
          ],
          "scattergl": [
           {
            "marker": {
             "colorbar": {
              "outlinewidth": 0,
              "ticks": ""
             }
            },
            "type": "scattergl"
           }
          ],
          "scattermapbox": [
           {
            "marker": {
             "colorbar": {
              "outlinewidth": 0,
              "ticks": ""
             }
            },
            "type": "scattermapbox"
           }
          ],
          "scatterpolar": [
           {
            "marker": {
             "colorbar": {
              "outlinewidth": 0,
              "ticks": ""
             }
            },
            "type": "scatterpolar"
           }
          ],
          "scatterpolargl": [
           {
            "marker": {
             "colorbar": {
              "outlinewidth": 0,
              "ticks": ""
             }
            },
            "type": "scatterpolargl"
           }
          ],
          "scatterternary": [
           {
            "marker": {
             "colorbar": {
              "outlinewidth": 0,
              "ticks": ""
             }
            },
            "type": "scatterternary"
           }
          ],
          "surface": [
           {
            "colorbar": {
             "outlinewidth": 0,
             "ticks": ""
            },
            "colorscale": [
             [
              0,
              "#0d0887"
             ],
             [
              0.1111111111111111,
              "#46039f"
             ],
             [
              0.2222222222222222,
              "#7201a8"
             ],
             [
              0.3333333333333333,
              "#9c179e"
             ],
             [
              0.4444444444444444,
              "#bd3786"
             ],
             [
              0.5555555555555556,
              "#d8576b"
             ],
             [
              0.6666666666666666,
              "#ed7953"
             ],
             [
              0.7777777777777778,
              "#fb9f3a"
             ],
             [
              0.8888888888888888,
              "#fdca26"
             ],
             [
              1,
              "#f0f921"
             ]
            ],
            "type": "surface"
           }
          ],
          "table": [
           {
            "cells": {
             "fill": {
              "color": "#EBF0F8"
             },
             "line": {
              "color": "white"
             }
            },
            "header": {
             "fill": {
              "color": "#C8D4E3"
             },
             "line": {
              "color": "white"
             }
            },
            "type": "table"
           }
          ]
         },
         "layout": {
          "annotationdefaults": {
           "arrowcolor": "#2a3f5f",
           "arrowhead": 0,
           "arrowwidth": 1
          },
          "autotypenumbers": "strict",
          "coloraxis": {
           "colorbar": {
            "outlinewidth": 0,
            "ticks": ""
           }
          },
          "colorscale": {
           "diverging": [
            [
             0,
             "#8e0152"
            ],
            [
             0.1,
             "#c51b7d"
            ],
            [
             0.2,
             "#de77ae"
            ],
            [
             0.3,
             "#f1b6da"
            ],
            [
             0.4,
             "#fde0ef"
            ],
            [
             0.5,
             "#f7f7f7"
            ],
            [
             0.6,
             "#e6f5d0"
            ],
            [
             0.7,
             "#b8e186"
            ],
            [
             0.8,
             "#7fbc41"
            ],
            [
             0.9,
             "#4d9221"
            ],
            [
             1,
             "#276419"
            ]
           ],
           "sequential": [
            [
             0,
             "#0d0887"
            ],
            [
             0.1111111111111111,
             "#46039f"
            ],
            [
             0.2222222222222222,
             "#7201a8"
            ],
            [
             0.3333333333333333,
             "#9c179e"
            ],
            [
             0.4444444444444444,
             "#bd3786"
            ],
            [
             0.5555555555555556,
             "#d8576b"
            ],
            [
             0.6666666666666666,
             "#ed7953"
            ],
            [
             0.7777777777777778,
             "#fb9f3a"
            ],
            [
             0.8888888888888888,
             "#fdca26"
            ],
            [
             1,
             "#f0f921"
            ]
           ],
           "sequentialminus": [
            [
             0,
             "#0d0887"
            ],
            [
             0.1111111111111111,
             "#46039f"
            ],
            [
             0.2222222222222222,
             "#7201a8"
            ],
            [
             0.3333333333333333,
             "#9c179e"
            ],
            [
             0.4444444444444444,
             "#bd3786"
            ],
            [
             0.5555555555555556,
             "#d8576b"
            ],
            [
             0.6666666666666666,
             "#ed7953"
            ],
            [
             0.7777777777777778,
             "#fb9f3a"
            ],
            [
             0.8888888888888888,
             "#fdca26"
            ],
            [
             1,
             "#f0f921"
            ]
           ]
          },
          "colorway": [
           "#636efa",
           "#EF553B",
           "#00cc96",
           "#ab63fa",
           "#FFA15A",
           "#19d3f3",
           "#FF6692",
           "#B6E880",
           "#FF97FF",
           "#FECB52"
          ],
          "font": {
           "color": "#2a3f5f"
          },
          "geo": {
           "bgcolor": "white",
           "lakecolor": "white",
           "landcolor": "#E5ECF6",
           "showlakes": true,
           "showland": true,
           "subunitcolor": "white"
          },
          "hoverlabel": {
           "align": "left"
          },
          "hovermode": "closest",
          "mapbox": {
           "style": "light"
          },
          "paper_bgcolor": "white",
          "plot_bgcolor": "#E5ECF6",
          "polar": {
           "angularaxis": {
            "gridcolor": "white",
            "linecolor": "white",
            "ticks": ""
           },
           "bgcolor": "#E5ECF6",
           "radialaxis": {
            "gridcolor": "white",
            "linecolor": "white",
            "ticks": ""
           }
          },
          "scene": {
           "xaxis": {
            "backgroundcolor": "#E5ECF6",
            "gridcolor": "white",
            "gridwidth": 2,
            "linecolor": "white",
            "showbackground": true,
            "ticks": "",
            "zerolinecolor": "white"
           },
           "yaxis": {
            "backgroundcolor": "#E5ECF6",
            "gridcolor": "white",
            "gridwidth": 2,
            "linecolor": "white",
            "showbackground": true,
            "ticks": "",
            "zerolinecolor": "white"
           },
           "zaxis": {
            "backgroundcolor": "#E5ECF6",
            "gridcolor": "white",
            "gridwidth": 2,
            "linecolor": "white",
            "showbackground": true,
            "ticks": "",
            "zerolinecolor": "white"
           }
          },
          "shapedefaults": {
           "line": {
            "color": "#2a3f5f"
           }
          },
          "ternary": {
           "aaxis": {
            "gridcolor": "white",
            "linecolor": "white",
            "ticks": ""
           },
           "baxis": {
            "gridcolor": "white",
            "linecolor": "white",
            "ticks": ""
           },
           "bgcolor": "#E5ECF6",
           "caxis": {
            "gridcolor": "white",
            "linecolor": "white",
            "ticks": ""
           }
          },
          "title": {
           "x": 0.05
          },
          "xaxis": {
           "automargin": true,
           "gridcolor": "white",
           "linecolor": "white",
           "ticks": "",
           "title": {
            "standoff": 15
           },
           "zerolinecolor": "white",
           "zerolinewidth": 2
          },
          "yaxis": {
           "automargin": true,
           "gridcolor": "white",
           "linecolor": "white",
           "ticks": "",
           "title": {
            "standoff": 15
           },
           "zerolinecolor": "white",
           "zerolinewidth": 2
          }
         }
        },
        "title": {
         "text": "Serie de tiempo NDVI"
        },
        "xaxis": {
         "title": {
          "text": "Mes"
         }
        },
        "yaxis": {
         "title": {
          "text": "Índice de Vegetación"
         }
        }
       }
      }
     },
     "metadata": {}
    }
   ],
   "source": [
    "# Create traces\n",
    "fig_ndvi = go.Figure()\n",
    "fig_ndvi.add_trace(go.Scatter(\n",
    "                    x=NDVI_serie.date.tolist(),\n",
    "                    y=NDVI_serie.NDVI.tolist(),\n",
    "                    mode='lines+markers',\n",
    "                    name='NDVI Time Serie',\n",
    "                    line=dict(color='#4E8C39', width=4)\n",
    "                    ))\n",
    "# Edit the layout\n",
    "fig_ndvi.update_layout(title='Serie de tiempo NDVI',\n",
    "                       xaxis_title='Mes',\n",
    "                       yaxis_title='Índice de Vegetación')\n",
    "\n",
    "fig_ndvi.show()"
   ]
  }
 ]
}