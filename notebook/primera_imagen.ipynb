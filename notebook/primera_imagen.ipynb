{
 "metadata": {
  "language_info": {
   "codemirror_mode": {
    "name": "ipython",
    "version": 3
   },
   "file_extension": ".py",
   "mimetype": "text/x-python",
   "name": "python",
   "nbconvert_exporter": "python",
   "pygments_lexer": "ipython3",
   "version": "3.8.5-final"
  },
  "orig_nbformat": 2,
  "kernelspec": {
   "name": "python3",
   "display_name": "Python 3",
   "language": "python"
  }
 },
 "nbformat": 4,
 "nbformat_minor": 2,
 "cells": [
  {
   "source": [
    "#### Primera imágen con GEE\n",
    "**Autor:** Javier Martínez\n",
    "\n",
    "**Tutor:** Isabel LLatas\n",
    "\n",
    "\n",
    "En el presente ejemplo se cargará la imagen *srtm90_v4* para validar la inatalación y funcionamiento \n",
    "de *Google Earth Engine*. Por lo que;\n",
    "\n",
    "1. Se importa el módulo gee.\n",
    "2. Se da inicio de la API.\n",
    "3. Se descarga la imagen.\n",
    "4. Print de los resultados alcanzados.\n",
    "\n",
    "Para visualizar la información es recomendable usar [Jupyter nbview](https://nbviewer.jupyter.org/github/esglobe/gee-manual/blob/master/catalogue/primera_imagen.ipynb)."
   ],
   "cell_type": "markdown",
   "metadata": {}
  },
  {
   "cell_type": "code",
   "execution_count": 3,
   "metadata": {},
   "outputs": [
    {
     "output_type": "stream",
     "name": "stdout",
     "text": [
      "{'type': 'Image', 'bands': [{'id': 'elevation', 'data_type': {'type': 'PixelType', 'precision': 'int', 'min': -32768, 'max': 32767}, 'dimensions': [432000, 144000], 'crs': 'EPSG:4326', 'crs_transform': [0.000833333333333, 0, -180, 0, -0.000833333333333, 60]}], 'version': 1494271934303000.0, 'id': 'srtm90_v4', 'properties': {'system:time_start': 950227200000, 'system:time_end': 951177600000, 'system:asset_size': 18827626666}}\n"
     ]
    }
   ],
   "source": [
    "# Módulo\n",
    "import ee\n",
    "\n",
    "# Iniciando API\n",
    "ee.Initialize()\n",
    "\n",
    "# Cargando Imagen\n",
    "image = ee.Image('srtm90_v4')\n",
    "\n",
    "# Print resultados\n",
    "print(image.getInfo())"
   ]
  }
 ]
}